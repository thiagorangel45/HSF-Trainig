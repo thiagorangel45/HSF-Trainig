{
 "cells": [
  {
   "cell_type": "code",
   "execution_count": 15,
   "metadata": {},
   "outputs": [
    {
     "name": "stdout",
     "output_type": "stream",
     "text": [
      "weight: 70 height: 1.8\n",
      "Patient's BMI (weight: 70.000000, height: 1.800000) is: 0.000367\n",
      "weight: 80 height: 1.9\n",
      "Patient's BMI (weight: 80.000000, height: 1.900000) is: 0.000297\n",
      "weight: 150 height: 1.7\n",
      "Patient's BMI (weight: 150.000000, height: 1.700000) is: 0.000076\n"
     ]
    }
   ],
   "source": [
    "patients = [[70, 1.8], [80, 1.9], [150, 1.7]]\n",
    "\n",
    "def calculate_bmi(weight, height):\n",
    "    return weight / (height ** 2)\n",
    "\n",
    "for patient in patients:\n",
    "    weight, height = patient[0], patient[1]\n",
    "    bmi = calculate_bmi(height, weight)\n",
    "    print('weight:', weight, 'height:', height)\n",
    "    print(\"Patient's BMI (weight: %f, height: %f) is: %f\" % (weight, height, bmi))"
   ]
  }
 ],
 "metadata": {
  "kernelspec": {
   "display_name": "ROOT",
   "language": "python",
   "name": "python3"
  },
  "language_info": {
   "codemirror_mode": {
    "name": "ipython",
    "version": 3
   },
   "file_extension": ".py",
   "mimetype": "text/x-python",
   "name": "python",
   "nbconvert_exporter": "python",
   "pygments_lexer": "ipython3",
   "version": "3.11.7"
  }
 },
 "nbformat": 4,
 "nbformat_minor": 2
}
