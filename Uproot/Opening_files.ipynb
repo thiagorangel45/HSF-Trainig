{
 "cells": [
  {
   "cell_type": "code",
   "execution_count": 1,
   "metadata": {},
   "outputs": [],
   "source": [
    "import uproot"
   ]
  },
  {
   "cell_type": "code",
   "execution_count": 3,
   "metadata": {},
   "outputs": [
    {
     "data": {
      "text/plain": [
       "<ReadOnlyDirectory '/' at 0x000106674b10>"
      ]
     },
     "execution_count": 3,
     "metadata": {},
     "output_type": "execute_result"
    }
   ],
   "source": [
    "file = uproot.open('uproot-tutorial-file.root')\n",
    "file"
   ]
  },
  {
   "cell_type": "code",
   "execution_count": 5,
   "metadata": {},
   "outputs": [
    {
     "name": "stdout",
     "output_type": "stream",
     "text": [
      "['Events;1']\n",
      "{'Events;1': 'TTree'}\n"
     ]
    }
   ],
   "source": [
    "print(file.keys())\n",
    "\n",
    "print(file.classnames())"
   ]
  },
  {
   "cell_type": "code",
   "execution_count": 9,
   "metadata": {},
   "outputs": [
    {
     "data": {
      "text/plain": [
       "['nMuon', 'Muon_pt', 'Muon_eta', 'Muon_phi', 'Muon_mass', 'Muon_charge']"
      ]
     },
     "execution_count": 9,
     "metadata": {},
     "output_type": "execute_result"
    }
   ],
   "source": [
    "file['Events'] # transformando em um array\n",
    "\n",
    "tree = file['Events']\n",
    "tree.keys()"
   ]
  },
  {
   "cell_type": "code",
   "execution_count": 11,
   "metadata": {},
   "outputs": [],
   "source": [
    "tree.arrays()\n",
    "\n",
    "branches = tree.arrays()"
   ]
  },
  {
   "cell_type": "code",
   "execution_count": 13,
   "metadata": {},
   "outputs": [
    {
     "data": {
      "text/html": [
       "<pre>[[10.8, 15.7],\n",
       " [10.5, 16.3],\n",
       " [3.28],\n",
       " [11.4, 17.6, 9.62, 3.5],\n",
       " [3.28, 3.64, 32.9, 23.7],\n",
       " [3.57, 4.57, 4.37],\n",
       " [57.6, 53],\n",
       " [11.3, 23.9],\n",
       " [10.2, 14.2],\n",
       " [11.5, 3.47],\n",
       " ...,\n",
       " [17.3, 4.57, 5.96],\n",
       " [9.58, 3.33],\n",
       " [9.48],\n",
       " [],\n",
       " [30.3, 9.89, 6.69],\n",
       " [46.4, 43.9],\n",
       " [6.34, 6.98, 5.09],\n",
       " [3.31, 15.7],\n",
       " [11.4, 3.08, 4.97]]\n",
       "----------------------------\n",
       "type: 100000 * var * float32</pre>"
      ],
      "text/plain": [
       "<Array [[10.8, 15.7], ..., [11.4, ..., 4.97]] type='100000 * var * float32'>"
      ]
     },
     "execution_count": 13,
     "metadata": {},
     "output_type": "execute_result"
    }
   ],
   "source": [
    "branches['nMuon']\n",
    "branches['Muon_pt']"
   ]
  },
  {
   "cell_type": "code",
   "execution_count": 16,
   "metadata": {},
   "outputs": [
    {
     "name": "stdout",
     "output_type": "stream",
     "text": [
      "[10.8, 15.7]\n",
      "[3.28]\n"
     ]
    }
   ],
   "source": [
    "print(branches['Muon_pt'][0])\n",
    "\n",
    "print(branches['Muon_pt'][2])"
   ]
  },
  {
   "cell_type": "code",
   "execution_count": 17,
   "metadata": {},
   "outputs": [
    {
     "name": "stdout",
     "output_type": "stream",
     "text": [
      "[10.8, 15.7]\n",
      "[10.5, 16.3]\n",
      "[3.28]\n",
      "[11.4, 17.6, 9.62, 3.5]\n",
      "[3.28, 3.64, 32.9, 23.7]\n",
      "[3.57, 4.57, 4.37]\n",
      "[57.6, 53]\n",
      "[11.3, 23.9]\n",
      "[10.2, 14.2]\n",
      "[11.5, 3.47]\n"
     ]
    }
   ],
   "source": [
    "for i in range(10):\n",
    "    print(branches['Muon_pt'][i])"
   ]
  },
  {
   "cell_type": "code",
   "execution_count": 19,
   "metadata": {},
   "outputs": [
    {
     "data": {
      "text/plain": [
       "{'nMuon': 2,\n",
       " 'Muon_pt': [10.763696670532227, 15.736522674560547],\n",
       " 'Muon_eta': [1.0668272972106934, -0.563786506652832],\n",
       " 'Muon_phi': [-0.03427272289991379, 2.5426154136657715],\n",
       " 'Muon_mass': [0.10565836727619171, 0.10565836727619171],\n",
       " 'Muon_charge': [-1, -1]}"
      ]
     },
     "execution_count": 19,
     "metadata": {},
     "output_type": "execute_result"
    }
   ],
   "source": [
    "branches[0]\n",
    "branches[0].tolist()"
   ]
  },
  {
   "cell_type": "code",
   "execution_count": null,
   "metadata": {},
   "outputs": [],
   "source": []
  }
 ],
 "metadata": {
  "kernelspec": {
   "display_name": "ROOT",
   "language": "python",
   "name": "python3"
  },
  "language_info": {
   "codemirror_mode": {
    "name": "ipython",
    "version": 3
   },
   "file_extension": ".py",
   "mimetype": "text/x-python",
   "name": "python",
   "nbconvert_exporter": "python",
   "pygments_lexer": "ipython3",
   "version": "3.11.7"
  }
 },
 "nbformat": 4,
 "nbformat_minor": 2
}
