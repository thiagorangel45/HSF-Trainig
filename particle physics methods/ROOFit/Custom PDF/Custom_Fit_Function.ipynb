{
 "cells": [
  {
   "cell_type": "code",
   "execution_count": 1,
   "metadata": {},
   "outputs": [
    {
     "name": "stdout",
     "output_type": "stream",
     "text": [
      "Welcome to JupyROOT 6.30/02\n"
     ]
    }
   ],
   "source": [
    "import ROOT\n",
    "import numpy as np\n",
    "from scipy.stats import rv_continuous\n",
    "from tqdm import tqdm\n",
    "from matplotlib import pyplot as plt"
   ]
  },
  {
   "cell_type": "code",
   "execution_count": 2,
   "metadata": {},
   "outputs": [],
   "source": [
    "def normalize(hist):\n",
    "    integral = 0.0\n",
    "    for i in range(hist.GetNbinsX()+1):\n",
    "        integral += hist.GetBinContent(i) * hist.GetBinWidth(i)\n",
    "    hist.Scale(1.0 / integral)\n",
    "    return hist"
   ]
  },
  {
   "cell_type": "code",
   "execution_count": 3,
   "metadata": {},
   "outputs": [],
   "source": [
    "class pathological_pdf(rv_continuous):\n",
    "    def _pdf(self, x, a, b):\n",
    "        return (-a*(x**2) + b) / 10.66667"
   ]
  },
  {
   "cell_type": "code",
   "execution_count": 4,
   "metadata": {},
   "outputs": [
    {
     "name": "stdout",
     "output_type": "stream",
     "text": [
      "Creating data...\n",
      "Data created\n"
     ]
    }
   ],
   "source": [
    "#--------------------------------\n",
    "# produce data\n",
    "# -------------------------------\n",
    "\n",
    "# true vals\n",
    "a_true = 2.0\n",
    "b_true = 8\n",
    "\n",
    "n_points = 10000\n",
    "x_min = 0\n",
    "x_max = 2.0\n",
    "\n",
    "# create data\n",
    "my_pdf = pathological_pdf(a=x_min, b=x_max,\n",
    "                          shapes='a,b')\n",
    "print(\"Creating data...\")\n",
    "vals = my_pdf.rvs(a_true,\n",
    "                  b_true,\n",
    "                  size=n_points)\n",
    "print(\"Data created\")"
   ]
  },
  {
   "cell_type": "code",
   "execution_count": 5,
   "metadata": {},
   "outputs": [],
   "source": [
    "#---------------------------------\n",
    "# set up RooFit model\n",
    "# --------------------------------\n",
    "x_roo = ROOT.RooRealVar(\"x\",\"x\", x_min, max(vals))\n",
    "a_roo = ROOT.RooRealVar(\"a\", \"a\", 1, 0, 10)\n",
    "b_roo = ROOT.RooRealVar(\"b\", \"b\", 1, 0, 10)\n",
    "\n",
    "\n",
    "roo_pdf = ROOT.RooGenericPdf(\"roo_pdf\",\n",
    "                             \"(-a*pow(x,2) + b)\", [x_roo, a_roo, b_roo])"
   ]
  },
  {
   "cell_type": "code",
   "execution_count": 6,
   "metadata": {},
   "outputs": [],
   "source": [
    "#----------------------------------\n",
    "# fit to data\n",
    "#----------------------------------\n",
    "\n",
    "# make a RooDataSet from the random gaussian set from earlier\n",
    "data = ROOT.RooDataSet.from_numpy({'x':vals}, [x_roo])\n",
    "\n",
    "# fit to data\n",
    "roo_pdf.fitTo(data)\n",
    "\n",
    "# print fit parameters\n",
    "print(a_roo)\n",
    "print(b_roo)"
   ]
  },
  {
   "cell_type": "code",
   "execution_count": null,
   "metadata": {},
   "outputs": [],
   "source": [
    "#----------------------------------\n",
    "# plot\n",
    "#----------------------------------\n",
    "# create data histogram\n",
    "hist = ROOT.TH1F(\"hist\", \"hist\", 30, 0, x_max)\n",
    "for val in vals:\n",
    "    hist.Fill(val)\n",
    "hist = normalize(hist)\n",
    "hist.SetStats(0)\n",
    "\n",
    "# create fit histogram\n",
    "fit_hist = ROOT.TH1F(\"fit\", \"fit\", 100, 0, x_max)\n",
    "for i in range(100):\n",
    "    x = fit_hist.GetBinCenter(i)\n",
    "    val = (-1 * a_roo.getVal() * x**2) + b_roo.getVal()\n",
    "\n",
    "    fit_hist.SetBinContent(i, val)\n",
    "fit_hist = normalize(fit_hist)\n",
    "\n",
    "hist.SetLineWidth(3)\n",
    "fit_hist.SetLineWidth(3)\n",
    "fit_hist.SetFillStyle(0)\n",
    "fit_hist.SetLineColor(ROOT.kRed-6)\n",
    "\n",
    "leg = ROOT.TLegend()\n",
    "leg.AddEntry(hist, 'Data', 'lep')\n",
    "leg.AddEntry(fit_hist, 'Fit', 'l')\n",
    "\n",
    "# plot\n",
    "canvas = ROOT.TCanvas()\n",
    "hist.Draw()\n",
    "fit_hist.Draw(\"hist, c, same\")\n",
    "leg.Draw('same')\n",
    "canvas.Update()\n",
    "canvas.SaveAs(\"custom-function.png\")"
   ]
  }
 ],
 "metadata": {
  "kernelspec": {
   "display_name": "ROOT",
   "language": "python",
   "name": "python3"
  },
  "language_info": {
   "codemirror_mode": {
    "name": "ipython",
    "version": 3
   },
   "file_extension": ".py",
   "mimetype": "text/x-python",
   "name": "python",
   "nbconvert_exporter": "python",
   "pygments_lexer": "ipython3",
   "version": "3.11.7"
  }
 },
 "nbformat": 4,
 "nbformat_minor": 2
}
