{
 "cells": [
  {
   "cell_type": "code",
   "execution_count": 1,
   "metadata": {},
   "outputs": [
    {
     "name": "stdout",
     "output_type": "stream",
     "text": [
      "Welcome to JupyROOT 6.30/02\n"
     ]
    }
   ],
   "source": [
    "import ROOT\n",
    "import numpy as np"
   ]
  },
  {
   "cell_type": "code",
   "execution_count": 2,
   "metadata": {},
   "outputs": [],
   "source": [
    "data_values = np.genfromtxt(\"homework-dataset.csv\")"
   ]
  },
  {
   "cell_type": "code",
   "execution_count": 3,
   "metadata": {},
   "outputs": [
    {
     "name": "stdout",
     "output_type": "stream",
     "text": [
      "[#0] WARNING:InputArguments -- The parameter 'sigma' with range [0, 40] of the RooGaussian 'sig' exceeds the safe range of (0, inf). Advise to limit its range.\n"
     ]
    }
   ],
   "source": [
    "#--------------------------------\n",
    "# make model\n",
    "#-------------------------------\n",
    "# this is the distribution we'll be looking at\n",
    "mass = ROOT.RooRealVar(\"mass\", \"mass\", 0, 200)\n",
    "\n",
    "# background variables\n",
    "c = ROOT.RooRealVar(\"c\", \"c\", -0.1, -1, 0)\n",
    "\n",
    "# signal variables\n",
    "# we want to find a particle in the 100 --> 150 GeV range\n",
    "mean = ROOT.RooRealVar(\"mean\", \"mean\",    100, 100, 150)\n",
    "sigma = ROOT.RooRealVar(\"sigma\", \"sigma\", 1, 0, 40)\n",
    "\n",
    "\n",
    "# what fraction is signal\n",
    "# initial guess = half\n",
    "fsig = ROOT.RooRealVar(\"fsig\", \"fsig\", 0.5, 0, 1)\n",
    "\n",
    "# background\n",
    "sig = ROOT.RooGaussian(\"sig\", \"sig\",\n",
    "                       mass, mean, sigma)\n",
    "# background\n",
    "bkg = ROOT.RooExponential(\"bkg\", \"bkg\",\n",
    "                          mass, c)\n",
    "\n",
    "# total model is the sum of those\n",
    "model = ROOT.RooAddPdf(\"model\", \"model\",\n",
    "                       ROOT.RooArgList(sig, bkg), fsig)"
   ]
  },
  {
   "cell_type": "code",
   "execution_count": 4,
   "metadata": {},
   "outputs": [
    {
     "name": "stdout",
     "output_type": "stream",
     "text": [
      "RooRealVar::mean = 129.744 +/- 0.310208  L(100 - 150) \n",
      "\n",
      "RooRealVar::sigma = 12.3019 +/- 0.292411  L(0 - 40) \n",
      "\n",
      "RooRealVar::c = -0.0251849 +/- 0.000117131  L(-1 - 0) \n",
      "\n",
      "RooRealVar::fsig = 0.0505672 +/- 0.00127827  L(0 - 1) \n",
      "\n",
      "[#0] WARNING:DataHandling -- RooDataSet.from_numpy() Ignored 636 out-of-range events\n",
      "[#1] INFO:Minimization -- RooAbsMinimizerFcn::setOptimizeConst: activating const optimization\n",
      "[#1] INFO:Minimization --  The following expressions will be evaluated in cache-and-track mode: (sig,bkg)\n",
      "Minuit2Minimizer: Minimize with max-calls 2000 convergence for edm < 1 strategy 1\n",
      "Minuit2Minimizer : Valid minimum - status = 0\n",
      "FVAL  = 470651.759200936765\n",
      "Edm   = 1.74249795643042809e-06\n",
      "Nfcn  = 400\n",
      "c\t  = -0.0251849\t +/-  0.000116751\t(limited)\n",
      "fsig\t  = 0.0505672\t +/-  0.00127302\t(limited)\n",
      "mean\t  = 129.744\t +/-  0.310299\t(limited)\n",
      "sigma\t  = 12.3019\t +/-  0.291639\t(limited)\n",
      "[#1] INFO:Minimization -- RooAbsMinimizerFcn::setOptimizeConst: deactivating const optimization\n"
     ]
    },
    {
     "name": "stderr",
     "output_type": "stream",
     "text": [
      "Info in <Minuit2>: MnSeedGenerator Computing seed using NumericalGradient calculator\n",
      "Info in <Minuit2>: MnSeedGenerator Initial state: FCN =       710480.3221 Edm =       227449.5745 NCalls =     19\n",
      "Info in <Minuit2>: NegativeG2LineSearch Doing a NegativeG2LineSearch since one of the G2 component is negative\n",
      "Info in <Minuit2>: MnSeedGenerator Negative G2 found - new state: \n",
      "  Minimum value : 498383.5334\n",
      "  Edm           : 33556.507\n",
      "  Internal parameters:\t[      0.927295218                0     -1.370461484     0.8049223377]\t\n",
      "  Internal gradient  :\t[     -115282.3162      15037.77132      3857.955329     -11506.55608]\t\n",
      "  Internal covariance matrix:\n",
      "[[  8.8329672e-06              0              0              0]\n",
      " [              0  2.6749729e-05              0              0]\n",
      " [              0              0  0.00010318776              0]\n",
      " [              0              0              0  6.9870537e-05]]]\n",
      "Info in <Minuit2>: MnSeedGenerator Initial state  \n",
      "  Minimum value : 498383.5334\n",
      "  Edm           : 33556.507\n",
      "  Internal parameters:\t[      0.927295218                0     -1.370461484     0.8049223377]\t\n",
      "  Internal gradient  :\t[     -115282.3162      15037.77132      3857.955329     -11506.55608]\t\n",
      "  Internal covariance matrix:\n",
      "[[  8.8329672e-06              0              0              0]\n",
      " [              0  2.6749729e-05              0              0]\n",
      " [              0              0  0.00010318776              0]\n",
      " [              0              0              0  6.9870537e-05]]]\n",
      "Info in <Minuit2>: VariableMetricBuilder Start iterating until Edm is < 0.001 with call limit = 2000\n",
      "Info in <Minuit2>: VariableMetricBuilder    0 - FCN =       498383.5334 Edm =         33556.507 NCalls =     38\n",
      "Info in <Minuit2>: VariableMetricBuilder    1 - FCN =       480894.8859 Edm =       6772.862964 NCalls =     54\n",
      "Info in <Minuit2>: VariableMetricBuilder    2 - FCN =       474363.5045 Edm =       3665.231467 NCalls =     70\n",
      "Info in <Minuit2>: VariableMetricBuilder    3 - FCN =       471789.2567 Edm =       189.9656763 NCalls =     84\n",
      "Info in <Minuit2>: VariableMetricBuilder    4 - FCN =       471428.1977 Edm =       12.15668891 NCalls =     97\n",
      "Info in <Minuit2>: VariableMetricBuilder    5 - FCN =       471413.3875 Edm =        1.17258914 NCalls =    107\n",
      "Info in <Minuit2>: VariableMetricBuilder    6 - FCN =       471411.8321 Edm =       0.056876639 NCalls =    117\n",
      "Info in <Minuit2>: VariableMetricBuilder    7 - FCN =       471411.3239 Edm =      0.3799794167 NCalls =    128\n",
      "Info in <Minuit2>: VariableMetricBuilder    8 - FCN =       471405.7026 Edm =      0.2378438812 NCalls =    143\n",
      "Info in <Minuit2>: VariableMetricBuilder    9 - FCN =       471405.3608 Edm =     0.02256465385 NCalls =    153\n",
      "Info in <Minuit2>: VariableMetricBuilder   10 - FCN =       471405.3236 Edm =    0.000896769558 NCalls =    163\n",
      "Info in <Minuit2>: VariableMetricBuilder   11 - FCN =       471405.3002 Edm =     0.03216617446 NCalls =    175\n",
      "Warning in <Minuit2>: DavidonErrorUpdator delgam < 0 : first derivatives increasing along search line (details in info log)\n",
      "Info in <Minuit2>: DavidonErrorUpdator Explanation:\n",
      "   The distance from the minimum cannot be estimated, since the minimized\n",
      "   function seems not to be strictly convex in the space probed by the fit.\n",
      "   That is expected if the starting parameters are e.g. close to a local maximum\n",
      "   of the minimized function. If this function is expected to be fully convex\n",
      "   in the probed range or Minuit is already close to the function minimum, this\n",
      "   may hint to numerical or analytical issues with the minimized function.\n",
      "   This was found by projecting the difference of gradients at two points, s0 and p1,\n",
      "   onto the direction given by the difference of s0 and p1, where:\n",
      " * s0:  \t[      1.226757127    -0.8062538326     -1.545332597       1.58988256]\t \n",
      " * p1:  \t[      1.228257681    -0.8157346828     -1.274989074      1.745097594]\t \n",
      " * gradient at s0:  \t[      136.3662049     -1.876222848     -8.745045424       1.84642158]\t \n",
      " * gradient at p1:  \t[      1489.058604      163.5176726     -88.41334261      9.658230661]\t \n",
      "   To understand whether this hints to an issue in the minimized function,\n",
      "   the minimized function can be plotted along points between s0 and p1 to\n",
      "   look for unexpected behavior.\n",
      "Info in <Minuit2>: VariableMetricBuilder   12 - FCN =       471392.8756 Edm =       2.455035899 NCalls =    192\n",
      "Warning in <Minuit2>: VariableMetricBuilder Matrix not pos.def, gdel = 23.7454 > 0\n",
      "Warning in <Minuit2>: MnPosDef non-positive diagonal element in covariance matrix[ 2 ] = -0.00340185\n",
      "Warning in <Minuit2>: MnPosDef Added to diagonal of Error matrix a value 0.503402\n",
      "Warning in <Minuit2>: VariableMetricBuilder gdel = -1.13361e+06\n",
      "Info in <Minuit2>: VariableMetricBuilder   13 - FCN =       471392.2139 Edm =       21456.77621 NCalls =    207\n",
      "Info in <Minuit2>: VariableMetricBuilder   14 - FCN =       471386.3093 Edm =        43184.3389 NCalls =    218\n",
      "Info in <Minuit2>: VariableMetricBuilder   15 - FCN =        471374.813 Edm =       1211.573815 NCalls =    233\n",
      "Info in <Minuit2>: VariableMetricBuilder   16 - FCN =       471352.8194 Edm =       156.9444225 NCalls =    252\n",
      "Info in <Minuit2>: VariableMetricBuilder   17 - FCN =       471343.9788 Edm =       70.56814413 NCalls =    262\n",
      "Info in <Minuit2>: VariableMetricBuilder   18 - FCN =       471324.2868 Edm =       69.18864066 NCalls =    272\n",
      "Info in <Minuit2>: VariableMetricBuilder   19 - FCN =       470911.9184 Edm =        15049.3813 NCalls =    293\n",
      "Info in <Minuit2>: VariableMetricBuilder   20 - FCN =       470852.8269 Edm =       134.0827372 NCalls =    306\n",
      "Info in <Minuit2>: VariableMetricBuilder   21 - FCN =       470840.8545 Edm =       39.08592523 NCalls =    316\n",
      "Info in <Minuit2>: VariableMetricBuilder   22 - FCN =       470819.8744 Edm =       3.148226524 NCalls =    326\n",
      "Info in <Minuit2>: VariableMetricBuilder   23 - FCN =        470734.382 Edm =       62.98515726 NCalls =    339\n",
      "Info in <Minuit2>: VariableMetricBuilder   24 - FCN =       470651.9847 Edm =      0.2415388765 NCalls =    349\n",
      "Info in <Minuit2>: VariableMetricBuilder   25 - FCN =       470651.7706 Edm =     0.01366784828 NCalls =    359\n",
      "Info in <Minuit2>: VariableMetricBuilder   26 - FCN =       470651.7592 Edm =   5.616316316e-06 NCalls =    369\n",
      "Info in <Minuit2>: VariableMetricBuilder After Hessian\n",
      "Info in <Minuit2>: VariableMetricBuilder   27 - FCN =       470651.7592 Edm =   1.742497956e-06 NCalls =    400\n",
      "Info in <Minuit2>: Minuit2Minimizer::Hesse Using max-calls 2000\n",
      "Info in <Minuit2>: Minuit2Minimizer::Hesse Hesse is valid - matrix is accurate\n"
     ]
    }
   ],
   "source": [
    "#------------------------------\n",
    "# fit model to data\n",
    "#------------------------------\n",
    "data = ROOT.RooDataSet.from_numpy({'mass': data_values}, [mass])\n",
    "model.fitTo(data)\n",
    "\n",
    "# print values\n",
    "print(mean)\n",
    "print(sigma)\n",
    "print(c)\n",
    "print(fsig)"
   ]
  },
  {
   "cell_type": "code",
   "execution_count": 5,
   "metadata": {},
   "outputs": [
    {
     "name": "stderr",
     "output_type": "stream",
     "text": [
      "Info in <TCanvas::Print>: png file homework-solutions.png has been created\n"
     ]
    }
   ],
   "source": [
    "#-------------------------------\n",
    "# plot results\n",
    "#-------------------------------\n",
    "hist_data = ROOT.TH1F(\"data_hist\", \"\", 50, 0, 200)\n",
    "for v in data_values:\n",
    "    hist_data.Fill(v)\n",
    "\n",
    "# plot bkg only, sig only, and combo\n",
    "bkg_only_graph = ROOT.TGraph()\n",
    "sig_only_graph = ROOT.TGraph()\n",
    "model_graph =    ROOT.TGraph()\n",
    "\n",
    "for v in np.linspace(0, 200, 1000):\n",
    "    mass.setVal(v)\n",
    "    n = bkg_only_graph.GetN()\n",
    "    \n",
    "    bkg_only_graph.SetPoint(n, v, bkg.getVal(mass))\n",
    "    sig_only_graph.SetPoint(n, v, sig.getVal(mass))\n",
    "    model_graph.SetPoint(   n, v, model.getVal(mass))\n",
    "\n",
    "\n",
    "bkg_only_graph.Scale(hist_data.GetBinWidth(1)*len(data_values)*(1.0-fsig.getVal()))\n",
    "sig_only_graph.Scale(hist_data.GetBinWidth(1)*len(data_values)*fsig.getVal())\n",
    "model_graph.Scale(hist_data.GetBinWidth(1)*len(data_values))\n",
    "\n",
    "\n",
    "leg = ROOT.TLegend(0.6, 0.6, 0.88, 0.88)\n",
    "leg.AddEntry(hist_data, \"Data\", \"lep\")\n",
    "leg.AddEntry(bkg_only_graph, \"Background only\", \"l\")\n",
    "leg.AddEntry(sig_only_graph, \"Signal only\", \"l\")\n",
    "leg.AddEntry(model_graph, \"Combined model\", \"l\")\n",
    "\n",
    "\n",
    "hist_data.GetXaxis().SetTitle(\"Mass [GeV]\")\n",
    "hist_data.GetYaxis().SetTitle(\"Events / 4 GeV\")\n",
    "hist_data.SetStats(0)\n",
    "hist_data.SetLineWidth(2)\n",
    "\n",
    "bkg_only_graph.SetLineColor(ROOT.kRed)\n",
    "sig_only_graph.SetLineColor(ROOT.kMagenta)\n",
    "model_graph.SetLineColor(ROOT.kBlack)\n",
    "\n",
    "\n",
    "c = ROOT.TCanvas()\n",
    "hist_data.Draw(\"e0\")\n",
    "bkg_only_graph.Draw(\"c, same\")\n",
    "sig_only_graph.Draw(\"c, same\")\n",
    "model_graph.Draw(\"c, same\")\n",
    "\n",
    "leg.Draw(\"same\")\n",
    "c.SaveAs(\"homework-solutions.png\")"
   ]
  }
 ],
 "metadata": {
  "kernelspec": {
   "display_name": "ROOT",
   "language": "python",
   "name": "python3"
  },
  "language_info": {
   "codemirror_mode": {
    "name": "ipython",
    "version": 3
   },
   "file_extension": ".py",
   "mimetype": "text/x-python",
   "name": "python",
   "nbconvert_exporter": "python",
   "pygments_lexer": "ipython3",
   "version": "3.11.7"
  }
 },
 "nbformat": 4,
 "nbformat_minor": 2
}
