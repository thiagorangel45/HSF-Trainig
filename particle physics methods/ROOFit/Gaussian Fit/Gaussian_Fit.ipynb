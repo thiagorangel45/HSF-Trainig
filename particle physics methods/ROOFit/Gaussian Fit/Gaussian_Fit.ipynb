{
 "cells": [
  {
   "cell_type": "code",
   "execution_count": 8,
   "metadata": {},
   "outputs": [],
   "source": [
    "import ROOT\n",
    "import pandas as pd\n",
    "import numpy as np\n",
    "from scipy.stats import norm"
   ]
  },
  {
   "cell_type": "code",
   "execution_count": 4,
   "metadata": {},
   "outputs": [],
   "source": [
    "mean = 3.2\n",
    "sigma = 1.3\n",
    "gaussian_data = np.random.normal(loc=mean, scale=sigma, size = 10000)"
   ]
  },
  {
   "cell_type": "code",
   "execution_count": 5,
   "metadata": {},
   "outputs": [],
   "source": [
    "x_var = ROOT.RooRealVar(\"x\", \"x\", -20, 20)"
   ]
  },
  {
   "cell_type": "code",
   "execution_count": 6,
   "metadata": {},
   "outputs": [
    {
     "name": "stdout",
     "output_type": "stream",
     "text": [
      "[#0] WARNING:InputArguments -- The parameter 'sigma' with range [0, 10] of the RooGaussian 'gauss' exceeds the safe range of (0, inf). Advise to limit its range.\n"
     ]
    }
   ],
   "source": [
    "mean_var = ROOT.RooRealVar(\"mean\", \"mean of gaussian\", 0, -20, 20)\n",
    "sigma_var = ROOT.RooRealVar(\"sigma\", \"std of gaussian\", 1, 0, 10)\n",
    "\n",
    "# create gaussian PDF using these variables\n",
    "gauss = ROOT.RooGaussian(\"gauss\", \"gaussianPDF\", x_var, mean_var, sigma_var)"
   ]
  },
  {
   "cell_type": "code",
   "execution_count": 7,
   "metadata": {},
   "outputs": [
    {
     "name": "stdout",
     "output_type": "stream",
     "text": [
      "[#1] INFO:Minimization -- RooAbsMinimizerFcn::setOptimizeConst: activating const optimization\n",
      "Minuit2Minimizer: Minimize with max-calls 1000 convergence for edm < 1 strategy 1\n",
      "Minuit2Minimizer : Valid minimum - status = 0\n",
      "FVAL  = 16704.4757186868192\n",
      "Edm   = 1.89964142842937024e-06\n",
      "Nfcn  = 49\n",
      "mean\t  = 3.22185\t +/-  0.0128595\t(limited)\n",
      "sigma\t  = 1.28595\t +/-  0.00909285\t(limited)\n",
      "[#1] INFO:Minimization -- RooAbsMinimizerFcn::setOptimizeConst: deactivating const optimization\n"
     ]
    },
    {
     "name": "stderr",
     "output_type": "stream",
     "text": [
      "Info in <Minuit2>: MnSeedGenerator Computing seed using NumericalGradient calculator\n",
      "Info in <Minuit2>: MnSeedGenerator Initial state: FCN =       69359.35229 Edm =       72063.30371 NCalls =      9\n",
      "Info in <Minuit2>: MnSeedGenerator Initial state  \n",
      "  Minimum value : 69359.35229\n",
      "  Edm           : 72063.30371\n",
      "  Internal parameters:\t[                0     -0.927295218]\t\n",
      "  Internal gradient  :\t[     -644367.6664     -331061.4495]\t\n",
      "  Internal covariance matrix:\n",
      "[[  5.0000223e-07              0]\n",
      " [              0  7.3582302e-07]]]\n",
      "Info in <Minuit2>: VariableMetricBuilder Start iterating until Edm is < 0.001 with call limit = 1000\n",
      "Info in <Minuit2>: VariableMetricBuilder    0 - FCN =       69359.35229 Edm =       72063.30371 NCalls =      9\n",
      "Info in <Minuit2>: VariableMetricBuilder    1 - FCN =       16766.82927 Edm =       2.772534759 NCalls =     18\n",
      "Info in <Minuit2>: VariableMetricBuilder    2 - FCN =       16733.95308 Edm =        7.82382094 NCalls =     26\n",
      "Info in <Minuit2>: VariableMetricBuilder    3 - FCN =        16704.4921 Edm =    0.008400486051 NCalls =     33\n",
      "Info in <Minuit2>: VariableMetricBuilder    4 - FCN =       16704.47572 Edm =   2.258068604e-06 NCalls =     39\n",
      "Info in <Minuit2>: VariableMetricBuilder After Hessian\n",
      "Info in <Minuit2>: VariableMetricBuilder    5 - FCN =       16704.47572 Edm =   1.899641428e-06 NCalls =     49\n",
      "Info in <Minuit2>: Minuit2Minimizer::Hesse Using max-calls 1000\n",
      "Info in <Minuit2>: Minuit2Minimizer::Hesse Hesse is valid - matrix is accurate\n"
     ]
    }
   ],
   "source": [
    "# assign x_var (the RooFit variable) to the gaussian data we made with numpy\n",
    "data = ROOT.RooDataSet.from_numpy({'x':gaussian_data}, [x_var])\n",
    "\n",
    "# fit our model to the data\n",
    "gauss.fitTo(data)\n",
    "\n",
    "# find out what mean and standard deviation it found from the fit\n",
    "roofit_mean = gauss.getMean().getVal()\n",
    "roofit_sigma = gauss.getSigma().getVal()"
   ]
  },
  {
   "cell_type": "code",
   "execution_count": 9,
   "metadata": {},
   "outputs": [],
   "source": [
    "def normalize(hist):\n",
    "    integral = 0.0\n",
    "    for i in range(hist.GetNbinsX()+1):\n",
    "        integral += hist.GetBinContent(i) * hist.GetBinWidth(i)\n",
    "    hist.Scale(1.0 / integral)\n",
    "    return hist"
   ]
  },
  {
   "cell_type": "code",
   "execution_count": 10,
   "metadata": {},
   "outputs": [],
   "source": [
    "cb_data = np.genfromtxt('crystal-ball-dataset.txt')\n",
    "x_min = min(cb_data)\n",
    "x_max = max(cb_data)"
   ]
  },
  {
   "cell_type": "code",
   "execution_count": 11,
   "metadata": {},
   "outputs": [],
   "source": [
    "m0 = ROOT.RooRealVar('m0', 'm0',                1, 1e-6, 1e6)\n",
    "sigma = ROOT.RooRealVar('sigma', 'sigma',       1, 1e-6, 1e6)\n",
    "alpha_l = ROOT.RooRealVar('alpha_l', 'alpha_l', 1, 1e-6, 1e6)\n",
    "alpha_r = ROOT.RooRealVar('alpha_r', 'alpha_r', 1, 1e-6, 1e6)\n",
    "eta_l = ROOT.RooRealVar('eta_l', 'eta_l',       1, 1e-6, 1e6)\n",
    "eta_r = ROOT.RooRealVar('eta_r', 'eta_r',       1, 1e-6, 1e6)\n",
    "\n",
    "x = ROOT.RooRealVar(\"x\", \"x\", x_min, x_max)\n",
    "crystal_ball = ROOT.RooCrystalBall(\"cb\", \"cb\", x, m0,\n",
    "                                   sigma,\n",
    "                                   alpha_l, eta_l,\n",
    "                                   alpha_r, eta_r)"
   ]
  },
  {
   "cell_type": "code",
   "execution_count": 12,
   "metadata": {},
   "outputs": [
    {
     "data": {
      "text/plain": [
       "<cppyy.gbl.RooFitResult object at 0x0>"
      ]
     },
     "execution_count": 12,
     "metadata": {},
     "output_type": "execute_result"
    },
    {
     "name": "stdout",
     "output_type": "stream",
     "text": [
      "[#1] INFO:Minimization -- RooAbsMinimizerFcn::setOptimizeConst: activating const optimization\n",
      "Minuit2Minimizer: Minimize with max-calls 3000 convergence for edm < 1 strategy 1\n",
      "Minuit2Minimizer : Valid minimum - status = 0\n",
      "FVAL  = 32744.5427988570918\n",
      "Edm   = 7.52086370688576831e-06\n",
      "Nfcn  = 248\n",
      "alpha_l\t  = 2.03235\t +/-  0.056049\t(limited)\n",
      "alpha_r\t  = 1.00021\t +/-  0.0476832\t(limited)\n",
      "eta_l\t  = 0.23916\t +/-  0.0551381\t(limited)\n",
      "eta_r\t  = 1.88876\t +/-  0.166527\t(limited)\n",
      "m0\t  = 1.41816\t +/-  0.0587834\t(limited)\n",
      "sigma\t  = 3.03037\t +/-  0.0572285\t(limited)\n",
      "[#1] INFO:Minimization -- RooAbsMinimizerFcn::setOptimizeConst: deactivating const optimization\n"
     ]
    },
    {
     "name": "stderr",
     "output_type": "stream",
     "text": [
      "Info in <Minuit2>: MnSeedGenerator Computing seed using NumericalGradient calculator\n",
      "Info in <Minuit2>: MnSeedGenerator Initial state: FCN =       33587.06208 Edm =       827.2494012 NCalls =     25\n",
      "Info in <Minuit2>: MnSeedGenerator Initial state  \n",
      "  Minimum value : 33587.06208\n",
      "  Edm           : 827.2494012\n",
      "  Internal parameters:\t[     -1.568796327     -1.568796327     -1.568796327     -1.568796327     -1.568796327     -1.568796327]\t\n",
      "  Internal gradient  :\t[     -372598.2049      1744863.923     -486752.0064      634515.5183     -383250.2519     -919505.6545]\t\n",
      "  Internal covariance matrix:\n",
      "[[  4.1001609e-10              0              0              0              0              0]\n",
      " [              0  2.9576039e-10              0              0              0              0]\n",
      " [              0              0  6.9145391e-10              0              0              0]\n",
      " [              0              0              0  5.1528756e-10              0              0]\n",
      " [              0              0              0              0  4.5424041e-09              0]\n",
      " [              0              0              0              0              0  1.5531122e-09]]]\n",
      "Info in <Minuit2>: VariableMetricBuilder Start iterating until Edm is < 0.001 with call limit = 3000\n",
      "Info in <Minuit2>: VariableMetricBuilder    0 - FCN =       33587.06208 Edm =       827.2494012 NCalls =     25\n",
      "Info in <Minuit2>: VariableMetricBuilder    1 - FCN =       33244.99014 Edm =       199.5474898 NCalls =     41\n",
      "Info in <Minuit2>: VariableMetricBuilder    2 - FCN =       33077.53174 Edm =       104.9514376 NCalls =     56\n",
      "Info in <Minuit2>: VariableMetricBuilder    3 - FCN =       32838.35549 Edm =        16.8549373 NCalls =     76\n",
      "Info in <Minuit2>: VariableMetricBuilder    4 - FCN =       32820.85724 Edm =        1.15283252 NCalls =     89\n",
      "Info in <Minuit2>: VariableMetricBuilder    5 - FCN =       32816.58548 Edm =       4.265505883 NCalls =    103\n",
      "Info in <Minuit2>: VariableMetricBuilder    6 - FCN =       32770.64711 Edm =       20.22383244 NCalls =    121\n",
      "Info in <Minuit2>: VariableMetricBuilder    7 - FCN =       32751.28384 Edm =       3.876344736 NCalls =    135\n",
      "Info in <Minuit2>: VariableMetricBuilder    8 - FCN =        32748.0139 Edm =       2.954660445 NCalls =    148\n",
      "Info in <Minuit2>: VariableMetricBuilder    9 - FCN =       32744.89336 Edm =      0.2987932108 NCalls =    163\n",
      "Info in <Minuit2>: VariableMetricBuilder   10 - FCN =       32744.55552 Edm =    0.001995009365 NCalls =    177\n",
      "Info in <Minuit2>: VariableMetricBuilder   11 - FCN =       32744.55324 Edm =   0.0002664393847 NCalls =    191\n",
      "Info in <Minuit2>: VariableMetricBuilder After Hessian\n",
      "Info in <Minuit2>: VariableMetricBuilder   12 - FCN =       32744.55324 Edm =     0.01053314432 NCalls =    235\n",
      "Info in <Minuit2>: VariableMetricBuilder Tolerance not sufficient, continue minimization; Edm 0.0105331 Required 0.001\n",
      "Info in <Minuit2>: VariableMetricBuilder   13 - FCN =        32744.5428 Edm =   7.520863707e-06 NCalls =    248\n",
      "Info in <Minuit2>: Minuit2Minimizer::Hesse Using max-calls 3000\n",
      "Info in <Minuit2>: Minuit2Minimizer::Hesse Hesse is valid - matrix is accurate\n"
     ]
    }
   ],
   "source": [
    "data = ROOT.RooDataSet.from_numpy({'x':cb_data}, [x])\n",
    "crystal_ball.fitTo(data)"
   ]
  },
  {
   "cell_type": "code",
   "execution_count": 13,
   "metadata": {},
   "outputs": [
    {
     "name": "stdout",
     "output_type": "stream",
     "text": [
      "Fitted results\n",
      "RooRealVar::m0 = 1.41816 +/- 0.0586263  L(1e-06 - 1e+06) \n",
      "\n",
      "RooRealVar::sigma = 3.03037 +/- 0.056882  L(1e-06 - 1e+06) \n",
      "\n",
      "RooRealVar::alpha_l = 2.03235 +/- 0.0555292  L(1e-06 - 1e+06) \n",
      "\n",
      "RooRealVar::alpha_r = 1.00021 +/- 0.0476335  L(1e-06 - 1e+06) \n",
      "\n",
      "RooRealVar::eta_l = 0.23916 +/- 0.0547321  L(1e-06 - 1e+06) \n",
      "\n",
      "RooRealVar::eta_r = 1.88876 +/- 0.165347  L(1e-06 - 1e+06) \n",
      "\n"
     ]
    }
   ],
   "source": [
    "print('Fitted results')\n",
    "print(m0)\n",
    "print(sigma)\n",
    "print(alpha_l)\n",
    "print(alpha_r)\n",
    "print(eta_l)\n",
    "print(eta_r)"
   ]
  },
  {
   "cell_type": "code",
   "execution_count": 14,
   "metadata": {},
   "outputs": [
    {
     "name": "stderr",
     "output_type": "stream",
     "text": [
      "Info in <TCanvas::Print>: png file crystal-ball.png has been created\n"
     ]
    }
   ],
   "source": [
    "# plot the gaussian data on a histogram\n",
    "h = ROOT.TH1F(\"cb\", \"cb\", 50, x_min, x_max)\n",
    "for v in cb_data:\n",
    "    h.Fill(v)\n",
    "h = normalize(h)\n",
    "    \n",
    "# draw tgraph of fit line\n",
    "fit_graph = ROOT.TGraph()\n",
    "for v in np.linspace(x_min, x_max, 50000):\n",
    "    x.setVal(v)\n",
    "    fit_graph.SetPoint(fit_graph.GetN(), # set next point\n",
    "                       v, # with this x\n",
    "                       crystal_ball.getVal(x)) # and this y\n",
    "\n",
    "# add legend\n",
    "leg = ROOT.TLegend()\n",
    "leg.AddEntry(h, 'Crystal Ball Data', 'lep')\n",
    "leg.AddEntry(fit_graph, 'Fit', 'l')\n",
    "\n",
    "# plot on canvas\n",
    "c = ROOT.TCanvas()\n",
    "h.Draw()\n",
    "fit_graph.Draw('c, same')\n",
    "leg.Draw('same')\n",
    "c.SaveAs(\"crystal-ball.png\")"
   ]
  },
  {
   "cell_type": "code",
   "execution_count": null,
   "metadata": {},
   "outputs": [],
   "source": []
  }
 ],
 "metadata": {
  "kernelspec": {
   "display_name": "ROOT",
   "language": "python",
   "name": "python3"
  },
  "language_info": {
   "codemirror_mode": {
    "name": "ipython",
    "version": 3
   },
   "file_extension": ".py",
   "mimetype": "text/x-python",
   "name": "python",
   "nbconvert_exporter": "python",
   "pygments_lexer": "ipython3",
   "version": "3.11.7"
  }
 },
 "nbformat": 4,
 "nbformat_minor": 2
}
