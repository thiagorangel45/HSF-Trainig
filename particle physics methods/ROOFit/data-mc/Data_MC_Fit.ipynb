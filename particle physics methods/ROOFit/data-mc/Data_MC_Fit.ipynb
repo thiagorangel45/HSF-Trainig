{
 "cells": [
  {
   "cell_type": "code",
   "execution_count": 1,
   "metadata": {},
   "outputs": [
    {
     "name": "stdout",
     "output_type": "stream",
     "text": [
      "Welcome to JupyROOT 6.30/02\n"
     ]
    }
   ],
   "source": [
    "import numpy as np\n",
    "import ROOT"
   ]
  },
  {
   "cell_type": "code",
   "execution_count": 2,
   "metadata": {},
   "outputs": [],
   "source": [
    "def fill_hist_with_sample(hist, sample):\n",
    "    for val in sample:\n",
    "        hist.Fill(val)"
   ]
  },
  {
   "cell_type": "code",
   "execution_count": 3,
   "metadata": {},
   "outputs": [],
   "source": [
    "#-------------------------------------------\n",
    "# simulate data/mc samples\n",
    "#-------------------------------------------\n",
    "# get monte carlo samples\n",
    "mc_1 = np.random.exponential(300, size=10000)\n",
    "mc_2 = np.random.exponential(150, size=5000)\n",
    "mc_3 = np.random.normal(loc=300, scale=70, size=2000)"
   ]
  },
  {
   "cell_type": "code",
   "execution_count": 4,
   "metadata": {},
   "outputs": [],
   "source": [
    "mc_1_hist = ROOT.TH1F(\"mc1\", \"mc1\", 50, 0, 1000)\n",
    "fill_hist_with_sample(mc_1_hist, mc_1)\n",
    "mc_2_hist = ROOT.TH1F(\"mc2\", \"mc2\", 50, 0, 1000)\n",
    "fill_hist_with_sample(mc_2_hist, mc_2)\n",
    "mc_3_hist = ROOT.TH1F(\"mc3\", \"mc3\", 50, 0, 1000)\n",
    "fill_hist_with_sample(mc_3_hist, mc_3)"
   ]
  },
  {
   "cell_type": "code",
   "execution_count": 5,
   "metadata": {},
   "outputs": [],
   "source": [
    "mc_1_hist.SetFillColorAlpha(46, 0.35)\n",
    "mc_2_hist.SetFillColorAlpha(30, 0.35)\n",
    "mc_3_hist.SetFillColorAlpha(41, 0.35)\n",
    "\n",
    "\n",
    "mc_stack = ROOT.THStack(\"mc\", \"\")\n",
    "mc_stack.Add(mc_1_hist)\n",
    "mc_stack.Add(mc_2_hist)\n",
    "mc_stack.Add(mc_3_hist)"
   ]
  },
  {
   "cell_type": "code",
   "execution_count": 6,
   "metadata": {},
   "outputs": [],
   "source": [
    "data_hist = ROOT.TH1F(\"data\", \"data\",\n",
    "                      50, 0, 1000)\n",
    "\n",
    "data_hist.Add(mc_1_hist, 3.5)\n",
    "data_hist.Add(mc_2_hist, 0.5)\n",
    "data_hist.Add(mc_3_hist, 1.6)\n",
    "\n",
    "data_hist.SetMarkerStyle(8)\n",
    "data_hist.SetMarkerSize(0.5)\n",
    "data_hist.SetLineColor(1)\n",
    "data_hist.SetMarkerColor(1)\n",
    "\n",
    "mc_stack.SetMaximum(3000)"
   ]
  },
  {
   "cell_type": "code",
   "execution_count": 7,
   "metadata": {},
   "outputs": [
    {
     "name": "stderr",
     "output_type": "stream",
     "text": [
      "Info in <TCanvas::Print>: png file data-mc-pre.png has been created\n"
     ]
    },
    {
     "data": {
      "image/png": "[encoded data removed]",
      "text/plain": [
       "<IPython.core.display.Image object>"
      ]
     },
     "metadata": {},
     "output_type": "display_data"
    }
   ],
   "source": [
    "leg = ROOT.TLegend(0.7, 0.7, 0.88, 0.88)\n",
    "leg.AddEntry(mc_1_hist, \"Monte Carlo 1\", \"f\")\n",
    "leg.AddEntry(mc_2_hist, \"Monte Carlo 2\", \"f\")\n",
    "leg.AddEntry(mc_3_hist, \"Monte Carlo 3\", \"f\")\n",
    "leg.AddEntry(data_hist, \"Data\", \"lep\")\n",
    "\n",
    "\n",
    "c1 = ROOT.TCanvas(\"c1\", \"c1\")\n",
    "mc_stack.Draw()\n",
    "mc_stack.GetXaxis().SetTitle(\"p_{T} [GeV]\")\n",
    "mc_stack.GetYaxis().SetTitle(\"Events / 20 GeV\")\n",
    "\n",
    "data_hist.Draw(\"p, e0, same\")\n",
    "leg.Draw(\"same\")\n",
    "c1.Update()\n",
    "c1.SaveAs(\"data-mc-pre.png\")"
   ]
  },
  {
   "cell_type": "code",
   "execution_count": 8,
   "metadata": {},
   "outputs": [],
   "source": [
    "#---------------------------------------------\n",
    "# start RooFit setup\n",
    "#---------------------------------------------\n",
    "pT = ROOT.RooRealVar('pT', 'pT', 0, 1000) # define a variable for the stuff\n",
    "mc1_roo_hist = ROOT.RooDataHist('mc1_roohist', 'mc1_roohist', pT, mc_1_hist)\n",
    "mc2_roo_hist = ROOT.RooDataHist('mc2_roohist', 'mc2_roohist', pT, mc_2_hist)\n",
    "mc3_roo_hist = ROOT.RooDataHist('mc3_roohist', 'mc3_roohist', pT, mc_3_hist)\n",
    "\n",
    "data_roo_hist = ROOT.RooDataHist('data_roohist', 'data_roohist', pT, data_hist)\n",
    "\n",
    "# set constants c1, c2, c3 so that\n",
    "# (c1*mc1) +  (c2*mc2) +  (c3*mc3) = data\n",
    "c1 = ROOT.RooRealVar('c1', 'c1', 1, 0, 1e10)\n",
    "c2 = ROOT.RooRealVar('c2', 'c2', 1, 0, 1e10)\n",
    "c3 = ROOT.RooRealVar('c3', 'c3', 1, 0, 1e10)"
   ]
  },
  {
   "cell_type": "code",
   "execution_count": 9,
   "metadata": {},
   "outputs": [
    {
     "name": "stdout",
     "output_type": "stream",
     "text": [
      "[#1] INFO:Minimization -- p.d.f. provides expected number of events, including extended term in likelihood.\n",
      "[#0] WARNING:InputArguments -- RooAbsPdf::fitTo(model): WARNING: a likelihood fit is requested of what appears to be weighted data.\n",
      "       While the estimated values of the parameters will always be calculated taking the weights into account,\n",
      "       there are multiple ways to estimate the errors of the parameters. You are advised to make an\n",
      "       explicit choice for the error calculation:\n",
      "           - Either provide SumW2Error(true), to calculate a sum-of-weights-corrected HESSE error matrix\n",
      "             (error will be proportional to the number of events in MC).\n",
      "           - Or provide SumW2Error(false), to return errors from original HESSE error matrix\n",
      "             (which will be proportional to the sum of the weights, i.e., a dataset with <sum of weights> events).\n",
      "           - Or provide AsymptoticError(true), to use the asymptotically correct expression\n",
      "             (for details see https://arxiv.org/abs/1911.01303).\"\n",
      "[#1] INFO:Minimization -- RooAbsMinimizerFcn::setOptimizeConst: activating const optimization\n",
      "[#1] INFO:Minimization --  The following expressions have been identified as constant and will be precalculated and cached: (mc1_pdf,mc2_pdf,mc3_pdf)\n",
      "Minuit2Minimizer: Minimize with max-calls 1500 convergence for edm < 1 strategy 1\n",
      "Minuit2Minimizer : Valid minimum - status = 0\n",
      "FVAL  = -120513.07812916761\n",
      "Edm   = 0.000294215872848981367\n",
      "Nfcn  = 100\n",
      "c1\t  = 33716.4\t +/-  457.651\t(limited)\n",
      "c2\t  = 2492.05\t +/-  362.693\t(limited)\n",
      "c3\t  = 3201.58\t +/-  147.662\t(limited)\n",
      "[#1] INFO:Minimization -- RooAbsMinimizerFcn::setOptimizeConst: deactivating const optimization\n"
     ]
    },
    {
     "name": "stderr",
     "output_type": "stream",
     "text": [
      "Info in <Minuit2>: MnSeedGenerator Computing seed using NumericalGradient calculator\n",
      "Info in <Minuit2>: MnSeedGenerator Initial state: FCN =      -116141.5595 Edm =       6103.042427 NCalls =     13\n",
      "Info in <Minuit2>: MnSeedGenerator Initial state  \n",
      "  Minimum value : -116141.5595\n",
      "  Edm           : 6103.042427\n",
      "  Internal parameters:\t[     -1.568843202     -1.568843202     -1.568843202]\t\n",
      "  Internal gradient  :\t[     -6253888.141     -4513123.699     -294506.6803]\t\n",
      "  Internal covariance matrix:\n",
      "[[  4.0174108e-10              0              0]\n",
      " [              0  4.2564396e-10              0]\n",
      " [              0              0   3.457668e-10]]]\n",
      "Info in <Minuit2>: VariableMetricBuilder Start iterating until Edm is < 0.001 with call limit = 1500\n",
      "Info in <Minuit2>: VariableMetricBuilder    0 - FCN =      -116141.5595 Edm =       6103.042427 NCalls =     13\n",
      "Info in <Minuit2>: VariableMetricBuilder    1 - FCN =      -119142.3689 Edm =       470.6659768 NCalls =     21\n",
      "Info in <Minuit2>: VariableMetricBuilder    2 - FCN =      -120121.5777 Edm =       66.19642999 NCalls =     33\n",
      "Info in <Minuit2>: VariableMetricBuilder    3 - FCN =      -120437.8901 Edm =        48.5880155 NCalls =     42\n",
      "Info in <Minuit2>: VariableMetricBuilder    4 - FCN =      -120494.9375 Edm =       9.037539028 NCalls =     50\n",
      "Info in <Minuit2>: VariableMetricBuilder    5 - FCN =      -120509.6522 Edm =       1.499215509 NCalls =     58\n",
      "Info in <Minuit2>: VariableMetricBuilder    6 - FCN =      -120512.5398 Edm =      0.3631145806 NCalls =     66\n",
      "Info in <Minuit2>: VariableMetricBuilder    7 - FCN =      -120513.0644 Edm =     0.01185305422 NCalls =     74\n",
      "Info in <Minuit2>: VariableMetricBuilder    8 - FCN =      -120513.0781 Edm =   0.0001869889447 NCalls =     82\n",
      "Info in <Minuit2>: VariableMetricBuilder After Hessian\n",
      "Info in <Minuit2>: VariableMetricBuilder    9 - FCN =      -120513.0781 Edm =   0.0002942158728 NCalls =    100\n",
      "Info in <Minuit2>: Minuit2Minimizer::Hesse Using max-calls 1500\n",
      "Info in <Minuit2>: Minuit2Minimizer::Hesse Hesse is valid - matrix is accurate\n"
     ]
    }
   ],
   "source": [
    "#---------------------------------------------\n",
    "# make model\n",
    "#---------------------------------------------\n",
    "# make hist pdfs\n",
    "mc1_roo_pdf = ROOT.RooHistPdf(\"mc1_pdf\", \"mc1_pdf\", pT, mc1_roo_hist)\n",
    "mc2_roo_pdf = ROOT.RooHistPdf(\"mc2_pdf\", \"mc2_pdf\", pT, mc2_roo_hist)\n",
    "mc3_roo_pdf = ROOT.RooHistPdf(\"mc3_pdf\", \"mc3_pdf\", pT, mc3_roo_hist)\n",
    "\n",
    "# make model\n",
    "model = ROOT.RooAddPdf(\"model\", \"model\",\n",
    "                       ROOT.RooArgList(mc1_roo_pdf,\n",
    "                                       mc2_roo_pdf,\n",
    "                                       mc3_roo_pdf),\n",
    "                       ROOT.RooArgList(c1, c2, c3))\n",
    "# fit\n",
    "model.fitTo(data_roo_hist)\n",
    "\n",
    "# because we used PDFs, you gotta recover the real values\n",
    "# by dividing the constants by nEvents in each MC sample\n",
    "c1.setVal(c1.getValV() / 10000)\n",
    "c2.setVal(c2.getValV() / 5000)\n",
    "c3.setVal(c3.getValV() / 2000)"
   ]
  },
  {
   "cell_type": "code",
   "execution_count": 10,
   "metadata": {},
   "outputs": [],
   "source": [
    "#-----------------------------------------------------\n",
    "# using corrections, plot new pdf\n",
    "#-----------------------------------------------------\n",
    "mc_1_hist_adjusted = mc_1_hist.Clone()\n",
    "mc_1_hist_adjusted.Scale(c1.getValV())\n",
    "\n",
    "mc_2_hist_adjusted = mc_2_hist.Clone()\n",
    "mc_2_hist_adjusted.Scale(c2.getValV())\n",
    "\n",
    "mc_3_hist_adjusted = mc_3_hist.Clone()\n",
    "mc_3_hist_adjusted.Scale(c3.getValV())\n",
    "\n",
    "\n",
    "mc_stack_adjusted = ROOT.THStack(\"mc_adjusted\", \"\")\n",
    "mc_stack_adjusted.Add(mc_1_hist_adjusted)\n",
    "mc_stack_adjusted.Add(mc_2_hist_adjusted)\n",
    "mc_stack_adjusted.Add(mc_3_hist_adjusted)\n",
    "\n",
    "\n",
    "mc_stack_adjusted.SetMaximum(3000)"
   ]
  },
  {
   "cell_type": "code",
   "execution_count": 11,
   "metadata": {},
   "outputs": [
    {
     "name": "stderr",
     "output_type": "stream",
     "text": [
      "Info in <TCanvas::Print>: png file data-mc-post.png has been created\n"
     ]
    },
    {
     "data": {
      "image/png": "[encoded data removed]",
      "text/plain": [
       "<IPython.core.display.Image object>"
      ]
     },
     "metadata": {},
     "output_type": "display_data"
    }
   ],
   "source": [
    "leg2 = ROOT.TLegend(0.7, 0.7, 0.88, 0.88)\n",
    "leg2.AddEntry(mc_1_hist, \"Monte Carlo 1 * %s\" %round(c1.getValV(),2), \"f\")\n",
    "leg2.AddEntry(mc_2_hist, \"Monte Carlo 2 * %s\" %round(c2.getValV(),2), \"f\")\n",
    "leg2.AddEntry(mc_3_hist, \"Monte Carlo 3 * %s\" %round(c3.getValV(),2), \"f\")\n",
    "leg2.AddEntry(data_hist, \"Data\", \"lep\")\n",
    "\n",
    "\n",
    "c2 = ROOT.TCanvas(\"c2\", \"c2\")\n",
    "mc_stack_adjusted.Draw(\"hist\")\n",
    "mc_stack_adjusted.GetXaxis().SetTitle(\"p_{T} [GeV]\")\n",
    "mc_stack_adjusted.GetYaxis().SetTitle(\"Events / 20 GeV\")\n",
    "\n",
    "data_hist.Draw(\"p, e0, same\")\n",
    "leg2.Draw(\"same\")\n",
    "c2.Update()\n",
    "c2.SaveAs(\"data-mc-post.png\")"
   ]
  }
 ],
 "metadata": {
  "kernelspec": {
   "display_name": "ROOT",
   "language": "python",
   "name": "python3"
  },
  "language_info": {
   "codemirror_mode": {
    "name": "ipython",
    "version": 3
   },
   "file_extension": ".py",
   "mimetype": "text/x-python",
   "name": "python",
   "nbconvert_exporter": "python",
   "pygments_lexer": "ipython3",
   "version": "3.11.7"
  }
 },
 "nbformat": 4,
 "nbformat_minor": 2
}
