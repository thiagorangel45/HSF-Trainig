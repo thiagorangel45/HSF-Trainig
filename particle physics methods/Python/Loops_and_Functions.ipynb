{
 "cells": [
  {
   "cell_type": "code",
   "execution_count": 1,
   "metadata": {},
   "outputs": [
    {
     "name": "stdout",
     "output_type": "stream",
     "text": [
      "1\n",
      "2\n",
      "3\n",
      "4\n",
      "5\n"
     ]
    }
   ],
   "source": [
    "print(1)\n",
    "print(2)\n",
    "print(3)\n",
    "print(4)\n",
    "print(5)\n"
   ]
  },
  {
   "cell_type": "code",
   "execution_count": 2,
   "metadata": {},
   "outputs": [
    {
     "name": "stdout",
     "output_type": "stream",
     "text": [
      "1\n",
      "2\n",
      "3\n",
      "4\n",
      "5\n"
     ]
    }
   ],
   "source": [
    "for i in range(1,6):\n",
    "    print(i)\n"
   ]
  },
  {
   "cell_type": "code",
   "execution_count": 5,
   "metadata": {},
   "outputs": [
    {
     "name": "stdout",
     "output_type": "stream",
     "text": [
      "[3.7, 5.8, 6.9, 9.2]\n"
     ]
    }
   ],
   "source": [
    "original_list = [1.2, 3.3, 4.4, 6.7]  # input list\n",
    "output_list = []  # start with empty list\n",
    "for x in original_list:\n",
    "    output_list.append(x+2.5)\n",
    "\n",
    "print(output_list)"
   ]
  },
  {
   "cell_type": "code",
   "execution_count": 6,
   "metadata": {},
   "outputs": [
    {
     "name": "stdout",
     "output_type": "stream",
     "text": [
      "1\n",
      "2\n",
      "3\n",
      "4\n",
      "5\n"
     ]
    }
   ],
   "source": [
    "i = 1\n",
    "while i <= 5:\n",
    "      print(i)\n",
    "      i += 1\n"
   ]
  },
  {
   "cell_type": "code",
   "execution_count": 7,
   "metadata": {},
   "outputs": [
    {
     "name": "stdout",
     "output_type": "stream",
     "text": [
      "334\n",
      "167.0\n",
      "502.0\n",
      "251.0\n",
      "754.0\n",
      "377.0\n",
      "1132.0\n",
      "566.0\n",
      "283.0\n",
      "850.0\n",
      "425.0\n",
      "1276.0\n",
      "638.0\n",
      "319.0\n",
      "958.0\n",
      "479.0\n",
      "1438.0\n",
      "719.0\n",
      "2158.0\n",
      "1079.0\n",
      "3238.0\n",
      "1619.0\n",
      "4858.0\n",
      "2429.0\n",
      "7288.0\n",
      "3644.0\n",
      "1822.0\n",
      "911.0\n",
      "2734.0\n",
      "1367.0\n",
      "4102.0\n",
      "2051.0\n",
      "6154.0\n",
      "3077.0\n",
      "9232.0\n",
      "4616.0\n",
      "2308.0\n",
      "1154.0\n",
      "577.0\n",
      "1732.0\n",
      "866.0\n",
      "433.0\n",
      "1300.0\n",
      "650.0\n",
      "325.0\n",
      "976.0\n",
      "488.0\n",
      "244.0\n",
      "122.0\n",
      "61.0\n",
      "184.0\n",
      "92.0\n",
      "46.0\n",
      "23.0\n",
      "70.0\n",
      "35.0\n",
      "106.0\n",
      "53.0\n",
      "160.0\n",
      "80.0\n",
      "40.0\n",
      "20.0\n",
      "10.0\n",
      "5.0\n",
      "16.0\n",
      "8.0\n",
      "4.0\n",
      "2.0\n"
     ]
    }
   ],
   "source": [
    "n = 334\n",
    "while n != 1:\n",
    "      print(n)\n",
    "      if n%2 == 0:   # if even\n",
    "      \t n = n / 2\n",
    "      elif n%2 == 1: # if odd\n",
    "      \t n = (3*n) + 1\n"
   ]
  },
  {
   "cell_type": "code",
   "execution_count": 8,
   "metadata": {},
   "outputs": [],
   "source": [
    "def add_three(x):\n",
    "    return x + 2\n"
   ]
  },
  {
   "cell_type": "code",
   "execution_count": 9,
   "metadata": {},
   "outputs": [
    {
     "name": "stdout",
     "output_type": "stream",
     "text": [
      "4\n"
     ]
    }
   ],
   "source": [
    "my_number = 2\n",
    "my_other_number = add_three(my_number)\n",
    "print(my_other_number)\n"
   ]
  },
  {
   "cell_type": "code",
   "execution_count": 10,
   "metadata": {},
   "outputs": [],
   "source": [
    "def collatz(n):\n",
    "    number_of_operations = 0\n",
    "    while n != 1:\n",
    "        if n%2 == 0:   # if even\n",
    "            n = n / 2\n",
    "        elif n%2 == 1: # if odd\n",
    "            n = (3*n) + 1\n",
    "        number_of_operations += 1\n",
    "    return number_of_operations\n"
   ]
  },
  {
   "cell_type": "code",
   "execution_count": 12,
   "metadata": {},
   "outputs": [
    {
     "name": "stdout",
     "output_type": "stream",
     "text": [
      "2\n",
      "114\n"
     ]
    }
   ],
   "source": [
    "print(collatz(4))\n",
    "print(collatz(1345))"
   ]
  },
  {
   "cell_type": "code",
   "execution_count": 15,
   "metadata": {},
   "outputs": [
    {
     "name": "stdout",
     "output_type": "stream",
     "text": [
      "Part 2\n",
      "y(1.3) = 33.81213313895868\n",
      "y(3.7) = 490.23164037701775\n",
      "y(2.2) = 96.6730736954414\n",
      "y(0.9) = 20.56616500951665\n",
      "y(2.1) = 86.33977990087918\n",
      "Part 3\n",
      "h = 0.1\n",
      "y(1.9) = 25.11295421837433\n",
      "h = 0.05\n",
      "y(1.9) = 26.75761489385829\n",
      "h = 0.01\n",
      "y(1.9) = 28.207899606154054\n",
      "h = 0.001\n",
      "y(1.9) = 28.591492681003995\n",
      "h = 0.0001\n",
      "y(1.9) = 28.591283748027195\n",
      "h = 1e-05\n",
      "y(1.9) = 28.590873347361622\n"
     ]
    }
   ],
   "source": [
    "def euler(x, x0, y0, h):\n",
    "    \"\"\"\n",
    "    Use euler's method to solve for y(x) given\n",
    "    starting condition y(x0) = y0 for the differential equation\n",
    "    y'(x) - y(x) = x^2 + 2x + 3\n",
    "    Step size is h\n",
    "    \"\"\"\n",
    "\n",
    "    def yprime(x_n, y_n):\n",
    "        \"\"\"\n",
    "        solve for y'(x) in \n",
    "        y'(x) - y(x) = x^2 + 2x + 3\n",
    "        for known x,y\n",
    "        \"\"\"\n",
    "        # rearrange so that\n",
    "        # y' = y + x^2 + 2x + 3\n",
    "        return y_n + (x_n**2.0) + (2.0 * x_n) + 3.0\n",
    "\n",
    "\n",
    "    def single_step(x_n, y_n):\n",
    "        \"\"\"\n",
    "        Given y_n, return y_{n+1}\n",
    "        \"\"\"\n",
    "        return y_n + (h * yprime(x_n, y_n))\n",
    "\n",
    "\n",
    "    # start method with first step\n",
    "    y_n = y0\n",
    "    x_n = x0\n",
    "\n",
    "    # continue until x_n --> x\n",
    "    while x_n < x:\n",
    "        y_n = single_step(x_n, y_n)\n",
    "        x_n += h\n",
    "\n",
    "    return x_n, y_n\n",
    "\n",
    "print('Part 2')\n",
    "# part 2\n",
    "# solve for all possible\n",
    "h = 0.0001\n",
    "y0 = 6\n",
    "x0 = 0\n",
    "for x_val in [1.3, 3.7, 2.2, 0.9, 2.1]:\n",
    "    x,y = euler(x_val, x0, y0, h)\n",
    "    print('y(%s) = %s' %(x_val, y))\n",
    "\n",
    "print('Part 3')\n",
    "# part 3\n",
    "x0 = 0\n",
    "y0 = 0\n",
    "x = 1.9\n",
    "for h in [0.1, 0.05, 0.01, 0.001, 0.0001, 0.00001]:\n",
    "    x_sol, y_sol = euler(x, x0, y0, h)\n",
    "    print('h = %s' % h)\n",
    "    print('y(%s) = %s' %(x, y_sol))"
   ]
  },
  {
   "cell_type": "code",
   "execution_count": null,
   "metadata": {},
   "outputs": [],
   "source": []
  }
 ],
 "metadata": {
  "kernelspec": {
   "display_name": "ROOT",
   "language": "python",
   "name": "python3"
  },
  "language_info": {
   "codemirror_mode": {
    "name": "ipython",
    "version": 3
   },
   "file_extension": ".py",
   "mimetype": "text/x-python",
   "name": "python",
   "nbconvert_exporter": "python",
   "pygments_lexer": "ipython3",
   "version": "3.11.7"
  }
 },
 "nbformat": 4,
 "nbformat_minor": 2
}
