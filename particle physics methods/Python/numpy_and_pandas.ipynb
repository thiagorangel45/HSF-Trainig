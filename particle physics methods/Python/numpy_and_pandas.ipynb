{
 "cells": [
  {
   "cell_type": "code",
   "execution_count": 1,
   "metadata": {},
   "outputs": [
    {
     "data": {
      "text/plain": [
       "array([1.1, 1.2, 5. , 5.9, 6.1, 8.5])"
      ]
     },
     "execution_count": 1,
     "metadata": {},
     "output_type": "execute_result"
    }
   ],
   "source": [
    "import numpy as np\n",
    "arr_1 = np.array([3.3, 2.1, 4.4, 5.7, 8.9, 1.0])\n",
    "arr_2 = np.array([6.1, 8.5, 1.1, 5.9, 1.2, 5.0])\n",
    "arr_1 + arr_2\n",
    "\n",
    "arr_1 / arr_2\n",
    "arr_1 - arr_2\n",
    "np.sum(arr_1)\n",
    "np.sort(arr_2)"
   ]
  },
  {
   "cell_type": "code",
   "execution_count": 2,
   "metadata": {},
   "outputs": [
    {
     "name": "stdout",
     "output_type": "stream",
     "text": [
      "Python time:  0.004699000000000009\n",
      "Numpy time:  0.0005549999999998612\n",
      "Numpy speed improvement:  8 X faster\n"
     ]
    }
   ],
   "source": [
    "import numpy as np\n",
    "from time import process_time\n",
    "\n",
    "a = np.linspace(-5,  12,   10000)   # 10000 equally spaced points from -5 --> 12\n",
    "b = np.linspace(100, 108, 10000) # 10000 more equally spaced points from 100-->108\n",
    "\n",
    "\n",
    "# pure python implementation\n",
    "t1 = process_time()\n",
    "dot_product = 0\n",
    "for x,y in zip(a,b):\n",
    "    dot_product += x*y\n",
    "t2 = process_time()\n",
    "\n",
    "py_time = t2 - t1\n",
    "print('Python time: ', py_time)\n",
    "\n",
    "\n",
    "# numpy implementation\n",
    "t1 = process_time()\n",
    "dot_product = np.dot(a,b)\n",
    "t2 = process_time()\n",
    "\n",
    "np_time = t2 - t1\n",
    "print('Numpy time: ', np_time)\n",
    "\n",
    "print('Numpy speed improvement: ', round(py_time / np_time), 'X faster')"
   ]
  },
  {
   "cell_type": "code",
   "execution_count": 3,
   "metadata": {},
   "outputs": [
    {
     "data": {
      "text/plain": [
       "poly1d([ 2.56000000e+02,  0.00000000e+00, -3.58400000e+03,  4.54747351e-13,\n",
       "        1.34400000e+04, -1.81898940e-12, -1.34400000e+04,  3.41060513e-13,\n",
       "        1.68000000e+03])"
      ]
     },
     "execution_count": 3,
     "metadata": {},
     "output_type": "execute_result"
    }
   ],
   "source": [
    "import scipy.special as sc\n",
    "\n",
    "# bessel function of first kind of real order\n",
    "sc.jv(3, 1.4)\n",
    "\n",
    "# binomial distribution CDF\n",
    "sc.bdtr(12, 25, 0.5)\n",
    "\n",
    "# gamma function\n",
    "sc.gamma(12.3)\n",
    "\n",
    "# error function of complex argument\n",
    "sc.erf(1.1 + 2.3j)\n",
    "\n",
    "# chebyshev polynomial evaluation\n",
    "sc.eval_chebyt(4, 3.1)\n",
    "\n",
    "# hermite polynomial evaluation\n",
    "sc.hermite(8)\n"
   ]
  },
  {
   "cell_type": "code",
   "execution_count": 4,
   "metadata": {},
   "outputs": [
    {
     "name": "stdout",
     "output_type": "stream",
     "text": [
      "(1.556959479782644, 1.2469607747083757e-09)\n"
     ]
    }
   ],
   "source": [
    "import numpy as np\n",
    "import scipy.integrate as integrate\n",
    "\n",
    "def function_to_integrate(x, a, b):\n",
    "    return a*np.tanh(np.sin(b-x))\n",
    "\n",
    "result = integrate.quad(function_to_integrate,\n",
    "                        -5.1, 3.3, # lower and upper limits\n",
    "                        args=(1.2, 3.4)) # a and b in the function_to_integrate\n",
    "print(result)"
   ]
  },
  {
   "cell_type": "code",
   "execution_count": 5,
   "metadata": {},
   "outputs": [
    {
     "name": "stdout",
     "output_type": "stream",
     "text": [
      "[-1.02986653]\n"
     ]
    }
   ],
   "source": [
    "import numpy as np\n",
    "from scipy.optimize import root\n",
    "\n",
    "def func(x):\n",
    "    return x + 2 * np.cos(x)\n",
    "\n",
    "sol = root(func, 0.3)\n",
    "print(sol.x)\n"
   ]
  },
  {
   "cell_type": "code",
   "execution_count": 6,
   "metadata": {},
   "outputs": [
    {
     "data": {
      "text/plain": [
       "array([ 4.5       -0.j        ,  2.08155948-1.65109876j,\n",
       "       -1.83155948+1.60822041j, -1.83155948-1.60822041j,\n",
       "        2.08155948+1.65109876j])"
      ]
     },
     "execution_count": 6,
     "metadata": {},
     "output_type": "execute_result"
    }
   ],
   "source": [
    "from scipy.fft import fft\n",
    "import numpy as np\n",
    "\n",
    "x = np.array([1.0, 2.0, 1.0, -1.0, 1.5])\n",
    "fft(x)\n"
   ]
  },
  {
   "cell_type": "code",
   "execution_count": 7,
   "metadata": {},
   "outputs": [
    {
     "name": "stdout",
     "output_type": "stream",
     "text": [
      "[[1 3 5]\n",
      " [2 5 1]\n",
      " [2 3 8]]\n"
     ]
    },
    {
     "data": {
      "text/plain": [
       "array([[-1.48,  0.36,  0.88],\n",
       "       [ 0.56,  0.08, -0.36],\n",
       "       [ 0.16, -0.12,  0.04]])"
      ]
     },
     "execution_count": 7,
     "metadata": {},
     "output_type": "execute_result"
    }
   ],
   "source": [
    "import numpy as np\n",
    "from scipy import linalg\n",
    "\n",
    "A = np.array([[1,3,5],[2,5,1],[2,3,8]])\n",
    "print(A)\n",
    "linalg.inv(A)\n"
   ]
  },
  {
   "cell_type": "code",
   "execution_count": 8,
   "metadata": {},
   "outputs": [
    {
     "name": "stdout",
     "output_type": "stream",
     "text": [
      "[[1 3 5]\n",
      " [2 5 1]\n",
      " [2 3 8]]\n",
      "[-9.28  5.16  0.76]\n"
     ]
    }
   ],
   "source": [
    "import numpy as np\n",
    "from scipy import linalg\n",
    "\n",
    "A = np.array([[1,3,5],[2,5,1],[2,3,8]])\n",
    "print(A)\n",
    "\n",
    "    \n",
    "b = np.array([10, 8, 3])\n",
    "\n",
    "# solve Ax = b\n",
    "x = linalg.solve(A,b)\n",
    "print(x)"
   ]
  },
  {
   "cell_type": "code",
   "execution_count": 9,
   "metadata": {},
   "outputs": [
    {
     "name": "stdout",
     "output_type": "stream",
     "text": [
      "[[1 2]\n",
      " [3 4]]\n"
     ]
    },
    {
     "data": {
      "text/plain": [
       "-2.0"
      ]
     },
     "execution_count": 9,
     "metadata": {},
     "output_type": "execute_result"
    }
   ],
   "source": [
    "import numpy as np\n",
    "from scipy import linalg\n",
    "\n",
    "A = np.array([[1,2],[3,4]])\n",
    "print(A)\n",
    "linalg.det(A)\n"
   ]
  },
  {
   "cell_type": "code",
   "execution_count": 10,
   "metadata": {},
   "outputs": [
    {
     "name": "stdout",
     "output_type": "stream",
     "text": [
      "[[1 2]\n",
      " [3 4]]\n",
      "Eigenvalue(s):  [-0.37228132+0.j  5.37228132+0.j]\n",
      "Eigenvector(s):  [[-0.82456484 -0.41597356]\n",
      " [ 0.56576746 -0.90937671]]\n"
     ]
    }
   ],
   "source": [
    "import numpy as np\n",
    "from scipy import linalg\n",
    "\n",
    "A = np.array([[1, 2], [3, 4]])\n",
    "print(A)\n",
    "\n",
    "la, v = linalg.eig(A)\n",
    "\n",
    "print('Eigenvalue(s): ', la)\n",
    "print('Eigenvector(s): ', v)\n"
   ]
  },
  {
   "cell_type": "code",
   "execution_count": 11,
   "metadata": {},
   "outputs": [
    {
     "data": {
      "text/plain": [
       "array([ 0.23628833, -0.7299472 , -0.48645937, -0.27573888, -0.71371307])"
      ]
     },
     "execution_count": 11,
     "metadata": {},
     "output_type": "execute_result"
    }
   ],
   "source": [
    "from scipy.stats import norm\n",
    "\n",
    "# probability at point\n",
    "norm.pdf(0.2)\n",
    "\n",
    "# probability less than that point\n",
    "norm.cdf(0.2)\n",
    "\n",
    "# random sampling\n",
    "norm.rvs(size=5)\n"
   ]
  },
  {
   "cell_type": "code",
   "execution_count": 12,
   "metadata": {},
   "outputs": [
    {
     "name": "stdout",
     "output_type": "stream",
     "text": [
      "Python time:  2.1811100000000003\n",
      "Numpy time:  0.007526000000000366\n",
      "Numpy speed improvement:  290 X faster\n"
     ]
    }
   ],
   "source": [
    "import numpy as np\n",
    "from time import process_time\n",
    "\n",
    "\n",
    "# generate uniformly random data between -5 and 5\n",
    "data = np.random.uniform(-5, 5, size=100000)\n",
    "\n",
    "# use 100 evenly spaced bins from -5 to 5\n",
    "bins = np.linspace(-5, 5, 100)\n",
    "\n",
    "# use inefficient, trivial looping to check each bin in normal python\n",
    "t1 = process_time()\n",
    "\n",
    "bin_indices_py = []\n",
    "for x in data:\n",
    "    for i in range(len(bins)-1):\n",
    "        if (x >= bins[i] and x <= bins[i+1]):\n",
    "            bin_indices_py.append(i)\n",
    "            break # kill for loop when you find right bin\n",
    "\n",
    "t2 = process_time()\n",
    "python_time = t2 - t1\n",
    "\n",
    "# use numpy.digitize for same task\n",
    "t1 = process_time()\n",
    "\n",
    "bin_indices_np = np.digitize(data, bins)\n",
    "\n",
    "t2 = process_time()\n",
    "numpy_time = t2 - t1\n",
    "\n",
    "# print results\n",
    "print('Python time: ', python_time)\n",
    "print('Numpy time: ', numpy_time)\n",
    "print('Numpy speed improvement: ', round(python_time / numpy_time), 'X faster')"
   ]
  },
  {
   "cell_type": "code",
   "execution_count": 13,
   "metadata": {},
   "outputs": [
    {
     "name": "stdout",
     "output_type": "stream",
     "text": [
      "Problem 1\n",
      "z 5.0\n",
      "Fresnel interals (method 1): [[0.         0.        ]\n",
      " [0.65865551 0.68009074]\n",
      " [0.61918176 0.45741301]\n",
      " [0.5845332  0.49359046]\n",
      " [0.49919138 0.56363119]]\n",
      "Fresnel interals (method 2): [[[0.00000000e+00 0.00000000e+00]\n",
      "  [0.00000000e+00 0.00000000e+00]]\n",
      "\n",
      " [[6.58655512e-01 7.31254514e-15]\n",
      "  [6.80090741e-01 9.77482268e-15]]\n",
      "\n",
      " [[6.19181756e-01 1.16241472e-12]\n",
      "  [4.57413010e-01 4.16495562e-14]]\n",
      "\n",
      " [[5.84533202e-01 6.78683529e-11]\n",
      "  [4.93590463e-01 1.20126022e-10]]\n",
      "\n",
      " [[4.99191382e-01 8.38150451e-09]\n",
      "  [5.63631189e-01 1.21691787e-09]]]\n",
      "\n",
      "\n",
      "Problem 2\n",
      "alpha: 2\n",
      "x: [0.   1.25 2.5  3.75 5.  ]\n",
      "y: [0.         0.17109113 0.44605906 0.41912837 0.04656512]\n",
      "\n",
      "\n",
      "Problem 3\n",
      "x: [-1.  1.  2.  5.]\n",
      "y: [[ 0.          0.44293328  0.12155355 -0.00973444]]\n",
      "\n",
      "\n",
      "Problem 4\n",
      "Eigenvalues: [-2.80016977-1.33662690e-16j  2.22781013-6.45899823e-17j\n",
      "  6.57235964-2.37919328e-17j]\n",
      "Eigenvector: [[-0.08312116-0.5153606j   0.83350511+0.j          0.18032458+0.01570372j]\n",
      " [ 0.37128862+0.05541411j -0.12235779-0.2071796j   0.89508615+0.j        ]\n",
      " [ 0.76587751+0.j          0.1647687 -0.4692821j  -0.40378968-0.05487362j]]\n",
      "\n",
      " Eigenvalue (6.572359644779834-2.3791932775511983e-17j) corresponds to the eigenvector [ 0.18032458+0.01570372j  0.89508615+0.j         -0.40378968-0.05487362j]\n"
     ]
    }
   ],
   "source": [
    "import numpy as np\n",
    "from scipy import special, integrate, linalg\n",
    "\n",
    "#---------------------\n",
    "# Prob 1\n",
    "#---------------------\n",
    "print('Problem 1')\n",
    "\n",
    "# using scipy.special.fresnel\n",
    "z_vals = np.linspace(0, 5, 5)\n",
    "fresnel_vals = np.array(special.fresnel(z_vals)).T # transpose it\n",
    "\n",
    "# using scipy.integrate.quad\n",
    "def fresnel_S_integrand(t):\n",
    "    return np.sin(np.pi * (t**2) / 2)\n",
    "def fresnel_C_integrand(t):\n",
    "    return np.cos(np.pi * (t**2) / 2)\n",
    "\n",
    "def fresnel_S(z):\n",
    "    return integrate.quad(fresnel_S_integrand, 0, z)\n",
    "def fresnel_C(z):\n",
    "    return integrate.quad(fresnel_C_integrand, 0, z)\n",
    "\n",
    "fresnel_vals_2 = []\n",
    "for z in z_vals:\n",
    "    fresnel_vals_2.append([fresnel_S(z),\n",
    "                           fresnel_C(z)])\n",
    "fresnel_vals_2 = np.array(fresnel_vals_2)\n",
    "\n",
    "print('z', z)\n",
    "print('Fresnel interals (method 1):', fresnel_vals)\n",
    "print('Fresnel interals (method 2):', fresnel_vals_2)\n",
    "\n",
    "\n",
    "#---------------------\n",
    "# Prob 2\n",
    "#---------------------\n",
    "print('\\n\\nProblem 2')\n",
    "x = np.linspace(0, 5, 5)\n",
    "alpha = 2\n",
    "y = special.jv(alpha, x)\n",
    "print('alpha:', alpha)\n",
    "print('x:', x)\n",
    "print('y:', y)\n",
    "\n",
    "#---------------------\n",
    "# Prob 3\n",
    "#---------------------\n",
    "print('\\n\\nProblem 3')\n",
    "\n",
    "def func(x,y):\n",
    "    return 4*np.sin(x) - 4*x*y + 3*(x**2)*((y**4) - np.sin(x*y))\n",
    "\n",
    "x_vals = np.array([-1, 1, 2, 5]).astype('float')\n",
    "soln = integrate.solve_ivp(func,\n",
    "                             t_span=(-1, 5),\n",
    "                             y0=[0.0],\n",
    "                             t_eval = x_vals)\n",
    "\n",
    "print('x:', x_vals)\n",
    "print('y:', soln.y)\n",
    "\n",
    "#---------------------\n",
    "# Prob 4\n",
    "#---------------------\n",
    "print('\\n\\nProblem 4')\n",
    "\n",
    "R = np.array([[1, 1+1j, 2j],\n",
    "              [1-1j, 5, -3],\n",
    "              [-2j, -3, 0]])\n",
    "\n",
    "r, psi = linalg.eig(R)\n",
    "print('Eigenvalues:', r)\n",
    "print('Eigenvector:', psi)\n",
    "\n",
    "print('\\n Eigenvalue %s corresponds to the eigenvector %s' %(r[-1], psi[:, -1]))"
   ]
  }
 ],
 "metadata": {
  "kernelspec": {
   "display_name": "ROOT",
   "language": "python",
   "name": "python3"
  },
  "language_info": {
   "codemirror_mode": {
    "name": "ipython",
    "version": 3
   },
   "file_extension": ".py",
   "mimetype": "text/x-python",
   "name": "python",
   "nbconvert_exporter": "python",
   "pygments_lexer": "ipython3",
   "version": "3.11.7"
  }
 },
 "nbformat": 4,
 "nbformat_minor": 2
}
