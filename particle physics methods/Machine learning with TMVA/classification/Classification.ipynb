{
 "cells": [
  {
   "cell_type": "code",
   "execution_count": 3,
   "metadata": {},
   "outputs": [],
   "source": [
    "import ROOT\n",
    "from get_dataset import get_dataset"
   ]
  },
  {
   "cell_type": "code",
   "execution_count": 4,
   "metadata": {},
   "outputs": [
    {
     "name": "stderr",
     "output_type": "stream",
     "text": [
      "Info in <TCanvas::Print>: png file moons.png has been created\n"
     ]
    }
   ],
   "source": [
    "# create the 'moons' dataset with 10k points\n",
    "# saves signal and background in ROOT file 'moons.root' with trees 'signal' and 'background'\n",
    "get_dataset('moons', 10000)"
   ]
  },
  {
   "cell_type": "code",
   "execution_count": 5,
   "metadata": {},
   "outputs": [],
   "source": [
    "input_file = ROOT.TFile('moons.root', 'READ')  # read in the data file\n",
    "signal_tree = input_file.Get('signal')  # identify the signal tree\n",
    "background_tree = input_file.Get('background')  # identify the background tree\n",
    "output_file = ROOT.TFile('training-output.root', \"RECREATE\")  # create an output file for the training results\n",
    "factory = ROOT.TMVA.Factory('TMVAClassification', output_file)  # setup a TMVA factory"
   ]
  },
  {
   "cell_type": "code",
   "execution_count": 6,
   "metadata": {},
   "outputs": [],
   "source": [
    "dataloader = ROOT.TMVA.DataLoader('dataset')  # name our dataset 'dataset' because I'm uncreative\n",
    "# add floating point x and y variables\n",
    "dataloader.AddVariable('x', 'F')\n",
    "dataloader.AddVariable('y', 'F')"
   ]
  },
  {
   "cell_type": "code",
   "execution_count": 7,
   "metadata": {},
   "outputs": [
    {
     "name": "stdout",
     "output_type": "stream",
     "text": [
      "<HEADER> DataSetInfo              : [dataset] : Added class \"Signal\"\n",
      "                         : Add Tree signal of type Signal with 5000 events\n",
      "<HEADER> DataSetInfo              : [dataset] : Added class \"Background\"\n",
      "                         : Add Tree background of type Background with 5000 events\n"
     ]
    }
   ],
   "source": [
    "# add signal and background trees\n",
    "dataloader.AddSignalTree(signal_tree)\n",
    "dataloader.AddBackgroundTree(background_tree)"
   ]
  },
  {
   "cell_type": "code",
   "execution_count": 8,
   "metadata": {},
   "outputs": [
    {
     "name": "stdout",
     "output_type": "stream",
     "text": [
      "                         : Dataset[dataset] : Class index : 0  name : Signal\n",
      "                         : Dataset[dataset] : Class index : 1  name : Background\n"
     ]
    }
   ],
   "source": [
    "# set up the training and testing datapoints\n",
    "cut = ROOT.TCut('')\n",
    "dataloader.PrepareTrainingAndTestTree(cut, 'SplitMode=Random:NormMode=NumEvents')"
   ]
  },
  {
   "cell_type": "code",
   "execution_count": 9,
   "metadata": {},
   "outputs": [
    {
     "data": {
      "text/plain": [
       "<cppyy.gbl.TMVA.MethodBDT object at 0x7feeeb7a3c00>"
      ]
     },
     "execution_count": 9,
     "metadata": {},
     "output_type": "execute_result"
    },
    {
     "name": "stdout",
     "output_type": "stream",
     "text": [
      "<HEADER> Factory                  : Booking method: BDT\n",
      "                         : \n",
      "                         : Rebuilding Dataset dataset\n",
      "                         : Building event vectors for type 2 Signal\n",
      "                         : Dataset[dataset] :  create input formulas for tree signal\n",
      "                         : Building event vectors for type 2 Background\n",
      "                         : Dataset[dataset] :  create input formulas for tree background\n",
      "<HEADER> DataSetFactory           : [dataset] : Number of events in input trees\n",
      "                         : \n",
      "                         : \n",
      "                         : Number of training and testing events\n",
      "                         : ---------------------------------------------------------------------------\n",
      "                         : Signal     -- training events            : 2500\n",
      "                         : Signal     -- testing events             : 2500\n",
      "                         : Signal     -- training and testing events: 5000\n",
      "                         : Background -- training events            : 2500\n",
      "                         : Background -- testing events             : 2500\n",
      "                         : Background -- training and testing events: 5000\n",
      "                         : \n",
      "<HEADER> DataSetInfo              : Correlation matrix (Signal):\n",
      "                         : ------------------------\n",
      "                         :                x       y\n",
      "                         :       x:  +1.000  +0.013\n",
      "                         :       y:  +0.013  +1.000\n",
      "                         : ------------------------\n",
      "<HEADER> DataSetInfo              : Correlation matrix (Background):\n",
      "                         : ------------------------\n",
      "                         :                x       y\n",
      "                         :       x:  +1.000  -0.013\n",
      "                         :       y:  -0.013  +1.000\n",
      "                         : ------------------------\n",
      "<HEADER> DataSetFactory           : [dataset] :  \n",
      "                         : \n"
     ]
    }
   ],
   "source": [
    "# book the BDT as a method to use\n",
    "# apply training options here\n",
    "factory.BookMethod(dataloader,\n",
    "                   ROOT.TMVA.Types.kBDT,\n",
    "                   'BDT',\n",
    "                   'nTrees=100:maxDepth=4:BoostType=AdaBoost')"
   ]
  },
  {
   "cell_type": "code",
   "execution_count": 10,
   "metadata": {},
   "outputs": [
    {
     "name": "stdout",
     "output_type": "stream",
     "text": [
      "<HEADER> Factory                  : Train all methods\n",
      "<HEADER> Factory                  : [dataset] : Create Transformation \"I\" with events from all classes.\n",
      "                         : \n",
      "<HEADER>                          : Transformation, Variable selection : \n",
      "                         : Input : variable 'x' <---> Output : variable 'x'\n",
      "                         : Input : variable 'y' <---> Output : variable 'y'\n",
      "<HEADER> TFHandler_Factory        : Variable        Mean        RMS   [        Min        Max ]\n",
      "                         : -----------------------------------------------------------\n",
      "                         :        x:    0.48582    0.89197   [    -1.5168     2.4488 ]\n",
      "                         :        y:    0.49447    0.35098   [   -0.32595     1.2310 ]\n",
      "                         : -----------------------------------------------------------\n",
      "                         : Ranking input variables (method unspecific)...\n",
      "<HEADER> IdTransformation         : Ranking result (top variable is best ranked)\n",
      "                         : --------------------------\n",
      "                         : Rank : Variable  : Separation\n",
      "                         : --------------------------\n",
      "                         :    1 : x         : 4.003e-01\n",
      "                         :    2 : y         : 1.592e-01\n",
      "                         : --------------------------\n",
      "<HEADER> Factory                  : Train method: BDT for Classification\n",
      "                         : \n",
      "<HEADER> BDT                      : #events: (reweighted) sig: 2500 bkg: 2500\n",
      "                         : #events: (unweighted) sig: 2500 bkg: 2500\n",
      "                         : Training 100 Decision Trees ... patience please\n",
      "                         : Elapsed time for training with 5000 events: 0.308 sec         \n",
      "<HEADER> BDT                      : [dataset] : Evaluation of BDT on training sample (5000 events)\n",
      "                         : Elapsed time for evaluation of 5000 events: 0.0383 sec       \n",
      "                         : Creating xml weight file: dataset/weights/TMVAClassification_BDT.weights.xml\n",
      "                         : Creating standalone class: dataset/weights/TMVAClassification_BDT.class.C\n",
      "                         : training-output.root:/dataset/Method_BDT/BDT\n",
      "<HEADER> Factory                  : Training finished\n",
      "                         : \n",
      "                         : Ranking input variables (method specific)...\n",
      "<HEADER> BDT                      : Ranking result (top variable is best ranked)\n",
      "                         : -----------------------------------\n",
      "                         : Rank : Variable  : Variable Importance\n",
      "                         : -----------------------------------\n",
      "                         :    1 : x         : 5.646e-01\n",
      "                         :    2 : y         : 4.354e-01\n",
      "                         : -----------------------------------\n",
      "<HEADER> Factory                  : === Destroy and recreate all methods via weight files for testing ===\n",
      "                         : \n",
      "                         : Reading weight file: dataset/weights/TMVAClassification_BDT.weights.xml\n",
      "<HEADER> Factory                  : Test all methods\n",
      "<HEADER> Factory                  : Test method: BDT for Classification performance\n",
      "                         : \n",
      "<HEADER> BDT                      : [dataset] : Evaluation of BDT on testing sample (5000 events)\n",
      "                         : Elapsed time for evaluation of 5000 events: 0.0349 sec       \n",
      "<HEADER> Factory                  : Evaluate all methods\n",
      "<HEADER> Factory                  : Evaluate classifier: BDT\n",
      "                         : \n",
      "<HEADER> BDT                      : [dataset] : Loop over test events and fill histograms with classifier response...\n",
      "                         : \n",
      "<HEADER> TFHandler_BDT            : Variable        Mean        RMS   [        Min        Max ]\n",
      "                         : -----------------------------------------------------------\n",
      "                         :        x:    0.48937    0.88892   [    -1.5488     2.6234 ]\n",
      "                         :        y:    0.51093    0.35224   [   -0.28433     1.3573 ]\n",
      "                         : -----------------------------------------------------------\n",
      "                         : \n",
      "                         : Evaluation results ranked by best signal efficiency and purity (area)\n",
      "                         : -------------------------------------------------------------------------------------------------------------------\n",
      "                         : DataSet       MVA                       \n",
      "                         : Name:         Method:          ROC-integ\n",
      "                         : dataset       BDT            : 0.968\n",
      "                         : -------------------------------------------------------------------------------------------------------------------\n",
      "                         : \n",
      "                         : Testing efficiency compared to training efficiency (overtraining check)\n",
      "                         : -------------------------------------------------------------------------------------------------------------------\n",
      "                         : DataSet              MVA              Signal efficiency: from test sample (from training sample) \n",
      "                         : Name:                Method:          @B=0.01             @B=0.10            @B=0.30   \n",
      "                         : -------------------------------------------------------------------------------------------------------------------\n",
      "                         : dataset              BDT            : 0.619 (0.687)       0.913 (0.927)      0.984 (0.982)\n",
      "                         : -------------------------------------------------------------------------------------------------------------------\n",
      "                         : \n",
      "<HEADER> Dataset:dataset          : Created tree 'TestTree' with 5000 events\n",
      "                         : \n",
      "<HEADER> Dataset:dataset          : Created tree 'TrainTree' with 5000 events\n",
      "                         : \n",
      "<HEADER> Factory                  : Thank you for using TMVA!\n",
      "                         : For citation information, please visit: http://tmva.sf.net/citeTMVA.html\n"
     ]
    },
    {
     "name": "stderr",
     "output_type": "stream",
     "text": [
      "1%, time left: unknown\n",
      "8%, time left: 0 sec\n",
      "14%, time left: 0 sec\n",
      "20%, time left: 0 sec\n",
      "26%, time left: 0 sec\n",
      "33%, time left: 0 sec\n",
      "39%, time left: 0 sec\n",
      "45%, time left: 0 sec\n",
      "51%, time left: 0 sec\n",
      "58%, time left: 0 sec\n",
      "64%, time left: 0 sec\n",
      "70%, time left: 0 sec\n",
      "76%, time left: 0 sec\n",
      "83%, time left: 0 sec\n",
      "89%, time left: 0 sec\n",
      "95%, time left: 0 sec\n",
      "0%, time left: unknown\n",
      "7%, time left: 0 sec\n",
      "13%, time left: 0 sec\n",
      "19%, time left: 0 sec\n",
      "25%, time left: 0 sec\n",
      "32%, time left: 0 sec\n",
      "38%, time left: 0 sec\n",
      "44%, time left: 0 sec\n",
      "50%, time left: 0 sec\n",
      "57%, time left: 0 sec\n",
      "63%, time left: 0 sec\n",
      "69%, time left: 0 sec\n",
      "75%, time left: 0 sec\n",
      "82%, time left: 0 sec\n",
      "88%, time left: 0 sec\n",
      "94%, time left: 0 sec\n",
      "0%, time left: unknown\n",
      "7%, time left: 0 sec\n",
      "13%, time left: 0 sec\n",
      "19%, time left: 0 sec\n",
      "25%, time left: 0 sec\n",
      "32%, time left: 0 sec\n",
      "38%, time left: 0 sec\n",
      "44%, time left: 0 sec\n",
      "50%, time left: 0 sec\n",
      "57%, time left: 0 sec\n",
      "63%, time left: 0 sec\n",
      "69%, time left: 0 sec\n",
      "75%, time left: 0 sec\n",
      "82%, time left: 0 sec\n",
      "88%, time left: 0 sec\n",
      "94%, time left: 0 sec\n"
     ]
    }
   ],
   "source": [
    "# let TMVA do its magic\n",
    "factory.TrainAllMethods()\n",
    "factory.TestAllMethods()\n",
    "factory.EvaluateAllMethods()\n",
    "output_file.Close()"
   ]
  }
 ],
 "metadata": {
  "kernelspec": {
   "display_name": "ROOT",
   "language": "python",
   "name": "python3"
  },
  "language_info": {
   "codemirror_mode": {
    "name": "ipython",
    "version": 3
   },
   "file_extension": ".py",
   "mimetype": "text/x-python",
   "name": "python",
   "nbconvert_exporter": "python",
   "pygments_lexer": "ipython3",
   "version": "3.11.7"
  }
 },
 "nbformat": 4,
 "nbformat_minor": 2
}
