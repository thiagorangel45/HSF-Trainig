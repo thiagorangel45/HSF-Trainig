{
 "cells": [
  {
   "cell_type": "code",
   "execution_count": 1,
   "metadata": {},
   "outputs": [
    {
     "name": "stdout",
     "output_type": "stream",
     "text": [
      "Welcome to JupyROOT 6.30/02\n"
     ]
    }
   ],
   "source": [
    "import ROOT"
   ]
  },
  {
   "cell_type": "code",
   "execution_count": 2,
   "metadata": {},
   "outputs": [],
   "source": [
    "f = ROOT.TFile(\"my_file.root\", \"RECREATE\")"
   ]
  },
  {
   "cell_type": "code",
   "execution_count": 3,
   "metadata": {},
   "outputs": [],
   "source": [
    "t = ROOT.TTree(\"ntuple\", \"ntuple\")"
   ]
  },
  {
   "cell_type": "code",
   "execution_count": 4,
   "metadata": {},
   "outputs": [],
   "source": [
    "from array import array\n",
    "pT = array('f', [0.0])\n",
    "eta = array('f', [0.0])\n",
    "phi = array('f', [0.0]) "
   ]
  },
  {
   "cell_type": "code",
   "execution_count": 5,
   "metadata": {},
   "outputs": [
    {
     "data": {
      "text/plain": [
       "<cppyy.gbl.TBranch object at 0x7fa1718be7a0>"
      ]
     },
     "execution_count": 5,
     "metadata": {},
     "output_type": "execute_result"
    }
   ],
   "source": [
    "t.Branch('pT',  pT,  'pT/F')\n",
    "t.Branch('eta', eta, 'eta/F')\n",
    "t.Branch('phi', phi, 'phi/F')"
   ]
  },
  {
   "cell_type": "code",
   "execution_count": 6,
   "metadata": {},
   "outputs": [
    {
     "data": {
      "text/plain": [
       "12"
      ]
     },
     "execution_count": 6,
     "metadata": {},
     "output_type": "execute_result"
    }
   ],
   "source": [
    "pT[0] = 12.2\n",
    "eta[0] = 1.6\n",
    "phi[0] = -1.1\n",
    "t.Fill()\n",
    "\n",
    "# add second event\n",
    "pT[0] = 102.4\n",
    "eta[0] = 0.5\n",
    "phi[0] = 3.0\n",
    "t.Fill()\n",
    "\n",
    "# add third event\n",
    "pT[0] = 55.4\n",
    "eta[0] = -4.0\n",
    "phi[0] = 0.2\n",
    "t.Fill()"
   ]
  },
  {
   "cell_type": "code",
   "execution_count": 7,
   "metadata": {},
   "outputs": [],
   "source": [
    "t.Write()\n",
    "f.Close()"
   ]
  },
  {
   "cell_type": "code",
   "execution_count": 8,
   "metadata": {},
   "outputs": [],
   "source": [
    "f = ROOT.TFile(\"my_file.root\", \"READ\") # this time just use \"READ\" flag\n",
    "t = f.Get(\"ntuple\")\n"
   ]
  },
  {
   "cell_type": "code",
   "execution_count": 9,
   "metadata": {},
   "outputs": [
    {
     "data": {
      "text/plain": [
       "4"
      ]
     },
     "execution_count": 9,
     "metadata": {},
     "output_type": "execute_result"
    }
   ],
   "source": [
    "pT  = array('f', [0.0])\n",
    "eta = array('f', [0.0])\n",
    "phi = array('f', [0.0])\n",
    "\n",
    "# tie them to branches\n",
    "t.SetBranchAddress(\"pT\",  pT)\n",
    "t.SetBranchAddress(\"eta\", eta)\n",
    "t.SetBranchAddress(\"phi\", phi)"
   ]
  },
  {
   "cell_type": "code",
   "execution_count": 10,
   "metadata": {},
   "outputs": [],
   "source": [
    "average_pT  = 0\n",
    "average_eta = 0\n",
    "average_phi = 0\n",
    "\n",
    "for i in range(t.GetEntries()):\n",
    "    t.GetEntry(i)\n",
    "    average_pT  += pT[0]\n",
    "    average_eta += eta[0]\n",
    "    average_phi += phi[0]\n",
    "\n",
    "average_pT  /= t.GetEntries()\n",
    "average_eta /= t.GetEntries()\n",
    "average_phi /= t.GetEntries()"
   ]
  },
  {
   "cell_type": "code",
   "execution_count": 11,
   "metadata": {},
   "outputs": [],
   "source": [
    "f.Close()"
   ]
  },
  {
   "cell_type": "code",
   "execution_count": 12,
   "metadata": {},
   "outputs": [
    {
     "name": "stdout",
     "output_type": "stream",
     "text": [
      "Average pT:   56.66666762034098\n",
      "Average eta:  -0.6333333253860474\n",
      "Average phi:  0.6999999930461248\n"
     ]
    }
   ],
   "source": [
    "print('Average pT:  ', average_pT )\n",
    "print('Average eta: ', average_eta)\n",
    "print('Average phi: ', average_phi)"
   ]
  },
  {
   "cell_type": "code",
   "execution_count": null,
   "metadata": {},
   "outputs": [],
   "source": []
  }
 ],
 "metadata": {
  "kernelspec": {
   "display_name": "ROOT",
   "language": "python",
   "name": "python3"
  },
  "language_info": {
   "codemirror_mode": {
    "name": "ipython",
    "version": 3
   },
   "file_extension": ".py",
   "mimetype": "text/x-python",
   "name": "python",
   "nbconvert_exporter": "python",
   "pygments_lexer": "ipython3",
   "version": "3.11.7"
  }
 },
 "nbformat": 4,
 "nbformat_minor": 2
}
