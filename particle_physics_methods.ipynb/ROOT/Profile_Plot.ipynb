{
 "cells": [
  {
   "cell_type": "code",
   "execution_count": 4,
   "metadata": {},
   "outputs": [],
   "source": [
    "import ROOT\n",
    "import numpy as np"
   ]
  },
  {
   "cell_type": "code",
   "execution_count": 5,
   "metadata": {},
   "outputs": [],
   "source": [
    "x_data = np.random.uniform(-1.2, 3.3, 10000)\n",
    "y_data = []\n",
    "for x in x_data:\n",
    "    y_data.append(np.random.normal(np.abs(np.sin(x)), x**2))\n",
    "y_data = np.array(y_data)\n"
   ]
  },
  {
   "cell_type": "code",
   "execution_count": 6,
   "metadata": {},
   "outputs": [
    {
     "name": "stderr",
     "output_type": "stream",
     "text": [
      "Warning in <TROOT::Append>: Replacing existing TH1: prof (Potential memory leak).\n"
     ]
    }
   ],
   "source": [
    "prof = ROOT.TProfile(\"prof\", \"prof\",\n",
    "                     25, -1.5, 3.5, # 25 bins in x from -15 --> 35\n",
    "                     -30, 30, # yLow, yHigh\n",
    "                     's') # use rms for error bars in y\n",
    "\n",
    "for x,y in zip(x_data, y_data):\n",
    "    prof.Fill(x,y) # fill with data"
   ]
  },
  {
   "cell_type": "code",
   "execution_count": 7,
   "metadata": {},
   "outputs": [],
   "source": [
    "prof.SetStats(0)\n",
    "prof.GetXaxis().SetTitle(\"X Value\")\n",
    "prof.GetYaxis().SetTitle(\"Binned Y Value\")\n"
   ]
  },
  {
   "cell_type": "code",
   "execution_count": 8,
   "metadata": {},
   "outputs": [
    {
     "name": "stderr",
     "output_type": "stream",
     "text": [
      "Info in <TCanvas::Print>: png file tprofile-plot.png has been created\n"
     ]
    }
   ],
   "source": [
    "c = ROOT.TCanvas()\n",
    "prof.Draw()\n",
    "c.SaveAs('tprofile-plot.png')"
   ]
  }
 ],
 "metadata": {
  "kernelspec": {
   "display_name": "ROOT",
   "language": "python",
   "name": "python3"
  },
  "language_info": {
   "codemirror_mode": {
    "name": "ipython",
    "version": 3
   },
   "file_extension": ".py",
   "mimetype": "text/x-python",
   "name": "python",
   "nbconvert_exporter": "python",
   "pygments_lexer": "ipython3",
   "version": "3.11.7"
  }
 },
 "nbformat": 4,
 "nbformat_minor": 2
}
