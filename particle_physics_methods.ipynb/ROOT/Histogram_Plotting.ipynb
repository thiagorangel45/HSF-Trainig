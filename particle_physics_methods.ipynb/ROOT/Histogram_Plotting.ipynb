{
 "cells": [
  {
   "cell_type": "code",
   "execution_count": 63,
   "metadata": {},
   "outputs": [],
   "source": [
    "import ROOT"
   ]
  },
  {
   "cell_type": "code",
   "execution_count": 64,
   "metadata": {},
   "outputs": [
    {
     "name": "stderr",
     "output_type": "stream",
     "text": [
      "Warning in <TROOT::Append>: Replacing existing TH1: m_h (Potential memory leak).\n"
     ]
    }
   ],
   "source": [
    "my_histogram = ROOT.TH1F(\"m_h\", # histogram name. make sure this is unique\n",
    "                         \"Higgs Mass\", # histogram title\n",
    "                         100, # number of bins\n",
    "                         100, # minimum value\n",
    "                         150) # maximum value\n"
   ]
  },
  {
   "cell_type": "code",
   "execution_count": 65,
   "metadata": {},
   "outputs": [],
   "source": [
    "gaus = ROOT.TF1(\"gaus\", \"gaus\", 100, 150)\n",
    "gaus.SetParameters(1, 125, 4) \n",
    "\n",
    "my_histogram.FillRandom(\"gaus\", 80000)"
   ]
  },
  {
   "cell_type": "code",
   "execution_count": 66,
   "metadata": {},
   "outputs": [],
   "source": [
    "my_histogram.SetTitle('Overhead title')\n",
    "my_histogram.GetXaxis().SetTitle('X axis title')\n",
    "my_histogram.GetYaxis().SetTitle('Y axis title')"
   ]
  },
  {
   "cell_type": "code",
   "execution_count": 67,
   "metadata": {},
   "outputs": [],
   "source": [
    "my_histogram.SetTitleSize(0.2)\n",
    "my_histogram.GetXaxis().SetTitleSize(0.05)\n",
    "my_histogram.GetYaxis().SetTitleSize(0.05)\n",
    "\n",
    "my_histogram.GetXaxis().SetLabelSize(0.03)\n",
    "my_histogram.GetYaxis().SetLabelSize(0.03)"
   ]
  },
  {
   "cell_type": "code",
   "execution_count": 68,
   "metadata": {},
   "outputs": [],
   "source": [
    "# make line thick and red\n",
    "my_histogram.SetLineWidth(2)\n",
    "my_histogram.SetLineColor(ROOT.kRed - 6)\n",
    "\n",
    "# make histogram filled blue\n",
    "my_histogram.SetFillColor(ROOT.kBlue + 2)\n",
    "\n",
    "# make it filled with a cool pattern\n",
    "my_histogram.SetFillStyle(3144)\n"
   ]
  },
  {
   "cell_type": "code",
   "execution_count": 69,
   "metadata": {},
   "outputs": [],
   "source": [
    "my_histogram.SetMinimum(100)\n",
    "my_histogram.SetMaximum(5000)"
   ]
  },
  {
   "cell_type": "code",
   "execution_count": 70,
   "metadata": {},
   "outputs": [
    {
     "data": {
      "text/plain": [
       "<cppyy.gbl.TLegendEntry object at 0x7fd02a7cde80>"
      ]
     },
     "execution_count": 70,
     "metadata": {},
     "output_type": "execute_result"
    }
   ],
   "source": [
    "leg = ROOT.TLegend(0.12, # xmin\n",
    "                   0.70, # ymin\n",
    "                   0.44, # xmax\n",
    "                   0.88) # ymax\n",
    "leg.AddEntry(my_histogram,\n",
    "             \"Higgs Mass Plot\", # label\n",
    "             \"f\") # show fill"
   ]
  },
  {
   "cell_type": "code",
   "execution_count": 71,
   "metadata": {},
   "outputs": [
    {
     "name": "stderr",
     "output_type": "stream",
     "text": [
      "Info in <TCanvas::Print>: png file histogram.png has been created\n"
     ]
    }
   ],
   "source": [
    "c1 = ROOT.TCanvas()\n",
    "my_histogram.Draw()\n",
    "leg.Draw(\"same\")\n",
    "c1.SaveAs(\"histogram.png\")"
   ]
  },
  {
   "cell_type": "code",
   "execution_count": 72,
   "metadata": {},
   "outputs": [],
   "source": [
    "c1.SetLogy()\n",
    "c1.SetLogx()\n",
    "c1.Update()"
   ]
  },
  {
   "cell_type": "code",
   "execution_count": null,
   "metadata": {},
   "outputs": [],
   "source": []
  }
 ],
 "metadata": {
  "kernelspec": {
   "display_name": "ROOT",
   "language": "python",
   "name": "python3"
  },
  "language_info": {
   "codemirror_mode": {
    "name": "ipython",
    "version": 3
   },
   "file_extension": ".py",
   "mimetype": "text/x-python",
   "name": "python",
   "nbconvert_exporter": "python",
   "pygments_lexer": "ipython3",
   "version": "3.11.7"
  }
 },
 "nbformat": 4,
 "nbformat_minor": 2
}
