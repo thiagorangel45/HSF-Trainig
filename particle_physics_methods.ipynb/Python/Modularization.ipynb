{
 "cells": [
  {
   "cell_type": "code",
   "execution_count": 1,
   "metadata": {},
   "outputs": [],
   "source": [
    "def get_average(num1, num2, num3):\n",
    "    return (num1 + num2 + num3) / 3.0\n",
    "\n",
    "def reverse_string(input_string):\n",
    "    return input_string[::-1]  # beleive it or not, this reverses a string"
   ]
  },
  {
   "cell_type": "code",
   "execution_count": 5,
   "metadata": {},
   "outputs": [
    {
     "ename": "ModuleNotFoundError",
     "evalue": "No module named 'helper_functions'",
     "output_type": "error",
     "traceback": [
      "\u001b[0;31m---------------------------------------------------------------------------\u001b[0m",
      "\u001b[0;31mModuleNotFoundError\u001b[0m                       Traceback (most recent call last)",
      "Cell \u001b[0;32mIn[5], line 1\u001b[0m\n\u001b[0;32m----> 1\u001b[0m \u001b[38;5;28;01mimport\u001b[39;00m \u001b[38;5;21;01mhelper_functions\u001b[39;00m\n\u001b[1;32m      3\u001b[0m a \u001b[38;5;241m=\u001b[39m \u001b[38;5;241m12\u001b[39m\n\u001b[1;32m      4\u001b[0m b \u001b[38;5;241m=\u001b[39m \u001b[38;5;241m4\u001b[39m\n",
      "\u001b[0;31mModuleNotFoundError\u001b[0m: No module named 'helper_functions'"
     ]
    }
   ],
   "source": [
    "import helper_functions\n",
    "\n",
    "a = 12\n",
    "b = 4\n",
    "c = 9\n",
    "\n",
    "avg = helper_functions.get_average(12,4,9)\n",
    "\n",
    "some_string = \"Hello world\"\n",
    "inverted_string = helper_functions.reverse_string(some_string)\n"
   ]
  },
  {
   "cell_type": "code",
   "execution_count": null,
   "metadata": {},
   "outputs": [],
   "source": [
    "from helper_functions import get_average, reverse_string\n",
    "\n",
    "a = 12, b = 4, c = 9\n",
    "avg = get_average(12,4,9)\n",
    "\n",
    "some_string = \"Hello world\"\n",
    "inverted_string = reverse_string(some_string)"
   ]
  },
  {
   "cell_type": "code",
   "execution_count": 8,
   "metadata": {},
   "outputs": [
    {
     "name": "stdout",
     "output_type": "stream",
     "text": [
      "Collecting collatz\n",
      "  Downloading collatz-1.0.1-py3-none-any.whl.metadata (5.3 kB)\n",
      "Downloading collatz-1.0.1-py3-none-any.whl (12 kB)\n",
      "Installing collected packages: collatz\n",
      "Successfully installed collatz-1.0.1\n",
      "Note: you may need to restart the kernel to use updated packages.\n"
     ]
    }
   ],
   "source": [
    "pip install collatz\n"
   ]
  },
  {
   "cell_type": "code",
   "execution_count": 9,
   "metadata": {},
   "outputs": [
    {
     "data": {
      "text/plain": [
       "114"
      ]
     },
     "execution_count": 9,
     "metadata": {},
     "output_type": "execute_result"
    }
   ],
   "source": [
    "import collatz\n",
    "collatz.stopping_time(4, total_stopping_time=True)\n",
    "collatz.stopping_time(15, total_stopping_time=True)\n",
    "collatz.stopping_time(67, total_stopping_time=True)\n",
    "collatz.stopping_time(1345, total_stopping_time=True)"
   ]
  },
  {
   "cell_type": "code",
   "execution_count": 18,
   "metadata": {},
   "outputs": [
    {
     "name": "stdout",
     "output_type": "stream",
     "text": [
      "Invariant Mass: 7446.5830890971965j\n"
     ]
    }
   ],
   "source": [
    "import pylorentz\n",
    "\n",
    "p1 = pylorentz.Momentum4.m_eta_phi_pt(125, 0.3, 2.2, 400)\n",
    "p2 = pylorentz.Momentum4.e_eta_phi_pt(400,  4.3, -0.7, 200)\n",
    "\n",
    "two_particle_system = p1 + p2\n",
    "print('Invariant Mass:', two_particle_system.m)"
   ]
  }
 ],
 "metadata": {
  "kernelspec": {
   "display_name": "ROOT",
   "language": "python",
   "name": "python3"
  },
  "language_info": {
   "codemirror_mode": {
    "name": "ipython",
    "version": 3
   },
   "file_extension": ".py",
   "mimetype": "text/x-python",
   "name": "python",
   "nbconvert_exporter": "python",
   "pygments_lexer": "ipython3",
   "version": "3.11.7"
  }
 },
 "nbformat": 4,
 "nbformat_minor": 2
}
