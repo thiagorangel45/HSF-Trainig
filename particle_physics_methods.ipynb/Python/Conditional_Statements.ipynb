{
 "cells": [
  {
   "cell_type": "code",
   "execution_count": 1,
   "metadata": {},
   "outputs": [
    {
     "name": "stdout",
     "output_type": "stream",
     "text": [
      "the variable x is equal to 5\n"
     ]
    }
   ],
   "source": [
    "x = 5\n",
    "if x == 4:\n",
    "    print('the variable x is equal to 4')\n",
    "elif x == 5:\n",
    "    print('the variable x is equal to 5')\n",
    "else:\n",
    "    print('x is not equal to 4 or 5')\n"
   ]
  },
  {
   "cell_type": "code",
   "execution_count": 2,
   "metadata": {},
   "outputs": [
    {
     "name": "stdout",
     "output_type": "stream",
     "text": [
      "b is even, and b/a is 3\n"
     ]
    }
   ],
   "source": [
    "a = 4\n",
    "b = 12\n",
    "\n",
    "if (b % 2 == 0) and (b/a == 3):\n",
    "    print('b is even, and b/a is 3')\n",
    "elif (b % 2 == 0):\n",
    "    print('b is even but b/a is not 3')\n"
   ]
  },
  {
   "cell_type": "code",
   "execution_count": 3,
   "metadata": {},
   "outputs": [
    {
     "name": "stdout",
     "output_type": "stream",
     "text": [
      "either a or b or both is/are even\n"
     ]
    }
   ],
   "source": [
    "a = 4\n",
    "b = 3\n",
    "if (a % 2 == 0) or (b % 2 == 0):\n",
    "    print('either a or b or both is/are even')\n"
   ]
  },
  {
   "cell_type": "code",
   "execution_count": 11,
   "metadata": {},
   "outputs": [
    {
     "name": "stdout",
     "output_type": "stream",
     "text": [
      "O valor não é aceitavel\n",
      "2.607015000000068\n"
     ]
    }
   ],
   "source": [
    "h_lit = 6.62607015\n",
    "h_exp = 6.60\n",
    "error = 0.01\n",
    "\n",
    "if abs(h_lit - h_exp)/(error) < 2:\n",
    "    print(\"O valor é aceitavel\")\n",
    "    print(abs(h_lit - h_exp)%(error))\n",
    "else:\n",
    "    print(\"O valor não é aceitavel\") \n",
    "    print(abs(h_lit - h_exp)/(error))"
   ]
  },
  {
   "cell_type": "code",
   "execution_count": 12,
   "metadata": {},
   "outputs": [
    {
     "name": "stdout",
     "output_type": "stream",
     "text": [
      "Standard deviations away: 2.607015000000068\n",
      "The error is definitely unacceptable\n"
     ]
    }
   ],
   "source": [
    "h_lit = 6.62607015 # ignore the exponent\n",
    "h_exp = 6.60\n",
    "h_exp_err = 0.01\n",
    "\n",
    "sigma = abs(h_lit - h_exp) / h_exp_err\n",
    "print('Standard deviations away:', sigma)\n",
    "\n",
    "if sigma < 1:\n",
    "    print('The error is acceptable')\n",
    "elif sigma < 2:\n",
    "    print('The error is probably unacceptable')\n",
    "else:\n",
    "    print('The error is definitely unacceptable')"
   ]
  }
 ],
 "metadata": {
  "kernelspec": {
   "display_name": "ROOT",
   "language": "python",
   "name": "python3"
  },
  "language_info": {
   "codemirror_mode": {
    "name": "ipython",
    "version": 3
   },
   "file_extension": ".py",
   "mimetype": "text/x-python",
   "name": "python",
   "nbconvert_exporter": "python",
   "pygments_lexer": "ipython3",
   "version": "3.11.7"
  }
 },
 "nbformat": 4,
 "nbformat_minor": 2
}
