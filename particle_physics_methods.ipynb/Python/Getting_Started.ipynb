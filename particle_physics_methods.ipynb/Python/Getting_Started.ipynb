{
 "cells": [
  {
   "cell_type": "code",
   "execution_count": 1,
   "metadata": {},
   "outputs": [
    {
     "name": "stdout",
     "output_type": "stream",
     "text": [
      "hello world\n"
     ]
    }
   ],
   "source": [
    "print(\"hello world\")"
   ]
  },
  {
   "cell_type": "code",
   "execution_count": 3,
   "metadata": {},
   "outputs": [
    {
     "name": "stdout",
     "output_type": "stream",
     "text": [
      "7\n",
      "8\n",
      "8\n"
     ]
    }
   ],
   "source": [
    "print(5+2)\n",
    "\n",
    "print(3+5) \n",
    "\n",
    "print(4+4)"
   ]
  },
  {
   "cell_type": "code",
   "execution_count": 4,
   "metadata": {},
   "outputs": [],
   "source": [
    "energy_1 = 1.2\n",
    "energy_2 = 3.4\n",
    "energy_3 = 2.1\n",
    "energy_4 = 4.2\n",
    "\n",
    "particle_energies = [1.2, 3.4, 2.1, 4.2]"
   ]
  },
  {
   "cell_type": "code",
   "execution_count": 5,
   "metadata": {},
   "outputs": [
    {
     "name": "stdout",
     "output_type": "stream",
     "text": [
      "[1.2, 3.4, 2.1, 4.2, 12.4]\n"
     ]
    }
   ],
   "source": [
    "particle_energies.append(12.4)\n",
    "print(particle_energies)\n"
   ]
  },
  {
   "cell_type": "code",
   "execution_count": 6,
   "metadata": {},
   "outputs": [
    {
     "name": "stdout",
     "output_type": "stream",
     "text": [
      "1.2\n"
     ]
    }
   ],
   "source": [
    "first_energy = particle_energies[0]\n",
    "print(first_energy)\n"
   ]
  },
  {
   "cell_type": "code",
   "execution_count": 7,
   "metadata": {},
   "outputs": [
    {
     "name": "stdout",
     "output_type": "stream",
     "text": [
      "4.2\n"
     ]
    }
   ],
   "source": [
    "fourth_energy = particle_energies[3]\n",
    "print(fourth_energy)\n"
   ]
  },
  {
   "cell_type": "code",
   "execution_count": 8,
   "metadata": {},
   "outputs": [
    {
     "name": "stdout",
     "output_type": "stream",
     "text": [
      "[1.2, 3.4, 2.1, 4.2, 12.4]\n"
     ]
    }
   ],
   "source": [
    "print(particle_energies)"
   ]
  },
  {
   "cell_type": "code",
   "execution_count": 9,
   "metadata": {},
   "outputs": [
    {
     "name": "stdout",
     "output_type": "stream",
     "text": [
      "[1.2, 3.4, 9.9, 4.2, 12.4]\n"
     ]
    }
   ],
   "source": [
    "particle_energies[2] = 9.9\n",
    "print(particle_energies)\n"
   ]
  },
  {
   "cell_type": "code",
   "execution_count": 10,
   "metadata": {},
   "outputs": [
    {
     "name": "stdout",
     "output_type": "stream",
     "text": [
      "[1.2, 3.4, 9.9, 4.2, 12.4]\n",
      "[1.2, 3.4, 14.3, 9.9, 4.2, 12.4]\n"
     ]
    }
   ],
   "source": [
    "print(particle_energies)\n",
    "particle_energies.insert(2, 14.3)\n",
    "print(particle_energies)\n"
   ]
  },
  {
   "cell_type": "code",
   "execution_count": 11,
   "metadata": {},
   "outputs": [
    {
     "name": "stdout",
     "output_type": "stream",
     "text": [
      "[1.2, 3.4, 4.2, 9.9, 12.4, 14.3]\n"
     ]
    }
   ],
   "source": [
    "particle_energies.sort()\n",
    "print(particle_energies)\n"
   ]
  },
  {
   "cell_type": "code",
   "execution_count": 12,
   "metadata": {},
   "outputs": [],
   "source": [
    "myList = ['a string', -3.3, [12.2, 3.4]]"
   ]
  },
  {
   "cell_type": "code",
   "execution_count": 13,
   "metadata": {},
   "outputs": [
    {
     "ename": "AttributeError",
     "evalue": "'tuple' object has no attribute 'append'",
     "output_type": "error",
     "traceback": [
      "\u001b[0;31m---------------------------------------------------------------------------\u001b[0m",
      "\u001b[0;31mAttributeError\u001b[0m                            Traceback (most recent call last)",
      "Cell \u001b[0;32mIn[13], line 2\u001b[0m\n\u001b[1;32m      1\u001b[0m myTuple \u001b[38;5;241m=\u001b[39m (\u001b[38;5;241m1\u001b[39m,\u001b[38;5;241m2\u001b[39m,\u001b[38;5;241m4\u001b[39m)  \u001b[38;5;66;03m# round instead of square brackets\u001b[39;00m\n\u001b[0;32m----> 2\u001b[0m \u001b[43mmyTuple\u001b[49m\u001b[38;5;241;43m.\u001b[39;49m\u001b[43mappend\u001b[49m(\u001b[38;5;241m5\u001b[39m)\n",
      "\u001b[0;31mAttributeError\u001b[0m: 'tuple' object has no attribute 'append'"
     ]
    }
   ],
   "source": [
    "myTuple = (1,2,4)  # round instead of square brackets\n",
    "myTuple.append(5)\n"
   ]
  },
  {
   "cell_type": "code",
   "execution_count": 14,
   "metadata": {},
   "outputs": [],
   "source": [
    "birthday_months = {'Dave': 'October',\n",
    "                   'Martin': 'June',\n",
    "\t\t   'Amy': 'January',\n",
    "\t\t   'Eliza': 'February'}\n"
   ]
  },
  {
   "cell_type": "code",
   "execution_count": 15,
   "metadata": {},
   "outputs": [
    {
     "data": {
      "text/plain": [
       "'October'"
      ]
     },
     "execution_count": 15,
     "metadata": {},
     "output_type": "execute_result"
    }
   ],
   "source": [
    "birthday_months['Dave']"
   ]
  },
  {
   "cell_type": "code",
   "execution_count": 16,
   "metadata": {},
   "outputs": [],
   "source": [
    "student_data = {'Dave': {'birth month': 'October',\n",
    "                         'vaccinated': True,\n",
    "\t\t\t 'age': 4},\n",
    "                'Martin': {'birth month': 'June',\n",
    "                         'vaccinated': True,\n",
    "\t\t\t 'age': 3},\n",
    "                'Amy': {'birth month': 'January',\n",
    "                         'vaccinated': False,\n",
    "\t\t\t 'age': 5},\n",
    "                'Eliza': {'birth month': 'February',\n",
    "                         'vaccinated': True,\n",
    "\t\t\t 'age': 4}\n",
    "\t\t}\n"
   ]
  },
  {
   "cell_type": "code",
   "execution_count": 17,
   "metadata": {},
   "outputs": [
    {
     "data": {
      "text/plain": [
       "5"
      ]
     },
     "execution_count": 17,
     "metadata": {},
     "output_type": "execute_result"
    }
   ],
   "source": [
    "student_data['Amy']['age']"
   ]
  },
  {
   "cell_type": "code",
   "execution_count": 26,
   "metadata": {},
   "outputs": [
    {
     "data": {
      "text/plain": [
       "{'Alpha': {'grade': 80, 'birth_month': 1},\n",
       " 'Beta': {'grade': 70, 'birth_month': 3},\n",
       " 'Gamma': {'grade': 90, 'birth_month': 5},\n",
       " 'Delta': {'grade': 100, 'birth_month': 2},\n",
       " 'Epsilon': {'grade': 60, 'birth_month': 8},\n",
       " 'Omega': {'grade': 80, 'birth_month': 12}}"
      ]
     },
     "execution_count": 26,
     "metadata": {},
     "output_type": "execute_result"
    }
   ],
   "source": [
    "student_data = {'Alpha': {'grade': 80, 'birth_month': 1},\n",
    "                'Beta': {'grade': 70, 'birth_month': 3},\n",
    "                'Gamma': {'grade': 90, 'birth_month': 5},\n",
    "                'Delta': {'grade': 100, 'birth_month': 2},\n",
    "                'Epsilon': {'grade': 60, 'birth_month': 8}\n",
    "                }\n",
    "\n",
    "students_age = [15, 15, 16, 15, 14]\n",
    "student_data['Omega'] = {'grade': 80, 'birth_month': 12}\n",
    "\n",
    "students_age.append(14)\n",
    "student_data\n"
   ]
  },
  {
   "cell_type": "code",
   "execution_count": 28,
   "metadata": {},
   "outputs": [
    {
     "name": "stdout",
     "output_type": "stream",
     "text": [
      "14.833333333333334\n"
     ]
    }
   ],
   "source": [
    "average_age = 0.0\n",
    "average_age += students_age[0]\n",
    "average_age += students_age[1]\n",
    "average_age += students_age[2]\n",
    "average_age += students_age[3]\n",
    "average_age += students_age[4]\n",
    "average_age += students_age[5]\n",
    "average_age /= len(students_age)\n",
    "print(average_age)"
   ]
  }
 ],
 "metadata": {
  "kernelspec": {
   "display_name": "ROOT",
   "language": "python",
   "name": "python3"
  },
  "language_info": {
   "codemirror_mode": {
    "name": "ipython",
    "version": 3
   },
   "file_extension": ".py",
   "mimetype": "text/x-python",
   "name": "python",
   "nbconvert_exporter": "python",
   "pygments_lexer": "ipython3",
   "version": "3.11.7"
  }
 },
 "nbformat": 4,
 "nbformat_minor": 2
}
