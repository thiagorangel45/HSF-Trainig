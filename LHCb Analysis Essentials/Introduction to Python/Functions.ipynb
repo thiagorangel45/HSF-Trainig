{
 "cells": [
  {
   "cell_type": "code",
   "execution_count": 5,
   "metadata": {},
   "outputs": [],
   "source": [
    "def length(obj):\n",
    "    \"\"\"Return the number of elements in `obj`.\n",
    "\n",
    "    Args\n",
    "    ----\n",
    "    obj (iterable): Object the length will be calculated from.\n",
    "\n",
    "    Returns\n",
    "    -------\n",
    "    int: Number of elements in `obj`.\n",
    "    \"\"\"\n",
    "    count = 0\n",
    "    for _ in obj:\n",
    "        count += 1\n",
    "    return count\n"
   ]
  },
  {
   "cell_type": "code",
   "execution_count": 6,
   "metadata": {},
   "outputs": [
    {
     "name": "stdout",
     "output_type": "stream",
     "text": [
      "Help on function length in module __main__:\n",
      "\n",
      "length(obj)\n",
      "    Return the number of elements in `obj`.\n",
      "    \n",
      "    Args\n",
      "    ----\n",
      "    obj (iterable): Object the length will be calculated from.\n",
      "    \n",
      "    Returns\n",
      "    -------\n",
      "    int: Number of elements in `obj`.\n",
      "\n"
     ]
    }
   ],
   "source": [
    "help(length)"
   ]
  },
  {
   "cell_type": "code",
   "execution_count": 7,
   "metadata": {},
   "outputs": [
    {
     "data": {
      "text/plain": [
       "5"
      ]
     },
     "execution_count": 7,
     "metadata": {},
     "output_type": "execute_result"
    }
   ],
   "source": [
    "length('A b c!')\n",
    "length(range(5))"
   ]
  },
  {
   "cell_type": "code",
   "execution_count": 9,
   "metadata": {},
   "outputs": [],
   "source": [
    "x = 1\n",
    "def top_function():\n",
    "    \"\"\"Do something silly.\"\"\"\n",
    "    print(x)\n",
    "    print(y)\n",
    "\n",
    "y = 2"
   ]
  },
  {
   "cell_type": "code",
   "execution_count": 10,
   "metadata": {},
   "outputs": [
    {
     "name": "stdout",
     "output_type": "stream",
     "text": [
      "1\n",
      "2\n"
     ]
    }
   ],
   "source": [
    "top_function()"
   ]
  },
  {
   "cell_type": "code",
   "execution_count": 12,
   "metadata": {},
   "outputs": [
    {
     "data": {
      "text/plain": [
       "'much clever'"
      ]
     },
     "execution_count": 12,
     "metadata": {},
     "output_type": "execute_result"
    }
   ],
   "source": [
    "def no_return():\n",
    "     1 + 1\n",
    "\n",
    "no_return()\n",
    "no_return() == None\n",
    "def such_output():\n",
    "    return 'wow', 'much clever', 213\n",
    "\n",
    "such_output()\n",
    "a, b, c = such_output()\n",
    "b"
   ]
  },
  {
   "cell_type": "code",
   "execution_count": 13,
   "metadata": {},
   "outputs": [
    {
     "ename": "SyntaxError",
     "evalue": "positional argument follows keyword argument (2294383849.py, line 9)",
     "output_type": "error",
     "traceback": [
      "\u001b[0;36m  Cell \u001b[0;32mIn[13], line 9\u001b[0;36m\u001b[0m\n\u001b[0;31m    add(y=2, 1)\u001b[0m\n\u001b[0m              ^\u001b[0m\n\u001b[0;31mSyntaxError\u001b[0m\u001b[0;31m:\u001b[0m positional argument follows keyword argument\n"
     ]
    }
   ],
   "source": [
    "def add(x, y):\n",
    "    \"\"\"Return the sum of x and y.\"\"\"\n",
    "    return x + y\n",
    "\n",
    "add(1, 2)\n",
    "add(x=1, y=2)\n",
    "add(1, y=2)\n",
    "add(y=2, x=1)\n",
    "add(y=2, 1)"
   ]
  },
  {
   "cell_type": "code",
   "execution_count": 16,
   "metadata": {},
   "outputs": [
    {
     "name": "stdout",
     "output_type": "stream",
     "text": [
      "3\n",
      "3\n"
     ]
    }
   ],
   "source": [
    "def add(x, y, show):\n",
    "    \"\"\"Return the sum of x and y.\n",
    "...\n",
    "    Optionally print the result before returning it.\n",
    "    \"\"\"\n",
    "    if show:\n",
    "        print(x + y)\n",
    "        return x + y\n",
    "    \n",
    "_ = add(1, 2, True)\n",
    "_ = add(1, 2, show=True)"
   ]
  },
  {
   "cell_type": "code",
   "execution_count": 18,
   "metadata": {},
   "outputs": [
    {
     "ename": "IndentationError",
     "evalue": "unindent does not match any outer indentation level (<tokenize>, line 6)",
     "output_type": "error",
     "traceback": [
      "\u001b[0;36m  File \u001b[0;32m<tokenize>:6\u001b[0;36m\u001b[0m\n\u001b[0;31m    if show:\u001b[0m\n\u001b[0m    ^\u001b[0m\n\u001b[0;31mIndentationError\u001b[0m\u001b[0;31m:\u001b[0m unindent does not match any outer indentation level\n"
     ]
    }
   ],
   "source": [
    "def add(x, y, show=False):\n",
    "     \"\"\"Return the sum of x and y.\n",
    "...\n",
    "     Optionally print the result before returning it.\n",
    "    \"\"\"\n",
    "    if show:\n",
    "        print(x + y)\n",
    "        return x + y\n",
    "\n",
    "_ = add(1, 2) # No printing!\n",
    "_ = add(1, 2, show=True)"
   ]
  },
  {
   "cell_type": "code",
   "execution_count": 19,
   "metadata": {},
   "outputs": [
    {
     "data": {
      "text/plain": [
       "3"
      ]
     },
     "execution_count": 19,
     "metadata": {},
     "output_type": "execute_result"
    }
   ],
   "source": [
    "def run_method(method, x):\n",
    "    \"\"\"Call `method` with `x`.\"\"\"\n",
    "    return method(x)\n",
    "\n",
    "run_method(len, [1, 2, 3])"
   ]
  },
  {
   "cell_type": "code",
   "execution_count": 20,
   "metadata": {},
   "outputs": [],
   "source": [
    "def make_incrementor(increment):\n",
    "    def func(var):\n",
    "        return var + increment\n",
    "    return func\n"
   ]
  },
  {
   "cell_type": "code",
   "execution_count": 24,
   "metadata": {},
   "outputs": [
    {
     "name": "stdout",
     "output_type": "stream",
     "text": [
      "43 44\n"
     ]
    }
   ],
   "source": [
    "def func(var):\n",
    "    return var + 3\n",
    "\n",
    "increment_one = make_incrementor(1)\n",
    "increment_two = make_incrementor(2)\n",
    "print(increment_one(42), increment_two(42))"
   ]
  },
  {
   "cell_type": "code",
   "execution_count": 25,
   "metadata": {},
   "outputs": [],
   "source": [
    "def total(*args):\n",
    "    \"\"\"Return the sum of the arguments.\"\"\"\n",
    "    # For seeing what `*` does\n",
    "    print('Got {0} arguments: {1}'.format(len(args), args))\n",
    "    return sum(args)"
   ]
  },
  {
   "cell_type": "code",
   "execution_count": 26,
   "metadata": {},
   "outputs": [
    {
     "name": "stdout",
     "output_type": "stream",
     "text": [
      "Got 1 arguments: (1,)\n"
     ]
    },
    {
     "data": {
      "text/plain": [
       "1"
      ]
     },
     "execution_count": 26,
     "metadata": {},
     "output_type": "execute_result"
    }
   ],
   "source": [
    "total(1)"
   ]
  },
  {
   "cell_type": "code",
   "execution_count": 27,
   "metadata": {},
   "outputs": [
    {
     "name": "stdout",
     "output_type": "stream",
     "text": [
      "Got 2 arguments: (1, 2)\n"
     ]
    },
    {
     "data": {
      "text/plain": [
       "3"
      ]
     },
     "execution_count": 27,
     "metadata": {},
     "output_type": "execute_result"
    }
   ],
   "source": [
    "total(1, 2)"
   ]
  },
  {
   "cell_type": "code",
   "execution_count": 28,
   "metadata": {},
   "outputs": [
    {
     "name": "stdout",
     "output_type": "stream",
     "text": [
      "Got 3 arguments: (1, 2, 3)\n"
     ]
    },
    {
     "data": {
      "text/plain": [
       "6"
      ]
     },
     "execution_count": 28,
     "metadata": {},
     "output_type": "execute_result"
    }
   ],
   "source": [
    "total(1, 2, 3)"
   ]
  },
  {
   "cell_type": "code",
   "execution_count": 30,
   "metadata": {},
   "outputs": [
    {
     "ename": "TypeError",
     "evalue": "reverse_args() missing 1 required positional argument: 'y'",
     "output_type": "error",
     "traceback": [
      "\u001b[0;31m---------------------------------------------------------------------------\u001b[0m",
      "\u001b[0;31mTypeError\u001b[0m                                 Traceback (most recent call last)",
      "Cell \u001b[0;32mIn[30], line 5\u001b[0m\n\u001b[1;32m      2\u001b[0m     \u001b[38;5;28;01mreturn\u001b[39;00m y, x\n\u001b[1;32m      4\u001b[0m l \u001b[38;5;241m=\u001b[39m [\u001b[38;5;124m'\u001b[39m\u001b[38;5;124ma\u001b[39m\u001b[38;5;124m'\u001b[39m, \u001b[38;5;124m'\u001b[39m\u001b[38;5;124mb\u001b[39m\u001b[38;5;124m'\u001b[39m]\n\u001b[0;32m----> 5\u001b[0m \u001b[43mreverse_args\u001b[49m\u001b[43m(\u001b[49m\u001b[43ml\u001b[49m\u001b[43m)\u001b[49m\n\u001b[1;32m      6\u001b[0m reverse_args(\u001b[38;5;241m*\u001b[39ml)\n",
      "\u001b[0;31mTypeError\u001b[0m: reverse_args() missing 1 required positional argument: 'y'"
     ]
    }
   ],
   "source": [
    "def reverse_args(x, y):\n",
    "    return y, x\n",
    "\n",
    "l = ['a', 'b']\n",
    "reverse_args(l)\n",
    "reverse_args(*l)"
   ]
  },
  {
   "cell_type": "code",
   "execution_count": 31,
   "metadata": {},
   "outputs": [
    {
     "data": {
      "text/plain": [
       "('b', 'a')"
      ]
     },
     "execution_count": 31,
     "metadata": {},
     "output_type": "execute_result"
    }
   ],
   "source": [
    "reverse_args(*l)"
   ]
  },
  {
   "cell_type": "code",
   "execution_count": 33,
   "metadata": {},
   "outputs": [
    {
     "name": "stdout",
     "output_type": "stream",
     "text": [
      "Got 1 arguments: {'steve': 31}\n",
      "Person steve is 31\n",
      "Got 3 arguments: {'steve': 31, 'helen': 70, 'zorblax': 9963}\n",
      "Person steve is 31\n",
      "Person helen is 70\n",
      "Person zorblax is 9963\n"
     ]
    }
   ],
   "source": [
    "def ages(**people):\n",
    "    \"\"\"Print people's information.\"\"\"\n",
    "    # For seeing what `**` does\n",
    "    print('Got {0} arguments: {1}'.format(len(people), people))\n",
    "    for person in people:\n",
    "        print('Person {0} is {1}'.format(person, people[person]))\n",
    "\n",
    "\n",
    "ages(steve=31)\n",
    "ages(steve=31, helen=70, zorblax=9963)"
   ]
  },
  {
   "cell_type": "code",
   "execution_count": 34,
   "metadata": {},
   "outputs": [
    {
     "name": "stdout",
     "output_type": "stream",
     "text": [
      "Got 2 arguments: {'thor': 5000, 'yoda': -1}\n",
      "Person thor is 5000\n",
      "Person yoda is -1\n"
     ]
    }
   ],
   "source": [
    "d = {'thor': 5000, 'yoda': -1}\n",
    "ages(**d)"
   ]
  },
  {
   "cell_type": "code",
   "execution_count": 35,
   "metadata": {},
   "outputs": [
    {
     "name": "stdout",
     "output_type": "stream",
     "text": [
      "Got args: (1, 2, 'abc')\n",
      "Got kwargs: {'foo': 'bar', 'bing': 'baz'}\n"
     ]
    }
   ],
   "source": [
    "def generic(*args, **kwargs):\n",
    "    print('Got args: {0}'.format(args))\n",
    "    print('Got kwargs: {0}'.format(kwargs))\n",
    "\n",
    "d = {'bing': 'baz'}\n",
    "generic(1, 2, 'abc', foo='bar', **d)"
   ]
  },
  {
   "cell_type": "code",
   "execution_count": 36,
   "metadata": {},
   "outputs": [
    {
     "data": {
      "text/plain": [
       "<map at 0x11401d030>"
      ]
     },
     "execution_count": 36,
     "metadata": {},
     "output_type": "execute_result"
    }
   ],
   "source": [
    "map(str, range(5))"
   ]
  },
  {
   "cell_type": "code",
   "execution_count": 38,
   "metadata": {},
   "outputs": [
    {
     "ename": "IndentationError",
     "evalue": "unindent does not match any outer indentation level (<tokenize>, line 3)",
     "output_type": "error",
     "traceback": [
      "\u001b[0;36m  File \u001b[0;32m<tokenize>:3\u001b[0;36m\u001b[0m\n\u001b[0;31m    return x*x*x\u001b[0m\n\u001b[0m    ^\u001b[0m\n\u001b[0;31mIndentationError\u001b[0m\u001b[0;31m:\u001b[0m unindent does not match any outer indentation level\n"
     ]
    }
   ],
   "source": [
    "def cube(x):\n",
    "     \"\"\"Return the third power of x.\"\"\"\n",
    "    return x*x*x\n",
    "\n",
    "\n",
    "map(cube, range(5))"
   ]
  },
  {
   "cell_type": "code",
   "execution_count": 39,
   "metadata": {},
   "outputs": [
    {
     "data": {
      "text/plain": [
       "<map at 0x114014340>"
      ]
     },
     "execution_count": 39,
     "metadata": {},
     "output_type": "execute_result"
    }
   ],
   "source": [
    "map(lambda x: x*x*x, range(5))"
   ]
  },
  {
   "cell_type": "code",
   "execution_count": 40,
   "metadata": {},
   "outputs": [
    {
     "data": {
      "text/plain": [
       "<function __main__.<lambda>(x)>"
      ]
     },
     "execution_count": 40,
     "metadata": {},
     "output_type": "execute_result"
    }
   ],
   "source": [
    "div2 = lambda x: x/2\n",
    "div2"
   ]
  },
  {
   "cell_type": "code",
   "execution_count": 41,
   "metadata": {},
   "outputs": [
    {
     "data": {
      "text/plain": [
       "<map at 0x11401dba0>"
      ]
     },
     "execution_count": 41,
     "metadata": {},
     "output_type": "execute_result"
    }
   ],
   "source": [
    "map(div2, range(5))"
   ]
  },
  {
   "cell_type": "code",
   "execution_count": 42,
   "metadata": {},
   "outputs": [],
   "source": [
    "square = lambda x: x*x\n",
    "sqrt = lambda x: x**0.5"
   ]
  },
  {
   "cell_type": "code",
   "execution_count": 45,
   "metadata": {},
   "outputs": [
    {
     "data": {
      "text/plain": [
       "1.4142135623730951"
      ]
     },
     "execution_count": 45,
     "metadata": {},
     "output_type": "execute_result"
    }
   ],
   "source": [
    "def quadrature(*args):\n",
    "    \"\"\"Return the sum in quadrature of the arguments.\"\"\"\n",
    "    return sqrt(sum(map(square, args)))\n",
    "\n",
    "quadrature(1, 1) # should be equal to sqrt(2)"
   ]
  },
  {
   "cell_type": "code",
   "execution_count": 46,
   "metadata": {},
   "outputs": [
    {
     "data": {
      "text/plain": [
       "<filter at 0x11401d9c0>"
      ]
     },
     "execution_count": 46,
     "metadata": {},
     "output_type": "execute_result"
    }
   ],
   "source": [
    "filter(lambda x: x % 2 == 0, range(10))   # filter and return the even numbers only"
   ]
  },
  {
   "cell_type": "code",
   "execution_count": 47,
   "metadata": {},
   "outputs": [
    {
     "data": {
      "text/plain": [
       "[0, 2, 4, 6, 8]"
      ]
     },
     "execution_count": 47,
     "metadata": {},
     "output_type": "execute_result"
    }
   ],
   "source": [
    "[ x for x in range(10) if x % 2 == 0 ]"
   ]
  },
  {
   "cell_type": "code",
   "execution_count": null,
   "metadata": {},
   "outputs": [],
   "source": []
  }
 ],
 "metadata": {
  "kernelspec": {
   "display_name": "ROOT",
   "language": "python",
   "name": "python3"
  },
  "language_info": {
   "codemirror_mode": {
    "name": "ipython",
    "version": 3
   },
   "file_extension": ".py",
   "mimetype": "text/x-python",
   "name": "python",
   "nbconvert_exporter": "python",
   "pygments_lexer": "ipython3",
   "version": "3.11.7"
  }
 },
 "nbformat": 4,
 "nbformat_minor": 2
}
