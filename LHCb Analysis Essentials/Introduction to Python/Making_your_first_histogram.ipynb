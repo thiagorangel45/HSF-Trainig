{
 "cells": [
  {
   "cell_type": "code",
   "execution_count": null,
   "metadata": {},
   "outputs": [],
   "source": [
    "import ROOT\n",
    "filename = 'root://eospublic.cern.ch//eos/opendata/lhcb/AntimatterMatters2017/data/B2HHH_MagnetDown.root'\n",
    "my_file = ROOT.TFile.Open(filename)\n",
    "my_file.ls()"
   ]
  },
  {
   "cell_type": "code",
   "execution_count": null,
   "metadata": {},
   "outputs": [],
   "source": [
    "import pandas_root\n",
    "df = pandas_root.read_root(filename, key='DecayTree')"
   ]
  },
  {
   "cell_type": "code",
   "execution_count": null,
   "metadata": {},
   "outputs": [],
   "source": [
    "df.eval('sqrt(H2_PX**2 + H2_PY**2)')"
   ]
  },
  {
   "cell_type": "code",
   "execution_count": null,
   "metadata": {},
   "outputs": [],
   "source": [
    "df.eval('H2_PT = sqrt(H2_PX**2 + H2_PY**2)', inplace=True)"
   ]
  },
  {
   "cell_type": "code",
   "execution_count": null,
   "metadata": {},
   "outputs": [],
   "source": [
    "df.eval('B_P = sqrt('\n",
    "        '(H1_PX + H2_PX + H3_PX)**2 + '\n",
    "        '(H1_PY + H2_PY + H3_PY)**2 + '\n",
    "        '(H1_PZ + H2_PZ + H3_PZ)**2'\n",
    "        ')', inplace=True)"
   ]
  },
  {
   "cell_type": "code",
   "execution_count": null,
   "metadata": {},
   "outputs": [],
   "source": [
    "import matplotlib\n",
    "matplotlib.use('Agg')  # Force matplotlib to not use any Xwindows backend.\n",
    "from matplotlib import pyplot as plt\n",
    "plt.hist(df['B_FlightDistance'])\n",
    "plt.savefig('B_flight_distance.pdf')"
   ]
  },
  {
   "cell_type": "code",
   "execution_count": null,
   "metadata": {},
   "outputs": [],
   "source": [
    "import numpy as np\n",
    "bins = np.linspace(0, 150, 100)\n",
    "plt.hist(df['B_FlightDistance'], bins=bins)\n",
    "plt.savefig('B_flight_distance_v2.pdf')"
   ]
  },
  {
   "cell_type": "code",
   "execution_count": null,
   "metadata": {},
   "outputs": [],
   "source": [
    "plt.close()  # Close the previous plot\n",
    "\n",
    "plt.hist(df['B_FlightDistance'], bins=bins, histtype='step', label='My data label')\n",
    "plt.xlim(bins[0], bins[-1])\n",
    "plt.xlabel('Flight distance of $B^+$ meson')\n",
    "plt.legend(loc='best')\n",
    "plt.savefig('B_flight_distance_v3.pdf')"
   ]
  },
  {
   "cell_type": "code",
   "execution_count": null,
   "metadata": {},
   "outputs": [],
   "source": [
    "df_with_cut = df.query('B_FlightDistance > 15')"
   ]
  },
  {
   "cell_type": "code",
   "execution_count": null,
   "metadata": {},
   "outputs": [],
   "source": [
    "bins = np.linspace(0, 150, 100)\n",
    "df_with_cut = df.query('B_P > 100000')\n",
    "\n",
    "plt.figure()\n",
    "plt.hist(df['B_FlightDistance'], bins=bins, histtype='step', density=1, label='Without cut')\n",
    "plt.hist(df_with_cut['B_FlightDistance'], bins=bins, histtype='step', density=1, label='With 100 GeV momentum cut')\n",
    "\n",
    "plt.xlim(bins[0], bins[-1])\n",
    "plt.xlabel('Total momentum of $B^+$ meson')\n",
    "plt.legend(loc='best')\n",
    "plt.savefig('B_flight_distance_with_cut_compare.pdf')"
   ]
  },
  {
   "cell_type": "code",
   "execution_count": null,
   "metadata": {},
   "outputs": [],
   "source": []
  }
 ],
 "metadata": {
  "kernelspec": {
   "display_name": "ROOT",
   "language": "python",
   "name": "python3"
  },
  "language_info": {
   "codemirror_mode": {
    "name": "ipython",
    "version": 3
   },
   "file_extension": ".py",
   "mimetype": "text/x-python",
   "name": "python",
   "nbconvert_exporter": "python",
   "pygments_lexer": "ipython3",
   "version": "3.11.7"
  }
 },
 "nbformat": 4,
 "nbformat_minor": 2
}
