{
 "cells": [
  {
   "cell_type": "code",
   "execution_count": 1,
   "metadata": {},
   "outputs": [
    {
     "data": {
      "text/plain": [
       "2.0"
      ]
     },
     "execution_count": 1,
     "metadata": {},
     "output_type": "execute_result"
    }
   ],
   "source": [
    "import collections\n",
    "Coordinate = collections.namedtuple('Coordinate', ['x', 'y'])\n",
    "coord = Coordinate(4.5, 2.0)\n",
    "coord.y"
   ]
  },
  {
   "cell_type": "code",
   "execution_count": 2,
   "metadata": {},
   "outputs": [
    {
     "data": {
      "text/plain": [
       "4.5"
      ]
     },
     "execution_count": 2,
     "metadata": {},
     "output_type": "execute_result"
    }
   ],
   "source": [
    "x, y = coord\n",
    "x"
   ]
  },
  {
   "cell_type": "code",
   "execution_count": 4,
   "metadata": {},
   "outputs": [
    {
     "name": "stdout",
     "output_type": "stream",
     "text": [
      "foo bar\n",
      "123 321\n",
      "hero thor\n"
     ]
    }
   ],
   "source": [
    "d = {'foo': 'bar', 123: 321, 'hero': 'thor'}\n",
    "for key, value in d.items():\n",
    "    print(key, value)"
   ]
  },
  {
   "cell_type": "code",
   "execution_count": 5,
   "metadata": {},
   "outputs": [
    {
     "name": "stdout",
     "output_type": "stream",
     "text": [
      "foo bar\n",
      "123 321\n",
      "hero thor\n"
     ]
    }
   ],
   "source": [
    "d = collections.OrderedDict([('foo', 'bar'), (123, 321)])\n",
    "d.update([('hero', 'thor')])\n",
    "for key, value in d.items():\n",
    "    print(key, value)"
   ]
  },
  {
   "cell_type": "code",
   "execution_count": 6,
   "metadata": {},
   "outputs": [
    {
     "name": "stdout",
     "output_type": "stream",
     "text": [
      "defaultdict(<class 'int'>, {'foo': 1, 'bar': 0}) 1 0\n"
     ]
    }
   ],
   "source": [
    "d = collections.defaultdict(int)\n",
    "d['foo'] += 1\n",
    "print(d, d['foo'], d['bar'])"
   ]
  },
  {
   "cell_type": "code",
   "execution_count": 7,
   "metadata": {},
   "outputs": [],
   "source": [
    "import time\n",
    "\n",
    "\n",
    "def myFunc(x,y,verbose = True, fast='yes'):\n",
    "    \"\"\"Do the thing.\"\"\"\n",
    "    z=( x *y ) /2\n",
    "    if verbose == False:\n",
    "        print(x,y, z)\n",
    "    if not fast:\n",
    "        time.sleep( 1 )\n",
    "    return  z* z\n",
    "\n",
    "\n",
    "def my_func(x, y, verbose=True, fast=True):\n",
    "    \"\"\"Return ((x*y)/2)**2.\n",
    "\n",
    "    Keyword arguments:\n",
    "    x, y -- Values used in the computation\n",
    "    verbose -- Print computation information\n",
    "    fast -- If True, sleep for 1 second before returning\n",
    "    \"\"\"\n",
    "    z = (x*y)/2\n",
    "\n",
    "    if verbose:\n",
    "        print(x, y, z)\n",
    "    # Should probably remove this functionality\n",
    "    if not fast:\n",
    "        time.sleep(1)\n",
    "\n",
    "    return z*z"
   ]
  },
  {
   "cell_type": "code",
   "execution_count": 8,
   "metadata": {},
   "outputs": [
    {
     "name": "stdout",
     "output_type": "stream",
     "text": [
      "The Zen of Python, by Tim Peters\n",
      "\n",
      "Beautiful is better than ugly.\n",
      "Explicit is better than implicit.\n",
      "Simple is better than complex.\n",
      "Complex is better than complicated.\n",
      "Flat is better than nested.\n",
      "Sparse is better than dense.\n",
      "Readability counts.\n",
      "Special cases aren't special enough to break the rules.\n",
      "Although practicality beats purity.\n",
      "Errors should never pass silently.\n",
      "Unless explicitly silenced.\n",
      "In the face of ambiguity, refuse the temptation to guess.\n",
      "There should be one-- and preferably only one --obvious way to do it.\n",
      "Although that way may not be obvious at first unless you're Dutch.\n",
      "Now is better than never.\n",
      "Although never is often better than *right* now.\n",
      "If the implementation is hard to explain, it's a bad idea.\n",
      "If the implementation is easy to explain, it may be a good idea.\n",
      "Namespaces are one honking great idea -- let's do more of those!\n"
     ]
    }
   ],
   "source": [
    "import this"
   ]
  },
  {
   "cell_type": "code",
   "execution_count": null,
   "metadata": {},
   "outputs": [],
   "source": []
  }
 ],
 "metadata": {
  "kernelspec": {
   "display_name": "ROOT",
   "language": "python",
   "name": "python3"
  },
  "language_info": {
   "codemirror_mode": {
    "name": "ipython",
    "version": 3
   },
   "file_extension": ".py",
   "mimetype": "text/x-python",
   "name": "python",
   "nbconvert_exporter": "python",
   "pygments_lexer": "ipython3",
   "version": "3.11.7"
  }
 },
 "nbformat": 4,
 "nbformat_minor": 2
}
