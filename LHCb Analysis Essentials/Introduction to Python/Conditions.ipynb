{
 "cells": [
  {
   "cell_type": "code",
   "execution_count": 21,
   "metadata": {},
   "outputs": [
    {
     "name": "stdout",
     "output_type": "stream",
     "text": [
      "Weird pizza.\n",
      "Nice pizza!\n",
      "Amazing pizza!\n",
      "Weird pizza.\n"
     ]
    }
   ],
   "source": [
    "pizzas = ['Pineapple', 'Cheese', 'Pepperoni', 'Hot dog']\n",
    "for p in pizzas:\n",
    "    if p == 'Cheese':\n",
    "        print('Nice pizza!')\n",
    "    elif p == 'Pepperoni':\n",
    "        print('Amazing pizza!')\n",
    "    else:\n",
    "        print('Weird pizza.')"
   ]
  },
  {
   "cell_type": "code",
   "execution_count": 22,
   "metadata": {},
   "outputs": [
    {
     "data": {
      "text/plain": [
       "'not ok'"
      ]
     },
     "execution_count": 22,
     "metadata": {},
     "output_type": "execute_result"
    }
   ],
   "source": [
    "x = 'ok' if pizzas[0] == 'Cheese' else 'not ok'\n",
    "x"
   ]
  },
  {
   "cell_type": "code",
   "execution_count": 23,
   "metadata": {},
   "outputs": [
    {
     "data": {
      "text/plain": [
       "False"
      ]
     },
     "execution_count": 23,
     "metadata": {},
     "output_type": "execute_result"
    }
   ],
   "source": [
    "if pizzas[0] == 'Cheese':\n",
    "    print('It is cheese, my dudes.')\n",
    "\n",
    "pizzas[0] == 'Cheese'"
   ]
  },
  {
   "cell_type": "code",
   "execution_count": 24,
   "metadata": {},
   "outputs": [
    {
     "data": {
      "text/plain": [
       "True"
      ]
     },
     "execution_count": 24,
     "metadata": {},
     "output_type": "execute_result"
    }
   ],
   "source": [
    "True, False\n",
    "\n",
    "True == False\n",
    "\n",
    "True != False\n",
    "\n",
    "1 > 2\n",
    "\n",
    "(1 > 2) == False"
   ]
  },
  {
   "cell_type": "code",
   "execution_count": 25,
   "metadata": {},
   "outputs": [
    {
     "data": {
      "text/plain": [
       "False"
      ]
     },
     "execution_count": 25,
     "metadata": {},
     "output_type": "execute_result"
    }
   ],
   "source": [
    "x = 2\n",
    "1 < x and x < 3\n",
    "3 < x or 1 < x\n",
    "\n",
    "not 1 < x"
   ]
  },
  {
   "cell_type": "code",
   "execution_count": 26,
   "metadata": {},
   "outputs": [
    {
     "data": {
      "text/plain": [
       "True"
      ]
     },
     "execution_count": 26,
     "metadata": {},
     "output_type": "execute_result"
    }
   ],
   "source": [
    "x = [1, 2]\n",
    "y = [1, 2]\n",
    "z = {'hero': 'thor'}\n",
    "x == y"
   ]
  },
  {
   "cell_type": "code",
   "execution_count": 27,
   "metadata": {},
   "outputs": [
    {
     "data": {
      "text/plain": [
       "False"
      ]
     },
     "execution_count": 27,
     "metadata": {},
     "output_type": "execute_result"
    }
   ],
   "source": [
    "y == z"
   ]
  },
  {
   "cell_type": "code",
   "execution_count": 28,
   "metadata": {},
   "outputs": [
    {
     "data": {
      "text/plain": [
       "False"
      ]
     },
     "execution_count": 28,
     "metadata": {},
     "output_type": "execute_result"
    }
   ],
   "source": [
    "3 in x\n",
    "\n",
    "1 in y\n",
    "\n",
    "'thor' in z"
   ]
  },
  {
   "cell_type": "code",
   "execution_count": 29,
   "metadata": {},
   "outputs": [
    {
     "ename": "KeyError",
     "evalue": "'pizza'",
     "output_type": "error",
     "traceback": [
      "\u001b[0;31m---------------------------------------------------------------------------\u001b[0m",
      "\u001b[0;31mKeyError\u001b[0m                                  Traceback (most recent call last)",
      "Cell \u001b[0;32mIn[29], line 1\u001b[0m\n\u001b[0;32m----> 1\u001b[0m \u001b[43mz\u001b[49m\u001b[43m[\u001b[49m\u001b[38;5;124;43m'\u001b[39;49m\u001b[38;5;124;43mpizza\u001b[39;49m\u001b[38;5;124;43m'\u001b[39;49m\u001b[43m]\u001b[49m\n",
      "\u001b[0;31mKeyError\u001b[0m: 'pizza'"
     ]
    }
   ],
   "source": [
    "z['pizza']"
   ]
  },
  {
   "cell_type": "code",
   "execution_count": 30,
   "metadata": {},
   "outputs": [
    {
     "name": "stdout",
     "output_type": "stream",
     "text": [
      "No pizza :(\n"
     ]
    }
   ],
   "source": [
    "if 'pizza' in z:\n",
    "    print('We have pizza', z['pizza'])\n",
    "else:\n",
    "   print('No pizza :(')"
   ]
  },
  {
   "cell_type": "code",
   "execution_count": 31,
   "metadata": {},
   "outputs": [
    {
     "data": {
      "text/plain": [
       "True"
      ]
     },
     "execution_count": 31,
     "metadata": {},
     "output_type": "execute_result"
    }
   ],
   "source": [
    "1 in [[1, 2], [3, 4]]\n",
    "\n",
    "[1, 2] in [[1, 2], [3, 4]]"
   ]
  },
  {
   "cell_type": "code",
   "execution_count": 32,
   "metadata": {},
   "outputs": [
    {
     "data": {
      "text/plain": [
       "False"
      ]
     },
     "execution_count": 32,
     "metadata": {},
     "output_type": "execute_result"
    }
   ],
   "source": [
    "x= [1]\n",
    "x.__contains__(1)\n",
    "\n",
    "x.__contains__(2)"
   ]
  },
  {
   "cell_type": "code",
   "execution_count": 33,
   "metadata": {},
   "outputs": [
    {
     "data": {
      "text/plain": [
       "False"
      ]
     },
     "execution_count": 33,
     "metadata": {},
     "output_type": "execute_result"
    }
   ],
   "source": [
    "fact = 'The best hero is Thor.'\n",
    "'Thor' in fact\n",
    "\n",
    "'Iron Man' in fact"
   ]
  },
  {
   "cell_type": "code",
   "execution_count": 34,
   "metadata": {},
   "outputs": [
    {
     "name": "stdout",
     "output_type": "stream",
     "text": [
      "Weird.\n",
      "Not weird.\n"
     ]
    }
   ],
   "source": [
    "if ('Pineapple' in pizzas) == True:\n",
    "    print('Weird.')\n",
    "\n",
    "if 'Pineapple' in pizzas:\n",
    "    print('Not weird.')"
   ]
  },
  {
   "cell_type": "code",
   "execution_count": 35,
   "metadata": {},
   "outputs": [
    {
     "data": {
      "text/plain": [
       "False"
      ]
     },
     "execution_count": 35,
     "metadata": {},
     "output_type": "execute_result"
    }
   ],
   "source": [
    "if ('Pineapple' in pizzas) == False:\n",
    "    print ('Weird.')\n",
    "\n",
    "if not 'Pineapple' in pizzas:\n",
    "    print ('Not weird.')\n",
    "\n",
    "not 'Pineapple' in pizzas\n",
    "'Pineapple' not in pizzas"
   ]
  },
  {
   "cell_type": "code",
   "execution_count": 36,
   "metadata": {},
   "outputs": [],
   "source": [
    "if list() or dict() or tuple() or str():\n",
    "    print (\"You wont see me!\")"
   ]
  },
  {
   "cell_type": "code",
   "execution_count": 37,
   "metadata": {},
   "outputs": [
    {
     "name": "stdout",
     "output_type": "stream",
     "text": [
      "No favourite :(\n"
     ]
    }
   ],
   "source": [
    "favourite = None\n",
    "for p in pizzas:\n",
    "    if 'Olives' in p:\n",
    "        favourite = p\n",
    "\n",
    "if favourite:\n",
    "    print ('Found favourite: {0}'.format(favourite))\n",
    "else:\n",
    "    print ('No favourite :(')"
   ]
  },
  {
   "cell_type": "code",
   "execution_count": 38,
   "metadata": {},
   "outputs": [
    {
     "data": {
      "text/plain": [
       "['Pineapple', 'Pepperoni', 'Hot dog']"
      ]
     },
     "execution_count": 38,
     "metadata": {},
     "output_type": "execute_result"
    }
   ],
   "source": [
    "not_cheesy = [p for p in pizzas if 'cheese' not in p.lower()]\n",
    "not_cheesy"
   ]
  },
  {
   "cell_type": "code",
   "execution_count": 39,
   "metadata": {},
   "outputs": [
    {
     "data": {
      "text/plain": [
       "\"\\nwhile i > 0:\\n    print('T-minus {0} seconds'.format(i))\\n    i -= 1\\nprint('Blast off!')\\n\""
      ]
     },
     "execution_count": 39,
     "metadata": {},
     "output_type": "execute_result"
    }
   ],
   "source": [
    "i = 5\n",
    "'''\n",
    "while i > 0:\n",
    "    print('T-minus {0} seconds'.format(i))\n",
    "    i -= 1\n",
    "print('Blast off!')\n",
    "'''"
   ]
  },
  {
   "cell_type": "code",
   "execution_count": 43,
   "metadata": {},
   "outputs": [
    {
     "data": {
      "text/plain": [
       "2"
      ]
     },
     "execution_count": 43,
     "metadata": {},
     "output_type": "execute_result"
    }
   ],
   "source": [
    "ok = False\n",
    "i = 0\n",
    "while not ok:\n",
    "    ok =  'cheese' in pizzas[i].lower()\n",
    "     # Equivalent to `i = i + 1`\n",
    "    i += 1\n",
    "\n",
    "i"
   ]
  },
  {
   "cell_type": "code",
   "execution_count": 41,
   "metadata": {},
   "outputs": [
    {
     "data": {
      "text/plain": [
       "'Cheese'"
      ]
     },
     "execution_count": 41,
     "metadata": {},
     "output_type": "execute_result"
    }
   ],
   "source": [
    "for pizza in pizzas:\n",
    "    if 'cheese' in pizza.lower():\n",
    "        yum = pizza\n",
    "        break\n",
    "\n",
    "yum"
   ]
  },
  {
   "cell_type": "code",
   "execution_count": null,
   "metadata": {},
   "outputs": [],
   "source": []
  }
 ],
 "metadata": {
  "kernelspec": {
   "display_name": "ROOT",
   "language": "python",
   "name": "python3"
  },
  "language_info": {
   "codemirror_mode": {
    "name": "ipython",
    "version": 3
   },
   "file_extension": ".py",
   "mimetype": "text/x-python",
   "name": "python",
   "nbconvert_exporter": "python",
   "pygments_lexer": "ipython3",
   "version": "3.11.7"
  }
 },
 "nbformat": 4,
 "nbformat_minor": 2
}
