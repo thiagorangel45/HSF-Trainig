{
 "cells": [
  {
   "cell_type": "code",
   "execution_count": 1,
   "metadata": {},
   "outputs": [
    {
     "name": "stdout",
     "output_type": "stream",
     "text": [
      "Making pizza...\n",
      "Adding cheese\n",
      "Adding olives\n",
      "Done!\n"
     ]
    }
   ],
   "source": [
    "import time\n",
    "\n",
    "def make_pizza(*toppings):\n",
    "    \"\"\"Make a delicious pizza from the toppings.\"\"\"\n",
    "    print('Making pizza...')\n",
    "    for topping in toppings:\n",
    "        print('Adding {0}'.format(topping))\n",
    "        time.sleep(1)\n",
    "    print('Done!')\n",
    "    return 'Pizza with toppings: {0}'.format(toppings)\n",
    "\n",
    "pizza = make_pizza('cheese', 'olives')"
   ]
  },
  {
   "cell_type": "code",
   "execution_count": 2,
   "metadata": {},
   "outputs": [
    {
     "name": "stdout",
     "output_type": "stream",
     "text": [
      "sys.argv: ['/Users/thiagorangel/anaconda3/envs/ROOT/lib/python3.11/site-packages/ipykernel_launcher.py', '--f=/Users/thiagorangel/Library/Jupyter/runtime/kernel-v2-38506i6PRN0c82CvN.json']\n"
     ]
    }
   ],
   "source": [
    "import sys\n",
    "import time\n",
    "\n",
    "def make_pizza(*toppings):\n",
    "    \"\"\"Make a delicious pizza from the toppings.\"\"\"\n",
    "    print('Making pizza...')\n",
    "    for topping in toppings:\n",
    "        print('Adding {0}'.format(topping))\n",
    "        time.sleep(1)\n",
    "    print('Done!')\n",
    "    return 'Pizza with toppings: {0}'.format(toppings)\n",
    "\n",
    "print('sys.argv:', sys.argv)\n",
    "# pizza = make_pizza('cheese', 'olives')"
   ]
  },
  {
   "cell_type": "code",
   "execution_count": 3,
   "metadata": {},
   "outputs": [
    {
     "name": "stdout",
     "output_type": "stream",
     "text": [
      "Making pizza...\n",
      "Adding --f=/Users/thiagorangel/Library/Jupyter/runtime/kernel-v2-38506i6PRN0c82CvN.json\n",
      "Done!\n"
     ]
    }
   ],
   "source": [
    "arguments = sys.argv[1:]\n",
    "\n",
    "if '--help' in arguments:\n",
    "    print('Make a pizza.')\n",
    "    print('Usage: pizzaiolo.py topping1 topping2 ...')\n",
    "    sys.exit()\n",
    "\n",
    "if '--verbose' in arguments:\n",
    "    verbose = True\n",
    "    # We don't want the flag passed as a topping!\n",
    "    arguments.remove('--verbose')\n",
    "else:\n",
    "    verbose = False\n",
    "\n",
    "if verbose:\n",
    "    print('About to call make_pizza')\n",
    "pizza = make_pizza(*arguments)\n",
    "if verbose:\n",
    "    print('Finished')"
   ]
  },
  {
   "cell_type": "code",
   "execution_count": 4,
   "metadata": {},
   "outputs": [
    {
     "name": "stderr",
     "output_type": "stream",
     "text": [
      "usage: ipykernel_launcher.py [-h] [--verbose] toppings [toppings ...]\n",
      "ipykernel_launcher.py: error: the following arguments are required: toppings\n"
     ]
    },
    {
     "ename": "SystemExit",
     "evalue": "2",
     "output_type": "error",
     "traceback": [
      "An exception has occurred, use %tb to see the full traceback.\n",
      "\u001b[0;31mSystemExit\u001b[0m\u001b[0;31m:\u001b[0m 2\n"
     ]
    },
    {
     "name": "stderr",
     "output_type": "stream",
     "text": [
      "/Users/thiagorangel/anaconda3/envs/ROOT/lib/python3.11/site-packages/IPython/core/interactiveshell.py:3561: UserWarning: To exit: use 'exit', 'quit', or Ctrl-D.\n",
      "  warn(\"To exit: use 'exit', 'quit', or Ctrl-D.\", stacklevel=1)\n"
     ]
    }
   ],
   "source": [
    "import argparse\n",
    "import sys\n",
    "import time\n",
    "\n",
    "\n",
    "def make_pizza(*toppings):\n",
    "    \"\"\"Make a delicious pizza from the toppings.\"\"\"\n",
    "    print('Making pizza...')\n",
    "    for topping in toppings:\n",
    "        print('Adding {0}'.format(topping))\n",
    "        time.sleep(1)\n",
    "    print('Done!')\n",
    "    return 'Pizza with toppings: {0}'.format(toppings)\n",
    "\n",
    "\n",
    "parser = argparse.ArgumentParser(description='Make a pizza')\n",
    "parser.add_argument('toppings', nargs='+',\n",
    "                    help='Toppings to put on the pizza.')\n",
    "parser.add_argument('--verbose', '-v', action='store_true',\n",
    "                    help='Print more information whilst making.')\n",
    "arguments = parser.parse_args()\n",
    "\n",
    "if arguments.verbose:\n",
    "    print('About to call make_pizza')\n",
    "make_pizza(*arguments.toppings)\n",
    "if arguments.verbose:\n",
    "    print ('Finished')"
   ]
  },
  {
   "cell_type": "code",
   "execution_count": null,
   "metadata": {},
   "outputs": [],
   "source": []
  }
 ],
 "metadata": {
  "kernelspec": {
   "display_name": "ROOT",
   "language": "python",
   "name": "python3"
  },
  "language_info": {
   "codemirror_mode": {
    "name": "ipython",
    "version": 3
   },
   "file_extension": ".py",
   "mimetype": "text/x-python",
   "name": "python",
   "nbconvert_exporter": "python",
   "pygments_lexer": "ipython3",
   "version": "3.11.7"
  }
 },
 "nbformat": 4,
 "nbformat_minor": 2
}
