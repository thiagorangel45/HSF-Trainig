{
 "cells": [
  {
   "cell_type": "code",
   "execution_count": 1,
   "metadata": {},
   "outputs": [
    {
     "data": {
      "text/plain": [
       "MomentumObject3D(pt=1.0, phi=1.5707963267948966, eta=0.881373587019543)"
      ]
     },
     "execution_count": 1,
     "metadata": {},
     "output_type": "execute_result"
    }
   ],
   "source": [
    "import vector\n",
    "\n",
    "one = vector.obj(px=1, py=0, pz=0)\n",
    "two = vector.obj(px=0, py=1, pz=1)\n",
    "\n",
    "one + two\n",
    "\n",
    "one.deltaR(two)\n",
    "\n",
    "one.to_rhophieta()\n",
    "two.to_rhophieta()"
   ]
  },
  {
   "cell_type": "code",
   "execution_count": 2,
   "metadata": {},
   "outputs": [
    {
     "data": {
      "text/plain": [
       "MomentumNumpy3D([(37.7582, -0.441078, -1.05138), (44.7322,  2.74126 , -1.21769),\n",
       "                 (44.3927,  2.7413  , -1.21776), ...,\n",
       "                 (72.8781, -2.77524 , -1.4827 ), (73.6852, -2.77519 , -1.48227),\n",
       "                 (73.6852, -2.77519 , -1.48227)],\n",
       "                dtype=[('rho', '<f8'), ('phi', '<f8'), ('eta', '<f8')])"
      ]
     },
     "execution_count": 2,
     "metadata": {},
     "output_type": "execute_result"
    }
   ],
   "source": [
    "import skhep_testdata, uproot\n",
    "import awkward as ak\n",
    "import vector\n",
    "\n",
    "tree = uproot.open(skhep_testdata.data_path(\"uproot-Zmumu.root\"))[\"events\"]\n",
    "\n",
    "one = ak.to_numpy(tree.arrays(filter_name=[\"E1\", \"p[xyz]1\"]))\n",
    "two = ak.to_numpy(tree.arrays(filter_name=[\"E2\", \"p[xyz]2\"]))\n",
    "\n",
    "one.dtype.names = (\"E\", \"px\", \"py\", \"pz\")\n",
    "two.dtype.names = (\"E\", \"px\", \"py\", \"pz\")\n",
    "\n",
    "one = one.view(vector.MomentumNumpy4D)\n",
    "two = two.view(vector.MomentumNumpy4D)\n",
    "\n",
    "one + two\n",
    "\n",
    "one.deltaR(two)\n",
    "\n",
    "one.to_rhophieta()\n",
    "two.to_rhophieta()"
   ]
  },
  {
   "cell_type": "code",
   "execution_count": 3,
   "metadata": {},
   "outputs": [
    {
     "data": {
      "text/html": [
       "<pre>[[{rho: 54.2, phi: -2.92, eta: -0.15, px: -52.9, py: -11.7, pz: ..., ...}, ...],\n",
       " [{rho: 24.4, phi: -1.6, eta: 0.754, px: -0.816, py: -24.4, pz: 20.2, ...}],\n",
       " [{rho: 53.6, phi: -0.417, eta: 0.207, px: 49, py: -21.7, pz: 11.2, ...}, ...],\n",
       " [{rho: 88.6, phi: -1.32, eta: 2.22, px: 22.1, py: -85.8, pz: 404, ...}, ...],\n",
       " [{rho: 81, phi: 0.979, eta: -0.955, px: 45.2, py: 67.2, pz: -89.7, ...}, ...],\n",
       " [{rho: 41.6, phi: 1.35, eta: -0.345, px: 9.23, py: 40.6, pz: -14.6, ...}, ...],\n",
       " [{rho: 44.4, phi: -1.28, eta: -1.76, px: 12.5, py: -42.5, pz: -124, ...}, ...],\n",
       " [{rho: 38.4, phi: -0.43, eta: 2.11, px: 34.9, py: -16, pz: 156, E: 160}],\n",
       " [{rho: 106, phi: 2.09, eta: 0.329, px: -53.2, py: 92, pz: 35.6, ...}, ...],\n",
       " [{rho: 85.5, phi: 2.47, eta: 0.6, px: -67, py: 53.2, pz: 54.4, ...}, ...],\n",
       " ...,\n",
       " [{rho: 35.3, phi: 1.13, eta: -2.19, px: 14.9, py: 32, pz: -156, E: 160}],\n",
       " [{rho: 42.6, phi: -2.17, eta: -0.437, px: -24.2, py: -35, pz: -19.2, ...}],\n",
       " [{rho: 43.2, phi: -1.79, eta: -1.19, px: -9.2, py: -42.2, pz: -64.3, ...}],\n",
       " [{rho: 45, phi: 0.696, eta: -1.92, px: 34.5, py: 28.8, pz: -151, ...}, ...],\n",
       " [{rho: 41.9, phi: -2.79, eta: 1.18, px: -39.3, py: -14.6, pz: 61.7, ...}],\n",
       " [{rho: 37.8, phi: -0.384, eta: 2.15, px: 35.1, py: -14.2, pz: 161, ...}],\n",
       " [{rho: 33.5, phi: -2.67, eta: -1.24, px: -29.8, py: -15.3, pz: -52.7, ...}],\n",
       " [{rho: 63.6, phi: 1.55, eta: 1.67, px: 1.14, py: 63.6, pz: 162, E: 174}],\n",
       " [{rho: 42.9, phi: -0.98, eta: 1.06, px: 23.9, py: -35.7, pz: 54.7, ...}]]\n",
       "--------------------------------------------------------------------------------\n",
       "type: 2421 * var * Momentum3D[\n",
       "    rho: float32,\n",
       "    phi: float32,\n",
       "    eta: float32,\n",
       "    px: float32,\n",
       "    py: float32,\n",
       "    pz: float32,\n",
       "    E: float32\n",
       "]</pre>"
      ],
      "text/plain": [
       "<MomentumArray3D [[{rho: 54.2, phi: ..., ...}, ...], ...] type='2421 * var ...'>"
      ]
     },
     "execution_count": 3,
     "metadata": {},
     "output_type": "execute_result"
    }
   ],
   "source": [
    "vector.register_awkward()\n",
    "\n",
    "tree = uproot.open(skhep_testdata.data_path(\"uproot-HZZ.root\"))[\"events\"]\n",
    "\n",
    "array = tree.arrays(filter_name=[\"Muon_E\", \"Muon_P[xyz]\"])\n",
    "\n",
    "muons = ak.zip(\n",
    "    {\"px\": array.Muon_Px, \"py\": array.Muon_Py, \"pz\": array.Muon_Pz, \"E\": array.Muon_E},\n",
    "    with_name=\"Momentum4D\",\n",
    ")\n",
    "mu1, mu2 = ak.unzip(ak.combinations(muons, 2))\n",
    "\n",
    "mu1 + mu2\n",
    "\n",
    "mu1.deltaR(mu2)\n",
    "\n",
    "muons.to_rhophieta()"
   ]
  },
  {
   "cell_type": "code",
   "execution_count": 4,
   "metadata": {},
   "outputs": [
    {
     "name": "stdout",
     "output_type": "stream",
     "text": [
      "Name: Z0             ID: 23           Latex: $Z^{0}$\n",
      "Mass  = 91188.0 ± 2.0 MeV\n",
      "Width = 2495.5 ± 2.3 MeV\n",
      "Q (charge)        = 0       J (total angular) = 1.0      P (space parity) = None\n",
      "C (charge parity) = None    I (isospin)       = None     G (G-parity)     = None\n",
      "    Antiparticle name: Z0 (antiparticle status: Same)\n",
      "A              None\n",
      "J              0.0\n",
      "L              0\n",
      "S              0\n",
      "Z              None\n",
      "abspid         211\n",
      "charge         1.0\n",
      "has_bottom     False\n",
      "has_charm      False\n",
      "has_down       True\n",
      "has_fundamental_anti False\n",
      "has_strange    False\n",
      "has_top        False\n",
      "has_up         True\n",
      "is_Qball       False\n",
      "is_Rhadron     False\n",
      "is_SUSY        False\n",
      "is_baryon      False\n",
      "is_diquark     False\n",
      "is_dyon        False\n",
      "is_excited_quark_or_lepton False\n",
      "is_gauge_boson_or_higgs False\n",
      "is_generator_specific False\n",
      "is_hadron      True\n",
      "is_lepton      False\n",
      "is_meson       True\n",
      "is_nucleus     False\n",
      "is_pentaquark  False\n",
      "is_quark       False\n",
      "is_sm_gauge_boson_or_higgs False\n",
      "is_sm_lepton   False\n",
      "is_sm_quark    False\n",
      "is_special_particle False\n",
      "is_technicolor False\n",
      "is_valid       True\n",
      "j_spin         1\n",
      "l_spin         1\n",
      "s_spin         1\n",
      "three_charge   3\n",
      "\n"
     ]
    },
    {
     "data": {
      "text/latex": [
       "$K^{+}$"
      ],
      "text/plain": [
       "<Particle: name=\"K+\", pdgid=321, mass=493.677 ± 0.015 MeV>"
      ]
     },
     "execution_count": 4,
     "metadata": {},
     "output_type": "execute_result"
    }
   ],
   "source": [
    "import particle\n",
    "from hepunits import GeV\n",
    "\n",
    "particle.Particle.findall(\"pi\")\n",
    "\n",
    "z_boson = particle.Particle.from_name(\"Z0\")\n",
    "z_boson.mass / GeV, z_boson.width / GeV\n",
    "\n",
    "print(z_boson.describe())\n",
    "\n",
    "particle.Particle.from_pdgid(111)\n",
    "\n",
    "particle.Particle.findall(\n",
    "    lambda p: p.pdgid.is_meson and p.pdgid.has_strange and p.pdgid.has_charm\n",
    ")\n",
    "\n",
    "print(particle.PDGID(211).info())\n",
    "\n",
    "pdgid = particle.Corsika7ID(11).to_pdgid()\n",
    "particle.Particle.from_pdgid(pdgid)"
   ]
  },
  {
   "cell_type": "code",
   "execution_count": 7,
   "metadata": {},
   "outputs": [
    {
     "name": "stdout",
     "output_type": "stream",
     "text": [
      "#--------------------------------------------------------------------------\n",
      "#                         FastJet release 3.4.2\n",
      "#                 M. Cacciari, G.P. Salam and G. Soyez                  \n",
      "#     A software package for jet finding and analysis at colliders      \n",
      "#                           http://fastjet.fr                           \n",
      "#\t                                                                      \n",
      "# Please cite EPJC72(2012)1896 [arXiv:1111.6097] if you use this package\n",
      "# for scientific work and optionally PLB641(2006)57 [hep-ph/0512210].   \n",
      "#                                                                       \n",
      "# FastJet is provided without warranty under the GNU GPL v2 or higher.  \n",
      "# It uses T. Chan's closest pair algorithm, S. Fortune's Voronoi code,\n",
      "# CGAL and 3rd party plugin jet algorithms. See COPYING file for details.\n",
      "#--------------------------------------------------------------------------\n"
     ]
    },
    {
     "data": {
      "text/plain": [
       "(<Array [24, 37, 41, 40, 18, 37, ..., 45, 15, 57, 16, 30, 42] type='100 * int64'>,\n",
       " <Array [6, 8, 7, 9, 7, 8, 7, 7, ..., 6, 7, 8, 6, 9, 7, 7, 9] type='100 * int64'>)"
      ]
     },
     "execution_count": 7,
     "metadata": {},
     "output_type": "execute_result"
    }
   ],
   "source": [
    "import skhep_testdata, uproot\n",
    "import awkward as ak\n",
    "import particle\n",
    "from hepunits import GeV\n",
    "import vector\n",
    "\n",
    "vector.register_awkward()\n",
    "\n",
    "picodst = uproot.open(\n",
    "    \"https://pivarski-princeton.s3.amazonaws.com/pythia_ppZee_run17emb.picoDst.root:PicoDst\"\n",
    ")\n",
    "px, py, pz = ak.unzip(\n",
    "    picodst.arrays(filter_name=[\"Track/Track.mPMomentum[XYZ]\"], entry_stop=100)\n",
    ")\n",
    "\n",
    "probable_mass = particle.Particle.from_name(\"pi+\").mass / GeV\n",
    "\n",
    "pseudojets = ak.zip(\n",
    "    {\"px\": px, \"py\": py, \"pz\": pz, \"mass\": probable_mass}, with_name=\"Momentum4D\"\n",
    ")\n",
    "good_pseudojets = pseudojets[pseudojets.pt > 0.1]\n",
    "\n",
    "import fastjet\n",
    "\n",
    "jetdef = fastjet.JetDefinition(fastjet.antikt_algorithm, 1.0)\n",
    "\n",
    "clusterseq = fastjet.ClusterSequence(good_pseudojets, jetdef)\n",
    "clusterseq.inclusive_jets()\n",
    "\n",
    "ak.num(good_pseudojets), ak.num(clusterseq.inclusive_jets())"
   ]
  }
 ],
 "metadata": {
  "kernelspec": {
   "display_name": "ROOT",
   "language": "python",
   "name": "python3"
  },
  "language_info": {
   "codemirror_mode": {
    "name": "ipython",
    "version": 3
   },
   "file_extension": ".py",
   "mimetype": "text/x-python",
   "name": "python",
   "nbconvert_exporter": "python",
   "pygments_lexer": "ipython3",
   "version": "3.11.7"
  }
 },
 "nbformat": 4,
 "nbformat_minor": 2
}
