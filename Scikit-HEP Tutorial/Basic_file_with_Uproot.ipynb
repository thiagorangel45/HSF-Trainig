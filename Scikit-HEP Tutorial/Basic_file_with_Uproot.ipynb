{
 "cells": [
  {
   "cell_type": "code",
   "execution_count": 1,
   "metadata": {},
   "outputs": [],
   "source": [
    "import skhep_testdata\n",
    "\n",
    "filename = skhep_testdata.data_path(\n",
    "    \"uproot-Event.root\"\n",
    ")  # downloads this test file and gets a local path to it\n",
    "\n",
    "import uproot\n",
    "\n",
    "file = uproot.open(filename)"
   ]
  },
  {
   "cell_type": "code",
   "execution_count": 2,
   "metadata": {},
   "outputs": [
    {
     "data": {
      "text/plain": [
       "['ProcessID0;1', 'htime;1', 'T;1', 'hstat;1']"
      ]
     },
     "execution_count": 2,
     "metadata": {},
     "output_type": "execute_result"
    }
   ],
   "source": [
    "file.keys()"
   ]
  },
  {
   "cell_type": "code",
   "execution_count": 3,
   "metadata": {},
   "outputs": [
    {
     "data": {
      "text/plain": [
       "{'ProcessID0;1': 'TProcessID',\n",
       " 'htime;1': 'TH1F',\n",
       " 'T;1': 'TTree',\n",
       " 'hstat;1': 'TH1F'}"
      ]
     },
     "execution_count": 3,
     "metadata": {},
     "output_type": "execute_result"
    }
   ],
   "source": [
    "file.classnames()"
   ]
  },
  {
   "cell_type": "code",
   "execution_count": 4,
   "metadata": {},
   "outputs": [
    {
     "data": {
      "text/plain": [
       "<TH1F (version 2) at 0x0001159722d0>"
      ]
     },
     "execution_count": 4,
     "metadata": {},
     "output_type": "execute_result"
    }
   ],
   "source": [
    "h = file[\"hstat\"]\n",
    "h"
   ]
  },
  {
   "cell_type": "code",
   "execution_count": 5,
   "metadata": {},
   "outputs": [
    {
     "data": {
      "text/plain": [
       "[StairsArtists(stairs=<matplotlib.patches.StepPatch object at 0x165951650>, errorbar=<ErrorbarContainer object of 3 artists>, legend_artist=<ErrorbarContainer object of 3 artists>)]"
      ]
     },
     "execution_count": 5,
     "metadata": {},
     "output_type": "execute_result"
    },
    {
     "data": {
      "image/png": "[encoded data removed]",
      "text/plain": [
       "<Figure size 640x480 with 1 Axes>"
      ]
     },
     "metadata": {},
     "output_type": "display_data"
    }
   ],
   "source": [
    "h.to_hist().plot()"
   ]
  },
  {
   "cell_type": "code",
   "execution_count": 6,
   "metadata": {},
   "outputs": [
    {
     "data": {
      "text/plain": [
       "[array([0.  , 0.01]),\n",
       " array([0.01, 0.02]),\n",
       " array([0.02, 0.03]),\n",
       " array([0.03, 0.04]),\n",
       " array([0.04, 0.05]),\n",
       " array([0.05, 0.06]),\n",
       " array([0.06, 0.07]),\n",
       " array([0.07, 0.08]),\n",
       " array([0.08, 0.09]),\n",
       " array([0.09, 0.1 ]),\n",
       " array([0.1 , 0.11]),\n",
       " array([0.11, 0.12]),\n",
       " array([0.12, 0.13]),\n",
       " array([0.13, 0.14]),\n",
       " array([0.14, 0.15]),\n",
       " array([0.15, 0.16]),\n",
       " array([0.16, 0.17]),\n",
       " array([0.17, 0.18]),\n",
       " array([0.18, 0.19]),\n",
       " array([0.19, 0.2 ]),\n",
       " array([0.2 , 0.21]),\n",
       " array([0.21, 0.22]),\n",
       " array([0.22, 0.23]),\n",
       " array([0.23, 0.24]),\n",
       " array([0.24, 0.25]),\n",
       " array([0.25, 0.26]),\n",
       " array([0.26, 0.27]),\n",
       " array([0.27, 0.28]),\n",
       " array([0.28, 0.29]),\n",
       " array([0.29, 0.3 ]),\n",
       " array([0.3 , 0.31]),\n",
       " array([0.31, 0.32]),\n",
       " array([0.32, 0.33]),\n",
       " array([0.33, 0.34]),\n",
       " array([0.34, 0.35]),\n",
       " array([0.35, 0.36]),\n",
       " array([0.36, 0.37]),\n",
       " array([0.37, 0.38]),\n",
       " array([0.38, 0.39]),\n",
       " array([0.39, 0.4 ]),\n",
       " array([0.4 , 0.41]),\n",
       " array([0.41, 0.42]),\n",
       " array([0.42, 0.43]),\n",
       " array([0.43, 0.44]),\n",
       " array([0.44, 0.45]),\n",
       " array([0.45, 0.46]),\n",
       " array([0.46, 0.47]),\n",
       " array([0.47, 0.48]),\n",
       " array([0.48, 0.49]),\n",
       " array([0.49, 0.5 ]),\n",
       " array([0.5 , 0.51]),\n",
       " array([0.51, 0.52]),\n",
       " array([0.52, 0.53]),\n",
       " array([0.53, 0.54]),\n",
       " array([0.54, 0.55]),\n",
       " array([0.55, 0.56]),\n",
       " array([0.56, 0.57]),\n",
       " array([0.57, 0.58]),\n",
       " array([0.58, 0.59]),\n",
       " array([0.59, 0.6 ]),\n",
       " array([0.6 , 0.61]),\n",
       " array([0.61, 0.62]),\n",
       " array([0.62, 0.63]),\n",
       " array([0.63, 0.64]),\n",
       " array([0.64, 0.65]),\n",
       " array([0.65, 0.66]),\n",
       " array([0.66, 0.67]),\n",
       " array([0.67, 0.68]),\n",
       " array([0.68, 0.69]),\n",
       " array([0.69, 0.7 ]),\n",
       " array([0.7 , 0.71]),\n",
       " array([0.71, 0.72]),\n",
       " array([0.72, 0.73]),\n",
       " array([0.73, 0.74]),\n",
       " array([0.74, 0.75]),\n",
       " array([0.75, 0.76]),\n",
       " array([0.76, 0.77]),\n",
       " array([0.77, 0.78]),\n",
       " array([0.78, 0.79]),\n",
       " array([0.79, 0.8 ]),\n",
       " array([0.8 , 0.81]),\n",
       " array([0.81, 0.82]),\n",
       " array([0.82, 0.83]),\n",
       " array([0.83, 0.84]),\n",
       " array([0.84, 0.85]),\n",
       " array([0.85, 0.86]),\n",
       " array([0.86, 0.87]),\n",
       " array([0.87, 0.88]),\n",
       " array([0.88, 0.89]),\n",
       " array([0.89, 0.9 ]),\n",
       " array([0.9 , 0.91]),\n",
       " array([0.91, 0.92]),\n",
       " array([0.92, 0.93]),\n",
       " array([0.93, 0.94]),\n",
       " array([0.94, 0.95]),\n",
       " array([0.95, 0.96]),\n",
       " array([0.96, 0.97]),\n",
       " array([0.97, 0.98]),\n",
       " array([0.98, 0.99]),\n",
       " array([0.99, 1.  ])]"
      ]
     },
     "execution_count": 6,
     "metadata": {},
     "output_type": "execute_result"
    }
   ],
   "source": [
    "h.values()\n",
    "h.variances()\n",
    "list(h.axes[0])  # \"x\", \"y\", \"z\" or 0, 1, 2"
   ]
  },
  {
   "cell_type": "code",
   "execution_count": 7,
   "metadata": {},
   "outputs": [
    {
     "name": "stdout",
     "output_type": "stream",
     "text": [
      "name                 | typename                 | interpretation                \n",
      "---------------------+--------------------------+-------------------------------\n",
      "event                | Event                    | AsGroup(<TBranchElement 'ev...\n",
      "event/TObject        | (group of fUniqueID:u... | AsGroup(<TBranchElement 'TO...\n",
      "event/TObject/fUn... | uint32_t                 | AsDtype('>u4')\n",
      "event/TObject/fBits  | uint32_t                 | AsDtype('>u4')\n",
      "event/fType[20]      | int8_t[20]               | AsDtype(\"('i1', (20,))\")\n",
      "event/fEventName     | char*                    | AsStrings(length_bytes='4')\n",
      "event/fNtrack        | int32_t                  | AsDtype('>i4')\n",
      "event/fNseg          | int32_t                  | AsDtype('>i4')\n",
      "event/fNvertex       | uint32_t                 | AsDtype('>u4')\n",
      "event/fFlag          | uint32_t                 | AsDtype('>u4')\n",
      "event/fTemperature   | float                    | AsDtype('>f4', 'float64')\n",
      "event/fMeasures[10]  | int32_t[10]              | AsDtype(\"('>i4', (10,))\")\n",
      "event/fMatrix[4][4]  | float[4][4]              | AsDtype(\"('>f4', (4, 4))\", ...\n",
      "event/fClosestDis... | unknown[]                | AsObjects(AsArray(False, Tr...\n",
      "event/fEvtHdr        | EventHeader              | AsGroup(<TBranchElement 'fE...\n",
      "event/fEvtHdr/fEv... | int32_t                  | AsDtype('>i4')\n",
      "event/fEvtHdr/fEv... | int32_t                  | AsDtype('>i4')\n",
      "event/fEvtHdr/fEv... | int32_t                  | AsDtype('>i4')\n",
      "event/fTracks        | TClonesArray*            | AsGroup(<TBranchElement 'fT...\n",
      "event/fTracks/fTr... | uint32_t[]               | AsJagged(AsDtype('>u4'))\n",
      "event/fTracks/fTr... | uint32_t[]               | AsJagged(AsDtype('>u4'))\n",
      "event/fTracks/fTr... | float[]                  | AsJagged(AsDtype('>f4'))\n",
      "event/fTracks/fTr... | float[]                  | AsJagged(AsDtype('>f4'))\n",
      "event/fTracks/fTr... | float[]                  | AsJagged(AsDtype('>f4'))\n",
      "event/fTracks/fTr... | float[]                  | AsJagged(AsDtype('>f4'))\n",
      "event/fTracks/fTr... | Float16_t[]              | AsJagged(AsFloat16(0.0, 0.0...\n",
      "event/fTracks/fTr... | Float16_t[]              | AsJagged(AsFloat16(0.0, 0.0...\n",
      "event/fTracks/fTr... | Float16_t[]              | AsJagged(AsFloat16(0.0, 0.0...\n",
      "event/fTracks/fTr... | float[]                  | AsJagged(AsDtype('>f4'))\n",
      "event/fTracks/fTr... | Float16_t[]              | AsJagged(AsFloat16(0, 0, 12))\n",
      "event/fTracks/fTr... | Float16_t[]              | AsJagged(AsFloat16(0, 0, 12))\n",
      "event/fTracks/fTr... | Float16_t[]              | AsJagged(AsFloat16(0, 0, 12))\n",
      "event/fTracks/fTr... | Float16_t[]              | AsJagged(AsFloat16(0, 0, 12))\n",
      "event/fTracks/fTr... | Float16_t[]              | AsJagged(AsFloat16(0, 0, 12))\n",
      "event/fTracks/fTr... | Float16_t[]              | AsJagged(AsFloat16(0, 0, 12))\n",
      "event/fTracks/fTr... | Double32_t[]             | AsJagged(AsDouble32(-1.0, 1...\n",
      "event/fTracks/fTr... | Double32_t[][3]          | AsJagged(AsDouble32(-30.0, ...\n",
      "event/fTracks/fTr... | int32_t[]                | AsJagged(AsDtype('>i4'))\n",
      "event/fTracks/fTr... | int16_t[]                | AsJagged(AsDtype('>i2'))\n",
      "event/fTracks/fTr... | uint32_t[]               | AsJagged(AsDtype('>u4'))\n",
      "event/fTracks/fTr... | unknown[][]              | AsObjects(AsArray(True, Fal...\n",
      "event/fTracks/fTr... | uint32_t[]               | AsJagged(AsDtype('>u4'))\n",
      "event/fTracks/fTr... | uint32_t[]               | AsJagged(AsDtype('>u4'))\n",
      "event/fTracks/fTr... | uint32_t[]               | AsJagged(AsDtype('>u4'))\n",
      "event/fTracks/fTr... | uint32_t[]               | AsJagged(AsDtype('>u4'))\n",
      "event/fTracks/fTr... | uint8_t[][]              | AsObjects(AsArray(True, Fal...\n",
      "event/fTracks/fTr... | float[][3]               | AsJagged(AsDtype(\"('>f4', (...\n",
      "event/fHighPt        | TRefArray*               | AsObjects(AsPointer(Model_T...\n",
      "event/fMuons         | TRefArray*               | AsObjects(AsPointer(Model_T...\n",
      "event/fLastTrack     | TRef                     | AsStridedObjects(Model_TRef)\n",
      "event/fWebHistogram  | TRef                     | AsStridedObjects(Model_TRef)\n",
      "event/fH             | TH1F                     | AsObjects(Model_TH1F)\n",
      "event/fTriggerBits   | TBits                    | AsGroup(<TBranchElement 'fT...\n",
      "event/fTriggerBit... | (group of fTriggerBit... | AsGroup(<TBranchElement 'fT...\n",
      "event/fTriggerBit... | uint32_t                 | AsDtype('>u4')\n",
      "event/fTriggerBit... | uint32_t                 | AsDtype('>u4')\n",
      "event/fTriggerBit... | uint32_t                 | AsDtype('>u4')\n",
      "event/fTriggerBit... | uint32_t                 | AsDtype('>u4')\n",
      "event/fTriggerBit... | uint8_t[]                | AsJagged(AsDtype('uint8'), ...\n",
      "event/fIsValid       | bool                     | AsDtype('bool')\n"
     ]
    }
   ],
   "source": [
    "t = file[\"T\"]\n",
    "t.show()"
   ]
  },
  {
   "cell_type": "code",
   "execution_count": 8,
   "metadata": {},
   "outputs": [
    {
     "data": {
      "text/plain": [
       "AsDtype('>i4')"
      ]
     },
     "execution_count": 8,
     "metadata": {},
     "output_type": "execute_result"
    }
   ],
   "source": [
    "t.keys()\n",
    "t[\"event/fNtrack\"]\n",
    "t[\"event/fNtrack\"].typename\n",
    "t[\"event/fNtrack\"].interpretation"
   ]
  },
  {
   "cell_type": "code",
   "execution_count": 9,
   "metadata": {},
   "outputs": [
    {
     "data": {
      "text/html": [
       "<pre>[600,\n",
       " 604,\n",
       " 603,\n",
       " 594,\n",
       " 595,\n",
       " 598,\n",
       " 595,\n",
       " 600,\n",
       " 592,\n",
       " 598,\n",
       " ...,\n",
       " 603,\n",
       " 605,\n",
       " 609,\n",
       " 599,\n",
       " 587,\n",
       " 598,\n",
       " 600,\n",
       " 596,\n",
       " 593]\n",
       "------------------\n",
       "type: 1000 * int32</pre>"
      ],
      "text/plain": [
       "<Array [600, 604, 603, 594, 595, ..., 598, 600, 596, 593] type='1000 * int32'>"
      ]
     },
     "execution_count": 9,
     "metadata": {},
     "output_type": "execute_result"
    }
   ],
   "source": [
    "t[\"event/fNtrack\"].array()"
   ]
  },
  {
   "cell_type": "code",
   "execution_count": 10,
   "metadata": {},
   "outputs": [
    {
     "data": {
      "text/plain": [
       "{'@fUniqueID': 0,\n",
       " '@fBits': 50331648,\n",
       " 'fName': 'ProcessID0',\n",
       " 'fTitle': '3ec87674-3aa2-11e9-bb02-0301a8c0beef'}"
      ]
     },
     "execution_count": 10,
     "metadata": {},
     "output_type": "execute_result"
    }
   ],
   "source": [
    "file[\"ProcessID0\"]\n",
    "file[\"ProcessID0\"].all_members"
   ]
  },
  {
   "cell_type": "code",
   "execution_count": 11,
   "metadata": {},
   "outputs": [
    {
     "data": {
      "text/plain": [
       "<STLMap {46612627560: 896, ..., 281410180683757: 2689} at 0x0001734e0b50>"
      ]
     },
     "execution_count": 11,
     "metadata": {},
     "output_type": "execute_result"
    }
   ],
   "source": [
    "icecube = uproot.open(skhep_testdata.data_path(\"uproot-issue283.root\"))\n",
    "icecube.classnames()\n",
    "\n",
    "icecube[\"config/detector\"].all_members\n",
    "icecube[\"config/detector\"].all_members[\"ChannelIDMap\"]"
   ]
  },
  {
   "cell_type": "code",
   "execution_count": 12,
   "metadata": {},
   "outputs": [
    {
     "ename": "OSError",
     "evalue": "could not read 63 bytes from the file at position 0\n\nin path: /Users/thiagorangel/IC CBPF/HSF-Training/Scikit-HEP Tutorial/existing-file.root",
     "output_type": "error",
     "traceback": [
      "\u001b[0;31m---------------------------------------------------------------------------\u001b[0m",
      "\u001b[0;31mOSError\u001b[0m                                   Traceback (most recent call last)",
      "Cell \u001b[0;32mIn[12], line 2\u001b[0m\n\u001b[1;32m      1\u001b[0m output1 \u001b[38;5;241m=\u001b[39m uproot\u001b[38;5;241m.\u001b[39mrecreate(\u001b[38;5;124m\"\u001b[39m\u001b[38;5;124mcompletely-new-file.root\u001b[39m\u001b[38;5;124m\"\u001b[39m)\n\u001b[0;32m----> 2\u001b[0m output2 \u001b[38;5;241m=\u001b[39m \u001b[43muproot\u001b[49m\u001b[38;5;241;43m.\u001b[39;49m\u001b[43mupdate\u001b[49m\u001b[43m(\u001b[49m\u001b[38;5;124;43m\"\u001b[39;49m\u001b[38;5;124;43mexisting-file.root\u001b[39;49m\u001b[38;5;124;43m\"\u001b[39;49m\u001b[43m)\u001b[49m\n",
      "File \u001b[0;32m~/anaconda3/envs/ROOT/lib/python3.11/site-packages/uproot/writing/writable.py:177\u001b[0m, in \u001b[0;36mupdate\u001b[0;34m(file_path, **options)\u001b[0m\n\u001b[1;32m    171\u001b[0m \u001b[38;5;28;01mif\u001b[39;00m options:\n\u001b[1;32m    172\u001b[0m     \u001b[38;5;28;01mraise\u001b[39;00m \u001b[38;5;167;01mTypeError\u001b[39;00m(\n\u001b[1;32m    173\u001b[0m         \u001b[38;5;124m\"\u001b[39m\u001b[38;5;124munrecognized options for uproot.update: \u001b[39m\u001b[38;5;124m\"\u001b[39m\n\u001b[1;32m    174\u001b[0m         \u001b[38;5;241m+\u001b[39m \u001b[38;5;124m\"\u001b[39m\u001b[38;5;124m, \u001b[39m\u001b[38;5;124m\"\u001b[39m\u001b[38;5;241m.\u001b[39mjoin(\u001b[38;5;28mrepr\u001b[39m(x) \u001b[38;5;28;01mfor\u001b[39;00m x \u001b[38;5;129;01min\u001b[39;00m options)\n\u001b[1;32m    175\u001b[0m     )\n\u001b[0;32m--> 177\u001b[0m cascading \u001b[38;5;241m=\u001b[39m \u001b[43muproot\u001b[49m\u001b[38;5;241;43m.\u001b[39;49m\u001b[43mwriting\u001b[49m\u001b[38;5;241;43m.\u001b[39;49m\u001b[43m_cascade\u001b[49m\u001b[38;5;241;43m.\u001b[39;49m\u001b[43mupdate_existing\u001b[49m\u001b[43m(\u001b[49m\n\u001b[1;32m    178\u001b[0m \u001b[43m    \u001b[49m\u001b[43msink\u001b[49m\u001b[43m,\u001b[49m\n\u001b[1;32m    179\u001b[0m \u001b[43m    \u001b[49m\u001b[43minitial_directory_bytes\u001b[49m\u001b[43m,\u001b[49m\n\u001b[1;32m    180\u001b[0m \u001b[43m    \u001b[49m\u001b[43muuid_function\u001b[49m\u001b[43m,\u001b[49m\n\u001b[1;32m    181\u001b[0m \u001b[43m\u001b[49m\u001b[43m)\u001b[49m\n\u001b[1;32m    182\u001b[0m \u001b[38;5;28;01mreturn\u001b[39;00m WritableFile(\n\u001b[1;32m    183\u001b[0m     sink, cascading, initial_directory_bytes, uuid_function\n\u001b[1;32m    184\u001b[0m )\u001b[38;5;241m.\u001b[39mroot_directory\n",
      "File \u001b[0;32m~/anaconda3/envs/ROOT/lib/python3.11/site-packages/uproot/writing/_cascade.py:2453\u001b[0m, in \u001b[0;36mupdate_existing\u001b[0;34m(sink, initial_directory_bytes, uuid_function)\u001b[0m\n\u001b[1;32m   2446\u001b[0m \u001b[38;5;28;01mdef\u001b[39;00m \u001b[38;5;21mupdate_existing\u001b[39m(sink, initial_directory_bytes, uuid_function):\n\u001b[1;32m   2447\u001b[0m \u001b[38;5;250m    \u001b[39m\u001b[38;5;124;03m\"\"\"\u001b[39;00m\n\u001b[1;32m   2448\u001b[0m \u001b[38;5;124;03m    Function to derive a :doc:`uproot.writing._cascade.CascadingFile` from an existing\u001b[39;00m\n\u001b[1;32m   2449\u001b[0m \u001b[38;5;124;03m    file.\u001b[39;00m\n\u001b[1;32m   2450\u001b[0m \n\u001b[1;32m   2451\u001b[0m \u001b[38;5;124;03m    This function *does* write to the file, overwriting the TStreamerInfo.\u001b[39;00m\n\u001b[1;32m   2452\u001b[0m \u001b[38;5;124;03m    \"\"\"\u001b[39;00m\n\u001b[0;32m-> 2453\u001b[0m     raw_bytes \u001b[38;5;241m=\u001b[39m \u001b[43msink\u001b[49m\u001b[38;5;241;43m.\u001b[39;49m\u001b[43mread\u001b[49m\u001b[43m(\u001b[49m\n\u001b[1;32m   2454\u001b[0m \u001b[43m        \u001b[49m\u001b[38;5;241;43m0\u001b[39;49m\u001b[43m,\u001b[49m\n\u001b[1;32m   2455\u001b[0m \u001b[43m        \u001b[49m\u001b[43muproot\u001b[49m\u001b[38;5;241;43m.\u001b[39;49m\u001b[43mreading\u001b[49m\u001b[38;5;241;43m.\u001b[39;49m\u001b[43m_file_header_fields_big\u001b[49m\u001b[38;5;241;43m.\u001b[39;49m\u001b[43msize\u001b[49m\u001b[43m,\u001b[49m\n\u001b[1;32m   2456\u001b[0m \u001b[43m        \u001b[49m\u001b[43minsist\u001b[49m\u001b[38;5;241;43m=\u001b[39;49m\u001b[43muproot\u001b[49m\u001b[38;5;241;43m.\u001b[39;49m\u001b[43mreading\u001b[49m\u001b[38;5;241;43m.\u001b[39;49m\u001b[43m_file_header_fields_small\u001b[49m\u001b[38;5;241;43m.\u001b[39;49m\u001b[43msize\u001b[49m\u001b[43m,\u001b[49m\n\u001b[1;32m   2457\u001b[0m \u001b[43m    \u001b[49m\u001b[43m)\u001b[49m\n\u001b[1;32m   2458\u001b[0m     \u001b[38;5;28;01mif\u001b[39;00m raw_bytes[:\u001b[38;5;241m4\u001b[39m] \u001b[38;5;241m!=\u001b[39m \u001b[38;5;124mb\u001b[39m\u001b[38;5;124m\"\u001b[39m\u001b[38;5;124mroot\u001b[39m\u001b[38;5;124m\"\u001b[39m:\n\u001b[1;32m   2459\u001b[0m         \u001b[38;5;28;01mraise\u001b[39;00m \u001b[38;5;167;01mValueError\u001b[39;00m(\n\u001b[1;32m   2460\u001b[0m             \u001b[38;5;124mf\u001b[39m\u001b[38;5;124m\"\u001b[39m\u001b[38;5;124mnot a ROOT file: first four bytes are \u001b[39m\u001b[38;5;132;01m{\u001b[39;00mraw_bytes[:\u001b[38;5;241m4\u001b[39m]\u001b[38;5;132;01m!r}\u001b[39;00m\u001b[38;5;132;01m{\u001b[39;00msink\u001b[38;5;241m.\u001b[39min_path\u001b[38;5;132;01m}\u001b[39;00m\u001b[38;5;124m\"\u001b[39m\n\u001b[1;32m   2461\u001b[0m         )\n",
      "File \u001b[0;32m~/anaconda3/envs/ROOT/lib/python3.11/site-packages/uproot/sink/file.py:208\u001b[0m, in \u001b[0;36mFileSink.read\u001b[0;34m(self, location, num_bytes, insist)\u001b[0m\n\u001b[1;32m    200\u001b[0m         \u001b[38;5;28;01mraise\u001b[39;00m \u001b[38;5;167;01mOSError\u001b[39;00m(\n\u001b[1;32m    201\u001b[0m             \u001b[38;5;124m\"\u001b[39m\u001b[38;5;124mcould not read \u001b[39m\u001b[38;5;132;01m{}\u001b[39;00m\u001b[38;5;124m bytes from the file at position \u001b[39m\u001b[38;5;132;01m{}\u001b[39;00m\u001b[38;5;132;01m{}\u001b[39;00m\u001b[38;5;124m\"\u001b[39m\u001b[38;5;241m.\u001b[39mformat(\n\u001b[1;32m    202\u001b[0m                 num_bytes,\n\u001b[0;32m   (...)\u001b[0m\n\u001b[1;32m    205\u001b[0m             )\n\u001b[1;32m    206\u001b[0m         )\n\u001b[1;32m    207\u001b[0m \u001b[38;5;28;01melif\u001b[39;00m \u001b[38;5;28misinstance\u001b[39m(insist, numbers\u001b[38;5;241m.\u001b[39mIntegral) \u001b[38;5;129;01mand\u001b[39;00m \u001b[38;5;28mlen\u001b[39m(out) \u001b[38;5;241m<\u001b[39m insist:\n\u001b[0;32m--> 208\u001b[0m     \u001b[38;5;28;01mraise\u001b[39;00m \u001b[38;5;167;01mOSError\u001b[39;00m(\n\u001b[1;32m    209\u001b[0m         \u001b[38;5;124m\"\u001b[39m\u001b[38;5;124mcould not read \u001b[39m\u001b[38;5;132;01m{}\u001b[39;00m\u001b[38;5;124m bytes from the file at position \u001b[39m\u001b[38;5;132;01m{}\u001b[39;00m\u001b[38;5;132;01m{}\u001b[39;00m\u001b[38;5;124m\"\u001b[39m\u001b[38;5;241m.\u001b[39mformat(\n\u001b[1;32m    210\u001b[0m             insist,\n\u001b[1;32m    211\u001b[0m             location,\n\u001b[1;32m    212\u001b[0m             \u001b[38;5;28mself\u001b[39m\u001b[38;5;241m.\u001b[39min_path,\n\u001b[1;32m    213\u001b[0m         )\n\u001b[1;32m    214\u001b[0m     )\n\u001b[1;32m    215\u001b[0m \u001b[38;5;28;01mreturn\u001b[39;00m out\n",
      "\u001b[0;31mOSError\u001b[0m: could not read 63 bytes from the file at position 0\n\nin path: /Users/thiagorangel/IC CBPF/HSF-Training/Scikit-HEP Tutorial/existing-file.root"
     ]
    }
   ],
   "source": [
    "output1 = uproot.recreate(\"completely-new-file.root\")\n",
    "output2 = uproot.update(\"existing-file.root\")"
   ]
  },
  {
   "cell_type": "code",
   "execution_count": 13,
   "metadata": {},
   "outputs": [],
   "source": [
    "output1[\"some_string\"] = \"This will be a TObjString.\"\n",
    "\n",
    "output1[\"some_histogram\"] = file[\"hstat\"]\n",
    "\n",
    "import numpy as np\n",
    "\n",
    "output1[\"nested_directory/another_histogram\"] = np.histogram(\n",
    "    np.random.normal(0, 1, 1000000)\n",
    ")"
   ]
  },
  {
   "cell_type": "code",
   "execution_count": 14,
   "metadata": {},
   "outputs": [],
   "source": [
    "import numpy as np\n",
    "\n",
    "output1[\"tree1\"] = {\n",
    "    \"x\": np.random.randint(0, 10, 1000000),\n",
    "    \"y\": np.random.normal(0, 1, 1000000),\n",
    "}\n",
    "output1[\"tree1\"].extend(\n",
    "    {\"x\": np.random.randint(0, 10, 1000000), \"y\": np.random.normal(0, 1, 1000000)}\n",
    ")\n",
    "output1[\"tree1\"].extend(\n",
    "    {\"x\": np.random.randint(0, 10, 1000000), \"y\": np.random.normal(0, 1, 1000000)}\n",
    ")"
   ]
  },
  {
   "cell_type": "code",
   "execution_count": 15,
   "metadata": {},
   "outputs": [],
   "source": [
    "output1.mktree(\"tree2\", {\"x\": np.int32, \"y\": np.float64})\n",
    "output1[\"tree2\"].extend(\n",
    "    {\"x\": np.random.randint(0, 10, 1000000), \"y\": np.random.normal(0, 1, 1000000)}\n",
    ")\n",
    "output1[\"tree2\"].extend(\n",
    "    {\"x\": np.random.randint(0, 10, 1000000), \"y\": np.random.normal(0, 1, 1000000)}\n",
    ")\n",
    "output1[\"tree2\"].extend(\n",
    "    {\"x\": np.random.randint(0, 10, 1000000), \"y\": np.random.normal(0, 1, 1000000)}\n",
    ")\n"
   ]
  },
  {
   "cell_type": "code",
   "execution_count": null,
   "metadata": {},
   "outputs": [],
   "source": []
  }
 ],
 "metadata": {
  "kernelspec": {
   "display_name": "ROOT",
   "language": "python",
   "name": "python3"
  },
  "language_info": {
   "codemirror_mode": {
    "name": "ipython",
    "version": 3
   },
   "file_extension": ".py",
   "mimetype": "text/x-python",
   "name": "python",
   "nbconvert_exporter": "python",
   "pygments_lexer": "ipython3",
   "version": "3.11.7"
  }
 },
 "nbformat": 4,
 "nbformat_minor": 2
}
