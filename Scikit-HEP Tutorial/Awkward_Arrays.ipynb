{
 "cells": [
  {
   "cell_type": "code",
   "execution_count": 1,
   "metadata": {},
   "outputs": [
    {
     "ename": "ValueError",
     "evalue": "setting an array element with a sequence. The requested array has an inhomogeneous shape after 1 dimensions. The detected shape was (5,) + inhomogeneous part.",
     "output_type": "error",
     "traceback": [
      "\u001b[0;31m---------------------------------------------------------------------------\u001b[0m",
      "\u001b[0;31mValueError\u001b[0m                                Traceback (most recent call last)",
      "Cell \u001b[0;32mIn[1], line 4\u001b[0m\n\u001b[1;32m      1\u001b[0m \u001b[38;5;28;01mimport\u001b[39;00m \u001b[38;5;21;01mnumpy\u001b[39;00m \u001b[38;5;28;01mas\u001b[39;00m \u001b[38;5;21;01mnp\u001b[39;00m\n\u001b[1;32m      3\u001b[0m \u001b[38;5;66;03m# generates a ValueError\u001b[39;00m\n\u001b[0;32m----> 4\u001b[0m \u001b[43mnp\u001b[49m\u001b[38;5;241;43m.\u001b[39;49m\u001b[43marray\u001b[49m\u001b[43m(\u001b[49m\u001b[43m[\u001b[49m\u001b[43m[\u001b[49m\u001b[38;5;241;43m0.0\u001b[39;49m\u001b[43m,\u001b[49m\u001b[43m \u001b[49m\u001b[38;5;241;43m1.1\u001b[39;49m\u001b[43m,\u001b[49m\u001b[43m \u001b[49m\u001b[38;5;241;43m2.2\u001b[39;49m\u001b[43m]\u001b[49m\u001b[43m,\u001b[49m\u001b[43m \u001b[49m\u001b[43m[\u001b[49m\u001b[43m]\u001b[49m\u001b[43m,\u001b[49m\u001b[43m \u001b[49m\u001b[43m[\u001b[49m\u001b[38;5;241;43m3.3\u001b[39;49m\u001b[43m,\u001b[49m\u001b[43m \u001b[49m\u001b[38;5;241;43m4.4\u001b[39;49m\u001b[43m]\u001b[49m\u001b[43m,\u001b[49m\u001b[43m \u001b[49m\u001b[43m[\u001b[49m\u001b[38;5;241;43m5.5\u001b[39;49m\u001b[43m]\u001b[49m\u001b[43m,\u001b[49m\u001b[43m \u001b[49m\u001b[43m[\u001b[49m\u001b[38;5;241;43m6.6\u001b[39;49m\u001b[43m,\u001b[49m\u001b[43m \u001b[49m\u001b[38;5;241;43m7.7\u001b[39;49m\u001b[43m,\u001b[49m\u001b[43m \u001b[49m\u001b[38;5;241;43m8.8\u001b[39;49m\u001b[43m,\u001b[49m\u001b[43m \u001b[49m\u001b[38;5;241;43m9.9\u001b[39;49m\u001b[43m]\u001b[49m\u001b[43m]\u001b[49m\u001b[43m)\u001b[49m\n",
      "\u001b[0;31mValueError\u001b[0m: setting an array element with a sequence. The requested array has an inhomogeneous shape after 1 dimensions. The detected shape was (5,) + inhomogeneous part."
     ]
    }
   ],
   "source": [
    "import numpy as np\n",
    "\n",
    "# generates a ValueError\n",
    "np.array([[0.0, 1.1, 2.2], [], [3.3, 4.4], [5.5], [6.6, 7.7, 8.8, 9.9]])"
   ]
  },
  {
   "cell_type": "code",
   "execution_count": 2,
   "metadata": {},
   "outputs": [
    {
     "data": {
      "text/html": [
       "<pre>[[0, 1.1, 2.2],\n",
       " [],\n",
       " [3.3, 4.4],\n",
       " [5.5],\n",
       " [6.6, 7.7, 8.8, 9.9]]\n",
       "-----------------------\n",
       "type: 5 * var * float64</pre>"
      ],
      "text/plain": [
       "<Array [[0, 1.1, 2.2], [], ..., [6.6, 7.7, 8.8, 9.9]] type='5 * var * float64'>"
      ]
     },
     "execution_count": 2,
     "metadata": {},
     "output_type": "execute_result"
    }
   ],
   "source": [
    "import awkward as ak\n",
    "\n",
    "ak.Array([[0.0, 1.1, 2.2], [], [3.3, 4.4], [5.5], [6.6, 7.7, 8.8, 9.9]])"
   ]
  },
  {
   "cell_type": "code",
   "execution_count": 5,
   "metadata": {},
   "outputs": [
    {
     "data": {
      "text/html": [
       "<pre>[[4.4],\n",
       " [],\n",
       " [7.7, 8.8, 9.9]]\n",
       "-----------------------\n",
       "type: 3 * var * float64</pre>"
      ],
      "text/plain": [
       "<Array [[4.4], [], [7.7, 8.8, 9.9]] type='3 * var * float64'>"
      ]
     },
     "execution_count": 5,
     "metadata": {},
     "output_type": "execute_result"
    }
   ],
   "source": [
    "array = ak.Array([[0.0, 1.1, 2.2], [], [3.3, 4.4], [5.5], [6.6, 7.7, 8.8, 9.9]])\n",
    "array.tolist()\n",
    "\n",
    "array[2]\n",
    "array[-1, 1]\n",
    "array[2:, 0]\n",
    "array[2:, 1:]\n",
    "#array[:, 0]"
   ]
  },
  {
   "cell_type": "code",
   "execution_count": 4,
   "metadata": {},
   "outputs": [
    {
     "data": {
      "text/html": [
       "<pre>[[3.3, 4.4],\n",
       " [5.5],\n",
       " [5.5],\n",
       " []]\n",
       "-----------------------\n",
       "type: 4 * var * float64</pre>"
      ],
      "text/plain": [
       "<Array [[3.3, 4.4], [5.5], [5.5], []] type='4 * var * float64'>"
      ]
     },
     "execution_count": 4,
     "metadata": {},
     "output_type": "execute_result"
    }
   ],
   "source": [
    "array[[True, False, True, False, True]]\n",
    "\n",
    "array[[2, 3, 3, 1]]"
   ]
  },
  {
   "cell_type": "code",
   "execution_count": 6,
   "metadata": {},
   "outputs": [
    {
     "data": {
      "text/html": [
       "<pre>[1.1,\n",
       " 4.4,\n",
       " 7.7]\n",
       "-----------------\n",
       "type: 3 * float64</pre>"
      ],
      "text/plain": [
       "<Array [1.1, 4.4, 7.7] type='3 * float64'>"
      ]
     },
     "execution_count": 6,
     "metadata": {},
     "output_type": "execute_result"
    }
   ],
   "source": [
    "ak.num(array)\n",
    "\n",
    "ak.num(array) > 0\n",
    "\n",
    "array[ak.num(array) > 0, 0]\n",
    "array[ak.num(array) > 1, 1]"
   ]
  },
  {
   "cell_type": "code",
   "execution_count": 7,
   "metadata": {},
   "outputs": [
    {
     "data": {
      "text/html": [
       "<pre>[[0, 2.2],\n",
       " [],\n",
       " [4.4],\n",
       " [],\n",
       " [6.6, 8.8]]\n",
       "-----------------------\n",
       "type: 5 * var * float64</pre>"
      ],
      "text/plain": [
       "<Array [[0, 2.2], [], [4.4], [], [6.6, 8.8]] type='5 * var * float64'>"
      ]
     },
     "execution_count": 7,
     "metadata": {},
     "output_type": "execute_result"
    }
   ],
   "source": [
    "cut = array * 10 % 2 == 0\n",
    "\n",
    "array[cut]"
   ]
  },
  {
   "cell_type": "code",
   "execution_count": 8,
   "metadata": {},
   "outputs": [],
   "source": [
    "import uproot\n",
    "\n",
    "file = uproot.open(\n",
    "    \"root://eospublic.cern.ch//eos/opendata/cms/derived-data/AOD2NanoAODOutreachTool/Run2012BC_DoubleMuParked_Muons.root\"\n",
    ")\n",
    "tree = file[\"Events\"]\n",
    "\n",
    "muon_pt = tree[\"Muon_pt\"].array(entry_stop=10)"
   ]
  },
  {
   "cell_type": "code",
   "execution_count": 9,
   "metadata": {},
   "outputs": [
    {
     "data": {
      "text/html": [
       "<pre>[[],\n",
       " [],\n",
       " [],\n",
       " [],\n",
       " [32.9, 23.7],\n",
       " [],\n",
       " [57.6, 53],\n",
       " [23.9],\n",
       " [],\n",
       " []]\n",
       "------------------------\n",
       "type: 10 * var * float32</pre>"
      ],
      "text/plain": [
       "<Array [[], [], [], [], ..., [...], [23.9], [], []] type='10 * var * float32'>"
      ]
     },
     "execution_count": 9,
     "metadata": {},
     "output_type": "execute_result"
    }
   ],
   "source": [
    "particle_cut = muon_pt > 20\n",
    "muon_pt[particle_cut]"
   ]
  },
  {
   "cell_type": "code",
   "execution_count": 10,
   "metadata": {},
   "outputs": [
    {
     "data": {
      "text/html": [
       "<pre>[[3.28, 3.64, 32.9, 23.7],\n",
       " [57.6, 53],\n",
       " [11.3, 23.9]]\n",
       "--------------------------\n",
       "type: 3 * var * float32</pre>"
      ],
      "text/plain": [
       "<Array [[3.28, 3.64, 32.9, 23.7], ..., [11.3, ...]] type='3 * var * float32'>"
      ]
     },
     "execution_count": 10,
     "metadata": {},
     "output_type": "execute_result"
    }
   ],
   "source": [
    "event_cut = ak.any(muon_pt > 20, axis=1)\n",
    "muon_pt[event_cut]"
   ]
  },
  {
   "cell_type": "code",
   "execution_count": 14,
   "metadata": {},
   "outputs": [
    {
     "data": {
      "text/html": [
       "<pre>[[3.28, 3.64, 32.9, 23.7],\n",
       " [57.6, 53],\n",
       " [11.3, 23.9]]\n",
       "-------------------------------\n",
       "type: 3 * option[var * float32]</pre>"
      ],
      "text/plain": [
       "<Array [[3.28, 3.64, 32.9, 23.7], ..., [...]] type='3 * option[var * float32]'>"
      ]
     },
     "execution_count": 14,
     "metadata": {},
     "output_type": "execute_result"
    }
   ],
   "source": [
    "event_cut = ak.max(muon_pt, axis = 1) > 20\n",
    "muon_pt[event_cut]"
   ]
  },
  {
   "cell_type": "code",
   "execution_count": 16,
   "metadata": {},
   "outputs": [
    {
     "data": {
      "text/html": [
       "<pre>[[32.9, 23.7],\n",
       " [57.6, 53],\n",
       " [23.9]]\n",
       "-----------------------\n",
       "type: 3 * var * float32</pre>"
      ],
      "text/plain": [
       "<Array [[32.9, 23.7], [57.6, 53], [23.9]] type='3 * var * float32'>"
      ]
     },
     "execution_count": 16,
     "metadata": {},
     "output_type": "execute_result"
    }
   ],
   "source": [
    "event_cut = ak.any(muon_pt > 20, axis=1)\n",
    "particle_cut = muon_pt > 20\n",
    "cleaned = muon_pt[event_cut][particle_cut[event_cut]]\n",
    "cleaned"
   ]
  },
  {
   "cell_type": "code",
   "execution_count": 17,
   "metadata": {},
   "outputs": [
    {
     "data": {
      "text/plain": [
       "[[32.911224365234375, 23.72175407409668],\n",
       " [57.6067008972168, 53.04507827758789],\n",
       " [23.906352996826172]]"
      ]
     },
     "execution_count": 17,
     "metadata": {},
     "output_type": "execute_result"
    }
   ],
   "source": [
    "cleaned = muon_pt[particle_cut]\n",
    "final_result = cleaned[event_cut]\n",
    "final_result.tolist()"
   ]
  },
  {
   "cell_type": "code",
   "execution_count": 18,
   "metadata": {},
   "outputs": [],
   "source": [
    "numbers = ak.Array([[1, 2, 3], [], [5, 7], [11]])\n",
    "letters = ak.Array([[\"a\", \"b\"], [\"c\"], [\"d\"], [\"e\", \"f\"]])\n",
    "\n",
    "pairs = ak.cartesian((numbers, letters))"
   ]
  },
  {
   "cell_type": "code",
   "execution_count": 21,
   "metadata": {},
   "outputs": [
    {
     "data": {
      "text/html": [
       "<pre>[[&#x27;a&#x27;, &#x27;b&#x27;, &#x27;a&#x27;, &#x27;b&#x27;, &#x27;a&#x27;, &#x27;b&#x27;],\n",
       " [],\n",
       " [&#x27;d&#x27;, &#x27;d&#x27;],\n",
       " [&#x27;e&#x27;, &#x27;f&#x27;]]\n",
       "--------------------------------\n",
       "type: 4 * var * string</pre>"
      ],
      "text/plain": [
       "<Array [['a', 'b', 'a', 'b', 'a', 'b'], [], ..., [...]] type='4 * var * string'>"
      ]
     },
     "execution_count": 21,
     "metadata": {},
     "output_type": "execute_result"
    }
   ],
   "source": [
    "pairs[\"0\"]\n",
    "pairs[\"1\"]"
   ]
  },
  {
   "cell_type": "code",
   "execution_count": 22,
   "metadata": {},
   "outputs": [
    {
     "data": {
      "text/plain": [
       "ArrayType(ListType(RecordType([NumpyType('float32'), NumpyType('float32'), NumpyType('float32'), NumpyType('int32')], ['pt', 'eta', 'phi', 'charge'])), 10000, None)"
      ]
     },
     "execution_count": 22,
     "metadata": {},
     "output_type": "execute_result"
    }
   ],
   "source": [
    "import uproot\n",
    "import awkward as ak\n",
    "\n",
    "file = uproot.open(\n",
    "    \"root://eospublic.cern.ch//eos/opendata/cms/derived-data/AOD2NanoAODOutreachTool/Run2012BC_DoubleMuParked_Muons.root\"\n",
    ")\n",
    "tree = file[\"Events\"]\n",
    "\n",
    "arrays = tree.arrays(filter_name=\"/Muon_(pt|eta|phi|charge)/\", entry_stop=10000)\n",
    "\n",
    "muons = ak.zip(\n",
    "    {\n",
    "        \"pt\": arrays[\"Muon_pt\"],\n",
    "        \"eta\": arrays[\"Muon_eta\"],\n",
    "        \"phi\": arrays[\"Muon_phi\"],\n",
    "        \"charge\": arrays[\"Muon_charge\"],\n",
    "    }\n",
    ")\n",
    "\n",
    "arrays.type\n",
    "muons.type"
   ]
  },
  {
   "cell_type": "code",
   "execution_count": 23,
   "metadata": {},
   "outputs": [
    {
     "data": {
      "text/plain": [
       "ArrayType(ListType(RecordType([RecordType([NumpyType('float32'), NumpyType('float32'), NumpyType('float32'), NumpyType('int32')], ['pt', 'eta', 'phi', 'charge']), RecordType([NumpyType('float32'), NumpyType('float32'), NumpyType('float32'), NumpyType('int32')], ['pt', 'eta', 'phi', 'charge'])], None)), 10000, None)"
      ]
     },
     "execution_count": 23,
     "metadata": {},
     "output_type": "execute_result"
    }
   ],
   "source": [
    "pairs = ak.combinations(muons, 2)\n",
    "\n",
    "pairs.type"
   ]
  },
  {
   "cell_type": "code",
   "execution_count": 24,
   "metadata": {},
   "outputs": [],
   "source": [
    "mu1, mu2 = ak.unzip(pairs)"
   ]
  },
  {
   "cell_type": "code",
   "execution_count": 25,
   "metadata": {},
   "outputs": [],
   "source": [
    "import numpy as np\n",
    "\n",
    "mass = np.sqrt(\n",
    "    2 * mu1.pt * mu2.pt * (np.cosh(mu1.eta - mu2.eta) - np.cos(mu1.phi - mu2.phi))\n",
    ")"
   ]
  },
  {
   "cell_type": "code",
   "execution_count": 26,
   "metadata": {},
   "outputs": [
    {
     "data": {
      "text/plain": [
       "[StairsArtists(stairs=<matplotlib.patches.StepPatch object at 0x168581e90>, errorbar=<ErrorbarContainer object of 3 artists>, legend_artist=<ErrorbarContainer object of 3 artists>)]"
      ]
     },
     "execution_count": 26,
     "metadata": {},
     "output_type": "execute_result"
    },
    {
     "data": {
      "image/png": "[encoded data removed]",
      "text/plain": [
       "<Figure size 640x480 with 1 Axes>"
      ]
     },
     "metadata": {},
     "output_type": "display_data"
    }
   ],
   "source": [
    "import hist\n",
    "\n",
    "hist.Hist(hist.axis.Regular(120, 0, 120, label=\"mass [GeV]\")).fill(\n",
    "    ak.ravel(mass)\n",
    ").plot()"
   ]
  },
  {
   "cell_type": "code",
   "execution_count": 27,
   "metadata": {},
   "outputs": [
    {
     "data": {
      "text/html": [
       "<pre>[34.4,\n",
       " 27.9,\n",
       " None,\n",
       " 26.2,\n",
       " 18.2,\n",
       " 4.52,\n",
       " 114,\n",
       " 1.57,\n",
       " 23.7,\n",
       " 0.696,\n",
       " ...,\n",
       " 3.36,\n",
       " 3.53,\n",
       " 4.26,\n",
       " 3.05,\n",
       " 2.2,\n",
       " 24.2,\n",
       " 42.9,\n",
       " 0.252,\n",
       " 93.4]\n",
       "----------------------\n",
       "type: 10000 * ?float32</pre>"
      ],
      "text/plain": [
       "<Array [34.4, 27.9, None, 26.2, ..., 42.9, 0.252, 93.4] type='10000 * ?float32'>"
      ]
     },
     "execution_count": 27,
     "metadata": {},
     "output_type": "execute_result"
    }
   ],
   "source": [
    "ak.max(mass, axis=1)"
   ]
  },
  {
   "cell_type": "code",
   "execution_count": 28,
   "metadata": {},
   "outputs": [
    {
     "data": {
      "text/html": [
       "<pre>[34.4,\n",
       " 27.9,\n",
       " 26.2,\n",
       " 18.2,\n",
       " 4.52,\n",
       " 114,\n",
       " 1.57,\n",
       " 23.7,\n",
       " 0.696,\n",
       " 27.1,\n",
       " ...,\n",
       " 3.36,\n",
       " 3.53,\n",
       " 4.26,\n",
       " 3.05,\n",
       " 2.2,\n",
       " 24.2,\n",
       " 42.9,\n",
       " 0.252,\n",
       " 93.4]\n",
       "--------------------\n",
       "type: 8880 * float32</pre>"
      ],
      "text/plain": [
       "<Array [34.4, 27.9, 26.2, 18.2, ..., 42.9, 0.252, 93.4] type='8880 * float32'>"
      ]
     },
     "execution_count": 28,
     "metadata": {},
     "output_type": "execute_result"
    }
   ],
   "source": [
    "ak.flatten(ak.max(mass, axis=1), axis=0)"
   ]
  },
  {
   "cell_type": "code",
   "execution_count": 29,
   "metadata": {},
   "outputs": [
    {
     "data": {
      "text/html": [
       "<pre>[34.4,\n",
       " 27.9,\n",
       " 26.2,\n",
       " 18.2,\n",
       " 4.52,\n",
       " 114,\n",
       " 1.57,\n",
       " 23.7,\n",
       " 0.696,\n",
       " 27.1,\n",
       " ...,\n",
       " 3.36,\n",
       " 3.53,\n",
       " 4.26,\n",
       " 3.05,\n",
       " 2.2,\n",
       " 24.2,\n",
       " 42.9,\n",
       " 0.252,\n",
       " 93.4]\n",
       "---------------------\n",
       "type: 8880 * ?float32</pre>"
      ],
      "text/plain": [
       "<Array [34.4, 27.9, 26.2, 18.2, ..., 42.9, 0.252, 93.4] type='8880 * ?float32'>"
      ]
     },
     "execution_count": 29,
     "metadata": {},
     "output_type": "execute_result"
    }
   ],
   "source": [
    "ak.max(mass[ak.num(mass) > 0], axis=1)"
   ]
  },
  {
   "cell_type": "code",
   "execution_count": 31,
   "metadata": {},
   "outputs": [
    {
     "data": {
      "text/plain": [
       "[StairsArtists(stairs=<matplotlib.patches.StepPatch object at 0x175ff89d0>, errorbar=<ErrorbarContainer object of 3 artists>, legend_artist=<ErrorbarContainer object of 3 artists>)]"
      ]
     },
     "execution_count": 31,
     "metadata": {},
     "output_type": "execute_result"
    },
    {
     "data": {
      "image/png": "[encoded data removed]",
      "text/plain": [
       "<Figure size 640x480 with 1 Axes>"
      ]
     },
     "metadata": {},
     "output_type": "display_data"
    }
   ],
   "source": [
    "cut = (mu1.charge != mu2.charge)\n",
    "hist.Hist(hist.axis.Regular(120, 0, 120, label=\"mass [GeV]\")).fill(\n",
    "\n",
    "    ak.ravel(mass[cut])\n",
    "\n",
    ").plot()"
   ]
  },
  {
   "cell_type": "code",
   "execution_count": 35,
   "metadata": {},
   "outputs": [],
   "source": [
    "import particle, hepunits\n",
    "\n",
    "zmass = particle.Particle.findall(\"Z0\")[0].mass / hepunits.GeV"
   ]
  },
  {
   "cell_type": "code",
   "execution_count": 43,
   "metadata": {},
   "outputs": [
    {
     "data": {
      "text/plain": [
       "[StairsArtists(stairs=<matplotlib.patches.StepPatch object at 0x1772969d0>, errorbar=<ErrorbarContainer object of 3 artists>, legend_artist=<ErrorbarContainer object of 3 artists>)]"
      ]
     },
     "execution_count": 43,
     "metadata": {},
     "output_type": "execute_result"
    },
    {
     "data": {
      "image/png": "[encoded data removed]",
      "text/plain": [
       "<Figure size 640x480 with 1 Axes>"
      ]
     },
     "metadata": {},
     "output_type": "display_data"
    }
   ],
   "source": [
    "which = ak.argmin(abs(mass - zmass), axis=1, keepdims=True)\n",
    "selected_mass = ak.ravel(mass[which])\n",
    "valid_mass = selected_mass[~ak.is_none(selected_mass)]\n",
    "h = hist.Hist(hist.axis.Regular(120, 0, 120, label=\"mass [GeV]\"))\n",
    "h.fill(valid_mass)\n",
    "h.plot()\n"
   ]
  },
  {
   "cell_type": "code",
   "execution_count": null,
   "metadata": {},
   "outputs": [],
   "source": []
  }
 ],
 "metadata": {
  "kernelspec": {
   "display_name": "ROOT",
   "language": "python",
   "name": "python3"
  },
  "language_info": {
   "codemirror_mode": {
    "name": "ipython",
    "version": 3
   },
   "file_extension": ".py",
   "mimetype": "text/x-python",
   "name": "python",
   "nbconvert_exporter": "python",
   "pygments_lexer": "ipython3",
   "version": "3.11.7"
  }
 },
 "nbformat": 4,
 "nbformat_minor": 2
}
