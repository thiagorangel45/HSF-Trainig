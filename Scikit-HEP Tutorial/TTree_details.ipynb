{
 "cells": [
  {
   "cell_type": "code",
   "execution_count": 1,
   "metadata": {},
   "outputs": [
    {
     "data": {
      "text/plain": [
       "{'Events;75': 'TTree', 'Events;74': 'TTree'}"
      ]
     },
     "execution_count": 1,
     "metadata": {},
     "output_type": "execute_result"
    }
   ],
   "source": [
    "import uproot\n",
    "\n",
    "file = uproot.open(\n",
    "    \"root://eospublic.cern.ch//eos/opendata/cms/derived-data/AOD2NanoAODOutreachTool/Run2012BC_DoubleMuParked_Muons.root\"\n",
    ")\n",
    "file.classnames()"
   ]
  },
  {
   "cell_type": "code",
   "execution_count": 2,
   "metadata": {},
   "outputs": [
    {
     "name": "stdout",
     "output_type": "stream",
     "text": [
      "name                 | typename                 | interpretation                \n",
      "---------------------+--------------------------+-------------------------------\n",
      "nMuon                | uint32_t                 | AsDtype('>u4')\n",
      "Muon_pt              | float[]                  | AsJagged(AsDtype('>f4'))\n",
      "Muon_eta             | float[]                  | AsJagged(AsDtype('>f4'))\n",
      "Muon_phi             | float[]                  | AsJagged(AsDtype('>f4'))\n",
      "Muon_mass            | float[]                  | AsJagged(AsDtype('>f4'))\n",
      "Muon_charge          | int32_t[]                | AsJagged(AsDtype('>i4'))\n"
     ]
    }
   ],
   "source": [
    "tree = file[\"Events\"]\n",
    "tree.show()"
   ]
  },
  {
   "cell_type": "code",
   "execution_count": 3,
   "metadata": {},
   "outputs": [
    {
     "data": {
      "text/html": [
       "<pre>[{Muon_pt: [10.8, 15.7], Muon_eta: [1.07, -0.564], Muon_phi: [...], ...},\n",
       " {Muon_pt: [10.5, 16.3], Muon_eta: [-0.428, ...], Muon_phi: [...], ...},\n",
       " {Muon_pt: [3.28], Muon_eta: [2.21], Muon_phi: [-1.22], Muon_mass: ..., ...},\n",
       " {Muon_pt: [11.4, 17.6, 9.62, 3.5], Muon_eta: [-1.59, ...], Muon_phi: ..., ...},\n",
       " {Muon_pt: [3.28, 3.64, 32.9, 23.7], Muon_eta: [-2.17, ...], ...},\n",
       " {Muon_pt: [3.57, 4.57, 4.37], Muon_eta: [-1.37, ...], Muon_phi: [...], ...},\n",
       " {Muon_pt: [57.6, 53], Muon_eta: [-0.532, -1], Muon_phi: [...], ...},\n",
       " {Muon_pt: [11.3, 23.9], Muon_eta: [-0.772, ...], Muon_phi: [...], ...},\n",
       " {Muon_pt: [10.2, 14.2], Muon_eta: [0.442, 0.702], Muon_phi: [...], ...},\n",
       " {Muon_pt: [11.5, 3.47], Muon_eta: [2.34, 2.35], Muon_phi: [...], ...},\n",
       " ...,\n",
       " {Muon_pt: [3.13, 16.9, 11], Muon_eta: [-1.43, ...], Muon_phi: [...], ...},\n",
       " {Muon_pt: [34.2, 14], Muon_eta: [-0.913, ...], Muon_phi: [...], ...},\n",
       " {Muon_pt: [14, 8.19], Muon_eta: [-0.409, ...], Muon_phi: [...], ...},\n",
       " {Muon_pt: [30.6], Muon_eta: [0.696], Muon_phi: [-1.95], Muon_mass: ..., ...},\n",
       " {Muon_pt: [22.1, 12.9, 13.4], Muon_eta: [1.97, ...], Muon_phi: [...], ...},\n",
       " {Muon_pt: [10.1, 4.34], Muon_eta: [0.833, 1.95], Muon_phi: [...], ...},\n",
       " {Muon_pt: [4.36, 15.1, 12.4], Muon_eta: [1.05, ...], Muon_phi: [...], ...},\n",
       " {Muon_pt: [17.7, 4.61, 8.79, 5.14], Muon_eta: [0.587, ...], ...},\n",
       " {Muon_pt: [28.9, 8.62, 4.51], Muon_eta: [0.917, ...], Muon_phi: [...], ...}]\n",
       "--------------------------------------------------------------------------------\n",
       "type: 1000 * {\n",
       "    Muon_pt: var * float32,\n",
       "    Muon_eta: var * float32,\n",
       "    Muon_phi: var * float32,\n",
       "    Muon_mass: var * float32,\n",
       "    Muon_charge: var * int32\n",
       "}</pre>"
      ],
      "text/plain": [
       "<Array [{Muon_pt: [...], ...}, ..., {...}] type='1000 * {Muon_pt: var * flo...'>"
      ]
     },
     "execution_count": 3,
     "metadata": {},
     "output_type": "execute_result"
    }
   ],
   "source": [
    "muons = tree.arrays(\n",
    "    [\"Muon_pt\", \"Muon_eta\", \"Muon_phi\", \"Muon_mass\", \"Muon_charge\"], entry_stop=1_000\n",
    ")\n",
    "muons"
   ]
  },
  {
   "cell_type": "code",
   "execution_count": 4,
   "metadata": {},
   "outputs": [
    {
     "data": {
      "text/html": [
       "<pre>[[-0.0343, 2.54],\n",
       " [-0.275, 2.54],\n",
       " [-1.22],\n",
       " [-2.08, 0.251, -2.01, -1.85],\n",
       " [-2.37, -2.31, -0.975, -0.773],\n",
       " [-2.91, 2.46, -3.06],\n",
       " [-0.0718, 3.09],\n",
       " [-2.25, -2.18],\n",
       " [0.678, -2.03],\n",
       " [3.13, 3.02],\n",
       " ...,\n",
       " [-1.85, -1.34, -1.31],\n",
       " [-0.607, -0.493],\n",
       " [-0.855, 0.0452],\n",
       " [-1.95],\n",
       " [0.327, -2.64, -2.63],\n",
       " [-1.54, -0.078],\n",
       " [2.11, -2.16, 2.13],\n",
       " [-0.133, -2.39, -0.225, -1.42],\n",
       " [2.08, -1.63, -1.47]]\n",
       "--------------------------------\n",
       "type: 1000 * var * float32</pre>"
      ],
      "text/plain": [
       "<Array [[-0.0343, 2.54], ..., [2.08, ..., -1.47]] type='1000 * var * float32'>"
      ]
     },
     "execution_count": 4,
     "metadata": {},
     "output_type": "execute_result"
    }
   ],
   "source": [
    "muons[\"Muon_pt\"]\n",
    "muons[\"Muon_eta\"]\n",
    "muons[\"Muon_phi\"]  # etc."
   ]
  },
  {
   "cell_type": "code",
   "execution_count": 5,
   "metadata": {},
   "outputs": [
    {
     "data": {
      "text/html": [
       "<pre>[{Muon_pt: [10.8, 15.7], Muon_eta: [1.07, -0.564], Muon_phi: [...], ...},\n",
       " {Muon_pt: [10.5, 16.3], Muon_eta: [-0.428, ...], Muon_phi: [...], ...},\n",
       " {Muon_pt: [3.28], Muon_eta: [2.21], Muon_phi: [-1.22], Muon_mass: ..., ...},\n",
       " {Muon_pt: [11.4, 17.6, 9.62, 3.5], Muon_eta: [-1.59, ...], Muon_phi: ..., ...},\n",
       " {Muon_pt: [3.28, 3.64, 32.9, 23.7], Muon_eta: [-2.17, ...], ...},\n",
       " {Muon_pt: [3.57, 4.57, 4.37], Muon_eta: [-1.37, ...], Muon_phi: [...], ...},\n",
       " {Muon_pt: [57.6, 53], Muon_eta: [-0.532, -1], Muon_phi: [...], ...},\n",
       " {Muon_pt: [11.3, 23.9], Muon_eta: [-0.772, ...], Muon_phi: [...], ...},\n",
       " {Muon_pt: [10.2, 14.2], Muon_eta: [0.442, 0.702], Muon_phi: [...], ...},\n",
       " {Muon_pt: [11.5, 3.47], Muon_eta: [2.34, 2.35], Muon_phi: [...], ...},\n",
       " ...,\n",
       " {Muon_pt: [3.13, 16.9, 11], Muon_eta: [-1.43, ...], Muon_phi: [...], ...},\n",
       " {Muon_pt: [34.2, 14], Muon_eta: [-0.913, ...], Muon_phi: [...], ...},\n",
       " {Muon_pt: [14, 8.19], Muon_eta: [-0.409, ...], Muon_phi: [...], ...},\n",
       " {Muon_pt: [30.6], Muon_eta: [0.696], Muon_phi: [-1.95], Muon_mass: ..., ...},\n",
       " {Muon_pt: [22.1, 12.9, 13.4], Muon_eta: [1.97, ...], Muon_phi: [...], ...},\n",
       " {Muon_pt: [10.1, 4.34], Muon_eta: [0.833, 1.95], Muon_phi: [...], ...},\n",
       " {Muon_pt: [4.36, 15.1, 12.4], Muon_eta: [1.05, ...], Muon_phi: [...], ...},\n",
       " {Muon_pt: [17.7, 4.61, 8.79, 5.14], Muon_eta: [0.587, ...], ...},\n",
       " {Muon_pt: [28.9, 8.62, 4.51], Muon_eta: [0.917, ...], Muon_phi: [...], ...}]\n",
       "--------------------------------------------------------------------------------\n",
       "type: 1000 * {\n",
       "    Muon_pt: var * float32,\n",
       "    Muon_eta: var * float32,\n",
       "    Muon_phi: var * float32,\n",
       "    Muon_mass: var * float32,\n",
       "    Muon_charge: var * int32\n",
       "}</pre>"
      ],
      "text/plain": [
       "<Array [{Muon_pt: [...], ...}, ..., {...}] type='1000 * {Muon_pt: var * flo...'>"
      ]
     },
     "execution_count": 5,
     "metadata": {},
     "output_type": "execute_result"
    }
   ],
   "source": [
    "tree.keys(filter_name=\"Muon_*\")\n",
    "\n",
    "tree.arrays(filter_name=\"Muon_*\", entry_stop=1_000)"
   ]
  },
  {
   "cell_type": "code",
   "execution_count": 6,
   "metadata": {},
   "outputs": [
    {
     "data": {
      "text/plain": [
       "[StairsArtists(stairs=<matplotlib.patches.StepPatch object at 0x16159c790>, errorbar=<ErrorbarContainer object of 3 artists>, legend_artist=<ErrorbarContainer object of 3 artists>)]"
      ]
     },
     "execution_count": 6,
     "metadata": {},
     "output_type": "execute_result"
    },
    {
     "data": {
      "image/png": "[encoded data removed]",
      "text/plain": [
       "<Figure size 640x480 with 1 Axes>"
      ]
     },
     "metadata": {},
     "output_type": "display_data"
    }
   ],
   "source": [
    "muons = tree.arrays(entry_stop=1_000)\n",
    "cut = muons[\"nMuon\"] == 2\n",
    "\n",
    "pt0 = muons[\"Muon_pt\", cut, 0]\n",
    "pt1 = muons[\"Muon_pt\", cut, 1]\n",
    "eta0 = muons[\"Muon_eta\", cut, 0]\n",
    "eta1 = muons[\"Muon_eta\", cut, 1]\n",
    "phi0 = muons[\"Muon_phi\", cut, 0]\n",
    "phi1 = muons[\"Muon_phi\", cut, 1]\n",
    "\n",
    "import numpy as np\n",
    "\n",
    "mass = np.sqrt(2 * pt0 * pt1 * (np.cosh(eta0 - eta1) - np.cos(phi0 - phi1)))\n",
    "\n",
    "import hist\n",
    "\n",
    "masshist = hist.Hist(hist.axis.Regular(120, 0, 120, label=\"mass [GeV]\"))\n",
    "masshist.fill(mass)\n",
    "masshist.plot()"
   ]
  },
  {
   "cell_type": "code",
   "execution_count": 7,
   "metadata": {},
   "outputs": [
    {
     "data": {
      "text/plain": [
       "['nMuon', 'Muon_pt', 'Muon_eta', 'Muon_phi']"
      ]
     },
     "execution_count": 7,
     "metadata": {},
     "output_type": "execute_result"
    }
   ],
   "source": [
    "tree.keys(filter_name=[\"nMuon\", \"/Muon_(pt|eta|phi)/\"])"
   ]
  },
  {
   "cell_type": "code",
   "execution_count": 8,
   "metadata": {},
   "outputs": [
    {
     "name": "stdout",
     "output_type": "stream",
     "text": [
      "0.02476806582367265\n",
      "0.04953244301431646\n",
      "0.07414066265691133\n",
      "0.09883069845501362\n",
      "0.12372555900786691\n",
      "0.14857022490245556\n",
      "0.1733401756663544\n",
      "0.19790541542189521\n",
      "0.2231366240587303\n",
      "0.24903843268000167\n",
      "0.2746961577914662\n",
      "0.3004716591680982\n",
      "0.3266033492495411\n",
      "0.35272515964428125\n",
      "0.37907369909915944\n",
      "0.4053174618766371\n",
      "0.4309308746433015\n",
      "0.4559705993523313\n",
      "0.4818679393653078\n",
      "0.5026042967894935\n"
     ]
    },
    {
     "data": {
      "text/plain": [
       "[StairsArtists(stairs=<matplotlib.patches.StepPatch object at 0x16f101450>, errorbar=<ErrorbarContainer object of 3 artists>, legend_artist=<ErrorbarContainer object of 3 artists>)]"
      ]
     },
     "execution_count": 8,
     "metadata": {},
     "output_type": "execute_result"
    },
    {
     "data": {
      "image/png": "[encoded data removed]",
      "text/plain": [
       "<Figure size 640x480 with 1 Axes>"
      ]
     },
     "metadata": {},
     "output_type": "display_data"
    }
   ],
   "source": [
    "masshist = hist.Hist(hist.axis.Regular(120, 0, 120, label=\"mass [GeV]\"))\n",
    "\n",
    "for muons in tree.iterate(filter_name=[\"nMuon\", \"/Muon_(pt|eta|phi)/\"]):\n",
    "    cut = muons[\"nMuon\"] == 2\n",
    "    pt0 = muons[\"Muon_pt\", cut, 0]\n",
    "    pt1 = muons[\"Muon_pt\", cut, 1]\n",
    "    eta0 = muons[\"Muon_eta\", cut, 0]\n",
    "    eta1 = muons[\"Muon_eta\", cut, 1]\n",
    "    phi0 = muons[\"Muon_phi\", cut, 0]\n",
    "    phi1 = muons[\"Muon_phi\", cut, 1]\n",
    "    mass = np.sqrt(2 * pt0 * pt1 * (np.cosh(eta0 - eta1) - np.cos(phi0 - phi1)))\n",
    "    masshist.fill(mass)\n",
    "    print(masshist.sum() / tree.num_entries)\n",
    "\n",
    "masshist.plot()"
   ]
  },
  {
   "cell_type": "code",
   "execution_count": 9,
   "metadata": {},
   "outputs": [
    {
     "data": {
      "text/html": [
       "<div>\n",
       "<style scoped>\n",
       "    .dataframe tbody tr th:only-of-type {\n",
       "        vertical-align: middle;\n",
       "    }\n",
       "\n",
       "    .dataframe tbody tr th {\n",
       "        vertical-align: top;\n",
       "    }\n",
       "\n",
       "    .dataframe thead th {\n",
       "        text-align: right;\n",
       "    }\n",
       "</style>\n",
       "<table border=\"1\" class=\"dataframe\">\n",
       "  <thead>\n",
       "    <tr style=\"text-align: right;\">\n",
       "      <th></th>\n",
       "      <th>nMuon</th>\n",
       "      <th>Muon_pt</th>\n",
       "      <th>Muon_eta</th>\n",
       "      <th>Muon_phi</th>\n",
       "      <th>Muon_mass</th>\n",
       "      <th>Muon_charge</th>\n",
       "    </tr>\n",
       "  </thead>\n",
       "  <tbody>\n",
       "    <tr>\n",
       "      <th>0</th>\n",
       "      <td>2</td>\n",
       "      <td>[10.763696670532227, 15.736522674560547]</td>\n",
       "      <td>[1.0668272972106934, -0.563786506652832]</td>\n",
       "      <td>[-0.03427272289991379, 2.5426154136657715]</td>\n",
       "      <td>[0.10565836727619171, 0.10565836727619171]</td>\n",
       "      <td>[-1, -1]</td>\n",
       "    </tr>\n",
       "    <tr>\n",
       "      <th>1</th>\n",
       "      <td>2</td>\n",
       "      <td>[10.538490295410156, 16.327096939086914]</td>\n",
       "      <td>[-0.42778006196022034, 0.34922507405281067]</td>\n",
       "      <td>[-0.2747921049594879, 2.539781332015991]</td>\n",
       "      <td>[0.10565836727619171, 0.10565836727619171]</td>\n",
       "      <td>[1, -1]</td>\n",
       "    </tr>\n",
       "    <tr>\n",
       "      <th>2</th>\n",
       "      <td>1</td>\n",
       "      <td>[3.2753264904022217]</td>\n",
       "      <td>[2.210855484008789]</td>\n",
       "      <td>[-1.2234135866165161]</td>\n",
       "      <td>[0.10565836727619171]</td>\n",
       "      <td>[1]</td>\n",
       "    </tr>\n",
       "    <tr>\n",
       "      <th>3</th>\n",
       "      <td>4</td>\n",
       "      <td>[11.429154396057129, 17.634033203125, 9.624728...</td>\n",
       "      <td>[-1.5882395505905151, -1.7511844635009766, -1....</td>\n",
       "      <td>[-2.0773041248321533, 0.25135836005210876, -2....</td>\n",
       "      <td>[0.10565836727619171, 0.10565836727619171, 0.1...</td>\n",
       "      <td>[1, 1, 1, 1]</td>\n",
       "    </tr>\n",
       "    <tr>\n",
       "      <th>4</th>\n",
       "      <td>4</td>\n",
       "      <td>[3.2834417819976807, 3.64400577545166, 32.9112...</td>\n",
       "      <td>[-2.1724836826324463, -2.18253493309021, -1.12...</td>\n",
       "      <td>[-2.3700082302093506, -2.3051390647888184, -0....</td>\n",
       "      <td>[0.10565836727619171, 0.10565836727619171, 0.1...</td>\n",
       "      <td>[-1, -1, 1, 1]</td>\n",
       "    </tr>\n",
       "    <tr>\n",
       "      <th>...</th>\n",
       "      <td>...</td>\n",
       "      <td>...</td>\n",
       "      <td>...</td>\n",
       "      <td>...</td>\n",
       "      <td>...</td>\n",
       "      <td>...</td>\n",
       "    </tr>\n",
       "    <tr>\n",
       "      <th>9995</th>\n",
       "      <td>2</td>\n",
       "      <td>[26.859142303466797, 9.353170394897461]</td>\n",
       "      <td>[1.930126667022705, 1.9606289863586426]</td>\n",
       "      <td>[2.006714105606079, 1.871167540550232]</td>\n",
       "      <td>[0.10565836727619171, 0.10565836727619171]</td>\n",
       "      <td>[1, -1]</td>\n",
       "    </tr>\n",
       "    <tr>\n",
       "      <th>9996</th>\n",
       "      <td>2</td>\n",
       "      <td>[9.003849029541016, 14.049983978271484]</td>\n",
       "      <td>[1.7759391069412231, 1.0048433542251587]</td>\n",
       "      <td>[-0.8459293246269226, 2.2061259746551514]</td>\n",
       "      <td>[0.10565836727619171, 0.10565836727619171]</td>\n",
       "      <td>[-1, 1]</td>\n",
       "    </tr>\n",
       "    <tr>\n",
       "      <th>9997</th>\n",
       "      <td>2</td>\n",
       "      <td>[30.238283157348633, 13.03593635559082]</td>\n",
       "      <td>[-1.198452353477478, -2.027805805206299]</td>\n",
       "      <td>[-2.2813563346862793, 0.6028729677200317]</td>\n",
       "      <td>[0.10565836727619171, 0.10565836727619171]</td>\n",
       "      <td>[1, -1]</td>\n",
       "    </tr>\n",
       "    <tr>\n",
       "      <th>9998</th>\n",
       "      <td>2</td>\n",
       "      <td>[17.35597038269043, 15.87411880493164]</td>\n",
       "      <td>[-0.8361367583274841, -0.8279833793640137]</td>\n",
       "      <td>[-1.4231573343276978, -1.4103615283966064]</td>\n",
       "      <td>[0.10565836727619171, 0.10565836727619171]</td>\n",
       "      <td>[1, -1]</td>\n",
       "    </tr>\n",
       "    <tr>\n",
       "      <th>9999</th>\n",
       "      <td>2</td>\n",
       "      <td>[39.6421012878418, 42.273067474365234]</td>\n",
       "      <td>[-2.0905749797821045, -1.0396558046340942]</td>\n",
       "      <td>[2.210127592086792, -0.9990832209587097]</td>\n",
       "      <td>[0.10565836727619171, 0.10565836727619171]</td>\n",
       "      <td>[1, -1]</td>\n",
       "    </tr>\n",
       "  </tbody>\n",
       "</table>\n",
       "<p>10000 rows × 6 columns</p>\n",
       "</div>"
      ],
      "text/plain": [
       "      nMuon                                            Muon_pt  \\\n",
       "0         2           [10.763696670532227, 15.736522674560547]   \n",
       "1         2           [10.538490295410156, 16.327096939086914]   \n",
       "2         1                               [3.2753264904022217]   \n",
       "3         4  [11.429154396057129, 17.634033203125, 9.624728...   \n",
       "4         4  [3.2834417819976807, 3.64400577545166, 32.9112...   \n",
       "...     ...                                                ...   \n",
       "9995      2            [26.859142303466797, 9.353170394897461]   \n",
       "9996      2            [9.003849029541016, 14.049983978271484]   \n",
       "9997      2            [30.238283157348633, 13.03593635559082]   \n",
       "9998      2             [17.35597038269043, 15.87411880493164]   \n",
       "9999      2             [39.6421012878418, 42.273067474365234]   \n",
       "\n",
       "                                               Muon_eta  \\\n",
       "0              [1.0668272972106934, -0.563786506652832]   \n",
       "1           [-0.42778006196022034, 0.34922507405281067]   \n",
       "2                                   [2.210855484008789]   \n",
       "3     [-1.5882395505905151, -1.7511844635009766, -1....   \n",
       "4     [-2.1724836826324463, -2.18253493309021, -1.12...   \n",
       "...                                                 ...   \n",
       "9995            [1.930126667022705, 1.9606289863586426]   \n",
       "9996           [1.7759391069412231, 1.0048433542251587]   \n",
       "9997           [-1.198452353477478, -2.027805805206299]   \n",
       "9998         [-0.8361367583274841, -0.8279833793640137]   \n",
       "9999         [-2.0905749797821045, -1.0396558046340942]   \n",
       "\n",
       "                                               Muon_phi  \\\n",
       "0            [-0.03427272289991379, 2.5426154136657715]   \n",
       "1              [-0.2747921049594879, 2.539781332015991]   \n",
       "2                                 [-1.2234135866165161]   \n",
       "3     [-2.0773041248321533, 0.25135836005210876, -2....   \n",
       "4     [-2.3700082302093506, -2.3051390647888184, -0....   \n",
       "...                                                 ...   \n",
       "9995             [2.006714105606079, 1.871167540550232]   \n",
       "9996          [-0.8459293246269226, 2.2061259746551514]   \n",
       "9997          [-2.2813563346862793, 0.6028729677200317]   \n",
       "9998         [-1.4231573343276978, -1.4103615283966064]   \n",
       "9999           [2.210127592086792, -0.9990832209587097]   \n",
       "\n",
       "                                              Muon_mass     Muon_charge  \n",
       "0            [0.10565836727619171, 0.10565836727619171]        [-1, -1]  \n",
       "1            [0.10565836727619171, 0.10565836727619171]         [1, -1]  \n",
       "2                                 [0.10565836727619171]             [1]  \n",
       "3     [0.10565836727619171, 0.10565836727619171, 0.1...    [1, 1, 1, 1]  \n",
       "4     [0.10565836727619171, 0.10565836727619171, 0.1...  [-1, -1, 1, 1]  \n",
       "...                                                 ...             ...  \n",
       "9995         [0.10565836727619171, 0.10565836727619171]         [1, -1]  \n",
       "9996         [0.10565836727619171, 0.10565836727619171]         [-1, 1]  \n",
       "9997         [0.10565836727619171, 0.10565836727619171]         [1, -1]  \n",
       "9998         [0.10565836727619171, 0.10565836727619171]         [1, -1]  \n",
       "9999         [0.10565836727619171, 0.10565836727619171]         [1, -1]  \n",
       "\n",
       "[10000 rows x 6 columns]"
      ]
     },
     "execution_count": 9,
     "metadata": {},
     "output_type": "execute_result"
    }
   ],
   "source": [
    "tree[\"nMuon\"].array(library=\"np\", entry_stop=10_000)\n",
    "\n",
    "tree.arrays(library=\"np\", entry_stop=10_000)\n",
    "\n",
    "tree.arrays(library=\"pd\", entry_stop=10_000)"
   ]
  }
 ],
 "metadata": {
  "kernelspec": {
   "display_name": "ROOT",
   "language": "python",
   "name": "python3"
  },
  "language_info": {
   "codemirror_mode": {
    "name": "ipython",
    "version": 3
   },
   "file_extension": ".py",
   "mimetype": "text/x-python",
   "name": "python",
   "nbconvert_exporter": "python",
   "pygments_lexer": "ipython3",
   "version": "3.11.7"
  }
 },
 "nbformat": 4,
 "nbformat_minor": 2
}
